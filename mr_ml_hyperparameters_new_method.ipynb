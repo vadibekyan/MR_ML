{
 "cells": [
  {
   "attachments": {},
   "cell_type": "markdown",
   "metadata": {},
   "source": [
    "## Importing the libraries and seting the paths"
   ]
  },
  {
   "cell_type": "code",
   "execution_count": 676,
   "metadata": {},
   "outputs": [],
   "source": [
    "from utils import open_nea_table, download_nea_table\n",
    "import pandas as pd\n",
    "import numpy as np\n",
    "import os\n",
    "import sys\n",
    "from datetime import date\n",
    "import math\n",
    "\n",
    "from sklearn.neighbors import KernelDensity\n",
    "from sklearn.svm import SVR\n",
    "from sklearn.pipeline import make_pipeline\n",
    "from sklearn.preprocessing import StandardScaler, MinMaxScaler\n",
    "\n",
    "\n",
    "import matplotlib.pyplot as plt\n",
    "import seaborn as sns\n",
    "%matplotlib inline\n",
    "\n",
    "from mr_utils import creating_MR_ML_table, creating_R_ML_table, MR_plot\n",
    "from mr_ml_utils import RF_training_with_display, RF_training\n",
    "\n",
    "\n",
    "from sklearn.model_selection import train_test_split, cross_val_score, learning_curve, GridSearchCV, cross_validate\n",
    "from sklearn.metrics import mean_squared_error, mean_absolute_error\n",
    "from sklearn.ensemble import RandomForestRegressor"
   ]
  },
  {
   "cell_type": "markdown",
   "metadata": {},
   "source": [
    "# Displaying and analysing the data"
   ]
  },
  {
   "cell_type": "code",
   "execution_count": 677,
   "metadata": {},
   "outputs": [
    {
     "name": "stderr",
     "output_type": "stream",
     "text": [
      "/home/vadibekyan/my_github/ExoCodes/utils.py:52: DtypeWarning:\n",
      "\n",
      "Columns (65) have mixed types. Specify dtype option on import or set low_memory=False.\n",
      "\n",
      "/home/vadibekyan/my_github/ExoCodes/mr_utils.py:261: SettingWithCopyWarning:\n",
      "\n",
      "\n",
      "A value is trying to be set on a copy of a slice from a DataFrame.\n",
      "Try using .loc[row_indexer,col_indexer] = value instead\n",
      "\n",
      "See the caveats in the documentation: https://pandas.pydata.org/pandas-docs/stable/user_guide/indexing.html#returning-a-view-versus-a-copy\n",
      "\n"
     ]
    }
   ],
   "source": [
    "#If needed to update the NEA table then first run  \"download_nea_table\"\n",
    "#download_nea_table()\n",
    "nea_full_table = open_nea_table()\n",
    "# Creating the final table with R, M, and Teq.\n",
    "MR_ML_table_init = creating_MR_ML_table(nea_full_table)\n",
    "\n",
    "# Selecting only planets with masses above 1 Mearh (there are very few such planets)\n",
    "# and below 13 Jup (~4000 Mearth) corresponding to Brown Dwarf mass\n",
    "MR_ML_table = MR_ML_table_init[(MR_ML_table_init.pl_bmasse > 0.1) & (MR_ML_table_init.pl_bmasse < 40000)]\n",
    "\n",
    "\n",
    "MR_ML_table['pl_bmasse_log'] = np.log10(MR_ML_table['pl_bmasse'])"
   ]
  },
  {
   "cell_type": "code",
   "execution_count": 678,
   "metadata": {},
   "outputs": [
    {
     "data": {
      "image/png": "[encoded data removed]",
      "text/plain": [
       "<Figure size 576x432 with 2 Axes>"
      ]
     },
     "metadata": {
      "needs_background": "light"
     },
     "output_type": "display_data"
    }
   ],
   "source": [
    "# Perform kernel density estimation (KDE) on the 'parameter' column\n",
    "kde = KernelDensity(bandwidth=0.2).fit(MR_ML_table['pl_bmasse_log'].values.reshape(-1, 1))\n",
    "# Calculate the density of each value in the 'parameter' column\n",
    "densities = np.exp(kde.score_samples(MR_ML_table['pl_bmasse_log'].values.reshape(-1, 1)))\n",
    "\n",
    "# Create the figure and gridspec for customizing subplot sizes\n",
    "fig = plt.figure(figsize=(8, 6))\n",
    "gs = fig.add_gridspec(2, 1, height_ratios=[1, 4], hspace=0)\n",
    "\n",
    "# Define the upper and lower subplots using gridspec\n",
    "ax_boxplot = fig.add_subplot(gs[0])\n",
    "ax_histogram = fig.add_subplot(gs[1])\n",
    "\n",
    "# Plot the boxplot in the top subplot\n",
    "boxplot_dict = ax_boxplot.boxplot(MR_ML_table['pl_bmasse_log'], vert=False, showfliers=True, widths=0.5)\n",
    "# Hide x-axis labels of the top subplot\n",
    "ax_boxplot.xaxis.set_ticklabels([])\n",
    "\n",
    "# Adjust the line width of the boxplot elements\n",
    "for element in ['boxes', 'whiskers', 'caps']:\n",
    "    plt.setp(boxplot_dict[element], linewidth=2)  # Adjust the linewidth here\n",
    "\n",
    "\n",
    "# Extract the outliers from the boxplot dictionary\n",
    "outliers = boxplot_dict['fliers'][0].get_data()\n",
    "\n",
    "# Plot the histogram in the bottom subplot\n",
    "ax_histogram.hist(MR_ML_table['pl_bmasse_log'], bins=30, density = True, alpha = 0.5)\n",
    "ax_histogram.scatter(MR_ML_table['pl_bmasse_log'], densities, color = 'black')\n",
    "\n",
    "# Add labels and adjust layout\n",
    "plt.xlabel('Mass')\n",
    "plt.tight_layout()\n"
   ]
  },
  {
   "cell_type": "code",
   "execution_count": 679,
   "metadata": {},
   "outputs": [],
   "source": [
    "MR_ML_train, MR_ML_test = train_test_split(MR_ML_table, test_size = 0.25)"
   ]
  },
  {
   "cell_type": "code",
   "execution_count": 680,
   "metadata": {},
   "outputs": [],
   "source": [
    "# This method is apparently similar to the one presented in https://github.com/YyzHarry/imbalanced-regression  https://arxiv.org/pdf/2102.09554.pdf\n",
    "def ballancing(dataframe, target_column, kde_bandwidth):\n",
    "    from sklearn.neighbors import KernelDensity\n",
    "\n",
    "    # Perform kernel density estimation (KDE) on the 'parameter' column\n",
    "    kde = KernelDensity(bandwidth=kde_bandwidth).fit(dataframe[target_column].values.reshape(-1, 1))\n",
    "\n",
    "    # Calculate the density of each value in the 'target_column' column\n",
    "    densities = np.exp(kde.score_samples(dataframe[target_column].values.reshape(-1, 1)))\n",
    "\n",
    "    # Calculate the number of times each data point should be duplicated\n",
    "    num_duplicates = (densities.max()/densities).astype(int)\n",
    "\n",
    "    # Create a new DataFrame to store the oversampled data\n",
    "    oversampled_df = pd.DataFrame(columns=dataframe.columns)\n",
    "\n",
    "    # Oversample the underrepresented regions\n",
    "    for i, row in dataframe.iterrows():\n",
    "        num_duplicates[i] = min(num_duplicates[i], 1)\n",
    "        duplicated_points = [row] * num_duplicates[i]\n",
    "        duplicated_points_df = pd.DataFrame(duplicated_points)\n",
    "        oversampled_df = pd.concat([oversampled_df, duplicated_points_df], axis=0, ignore_index=True)\n",
    "\n",
    "    #print (f'Original sample = {len(dataframe)}, balanced sample = {len(oversampled_df)} ')\n",
    "\n",
    "    return oversampled_df"
   ]
  },
  {
   "cell_type": "code",
   "execution_count": 681,
   "metadata": {},
   "outputs": [
    {
     "data": {
      "image/png": "[encoded data removed]",
      "text/plain": [
       "<Figure size 720x432 with 1 Axes>"
      ]
     },
     "metadata": {
      "needs_background": "light"
     },
     "output_type": "display_data"
    }
   ],
   "source": [
    "df = MR_ML_train.copy().reset_index().drop(columns = ['index'])\n",
    "\n",
    "oversampled_df = ballancing(df, 'pl_bmasse_log', 0.1)\n",
    "\n",
    "fig = plt.figure(2, figsize = (10,6))\n",
    "plt.hist(oversampled_df['pl_bmasse_log'], bins = 30)\n",
    "plt.xlabel('Mass')\n",
    "plt.show()"
   ]
  },
  {
   "attachments": {},
   "cell_type": "markdown",
   "metadata": {},
   "source": [
    "# Starting the Machine Learning part"
   ]
  },
  {
   "attachments": {},
   "cell_type": "markdown",
   "metadata": {},
   "source": [
    "Since the accuracy of Mass estimation is not critical, I'll make things simple (but still keeping the state-of-the-art): \n",
    "\n",
    "Use Random Forest regressor and tune HyperParameters with \"optuna\" (sometimes better than grid_search see e.g. [this](https://medium.com/mlearning-ai/hyper-parameter-tuning-through-grid-search-and-optuna-2bd89a2ece06)"
   ]
  },
  {
   "cell_type": "code",
   "execution_count": 682,
   "metadata": {},
   "outputs": [
    {
     "name": "stderr",
     "output_type": "stream",
     "text": [
      "/home/vadibekyan/my_github/ExoCodes/mr_utils.py:319: SettingWithCopyWarning:\n",
      "\n",
      "\n",
      "A value is trying to be set on a copy of a slice from a DataFrame.\n",
      "Try using .loc[row_indexer,col_indexer] = value instead\n",
      "\n",
      "See the caveats in the documentation: https://pandas.pydata.org/pandas-docs/stable/user_guide/indexing.html#returning-a-view-versus-a-copy\n",
      "\n"
     ]
    }
   ],
   "source": [
    "R_ML_table = creating_R_ML_table(nea_full_table)\n"
   ]
  },
  {
   "cell_type": "markdown",
   "metadata": {},
   "source": [
    "# Testing hyperparameters for overfitting/underfitting"
   ]
  },
  {
   "cell_type": "code",
   "execution_count": 683,
   "metadata": {},
   "outputs": [],
   "source": [
    "def modified_learning_curve(X_train, y_train, X_test, y_test, model, N, CV=5):\n",
    "    \"\"\"\n",
    "    Calculate and plot the modified learning curve for a given model.\n",
    "\n",
    "    Parameters:\n",
    "        X_train (array-like): The input features of the training dataset.\n",
    "        y_train (array-like): The target variable of the training dataset.\n",
    "        X_test (array-like): The input features of the test dataset.\n",
    "        y_test (array-like): The target variable of the test dataset.\n",
    "        model: The machine learning model used for prediction.\n",
    "        N (int): The number of data points to be used in the learning curve.\n",
    "        CV (int): The number of cross-validation folds (default: 5).\n",
    "    Returns:\n",
    "        DataFrame: The learning curve results.\n",
    "\n",
    "    \"\"\"\n",
    "\n",
    "    # Generate an array of training sizes\n",
    "    train_sizes = np.linspace(0.05, 0.99, N)\n",
    "\n",
    "    # Create an empty DataFrame to store the learning curve results\n",
    "    results = pd.DataFrame(columns=['train_size', 'mae_train_mean', 'mae_train_std', 'mae_test_mean', 'mae_test_std'],\n",
    "                           index=range(0, N))\n",
    "\n",
    "    # Iterate over the training sizes\n",
    "    for i, train_size in enumerate(train_sizes):\n",
    "        mae_train = []\n",
    "        mae_test = []\n",
    "\n",
    "        # Repeat the cross-validation process for each training size\n",
    "        for j in range(CV):\n",
    "            # Split the training set into a subset based on the current training size\n",
    "            X_train_tmp, _, y_train_tmp, _ = train_test_split(X_train, y_train, test_size=(1 - train_size))\n",
    "\n",
    "            # Fit the model on the subset of training data\n",
    "            model.fit(X_train_tmp, y_train_tmp)\n",
    "\n",
    "            # Make predictions on the test set\n",
    "            y_pred_test = model.predict(X_test)\n",
    "            y_pred_train_tmp = model.predict(X_train_tmp)\n",
    "\n",
    "            # Evaluate the model using mean absolute error\n",
    "            mae_train.append(mean_squared_error(y_train_tmp, y_pred_train_tmp))\n",
    "            mae_test.append(mean_squared_error(y_test, y_pred_test))\n",
    "\n",
    "        # Store the learning curve results in the DataFrame\n",
    "        results['train_size'][i] = len(X_train_tmp)\n",
    "        results['mae_train_mean'][i] = np.mean(mae_train)\n",
    "        results['mae_train_std'][i] = np.std(mae_train)\n",
    "        results['mae_test_mean'][i] = np.mean(mae_test)\n",
    "        results['mae_test_std'][i] = np.std(mae_test)\n",
    "\n",
    "\n",
    "    # Convert object columns to numeric type in the DataFrame\n",
    "    for column in results.columns:\n",
    "        if results[column].dtype == 'object':\n",
    "            results[column] = pd.to_numeric(results[column], errors='coerce')\n",
    "\n",
    "\n",
    "    return results"
   ]
  },
  {
   "cell_type": "code",
   "execution_count": 684,
   "metadata": {},
   "outputs": [],
   "source": [
    "def score_dataset(X, y, model, cv = 5):\n",
    "    \"\"\"\n",
    "    Calculate the mean absolute error (MAE) score for a dataset using cross-validation.\n",
    "\n",
    "    Parameters:\n",
    "        X (array-like): The input features of the dataset.\n",
    "        y (array-like): The target variable of the dataset.\n",
    "        model: The machine learning model used for prediction.\n",
    "\n",
    "    Returns:\n",
    "        float: Mean absolute error score.\n",
    "\n",
    "    \"\"\"\n",
    "\n",
    "    train_mae_list = []\n",
    "    dev_mae_list = []\n",
    "\n",
    "    for i in range(cv):\n",
    "        X_train_tmp, X_dev, y_train_tmp, y_dev = train_test_split(X, y, test_size = 1/cv)\n",
    "\n",
    "        # Oversampling the training data to balance it\n",
    "        df = pd.concat([X_train_tmp, y_train_tmp], axis = 1).reset_index().drop(columns = ['index'])\n",
    "        oversampled_df = ballancing(df, 'pl_bmasse_log', 0.1)\n",
    "\n",
    "        X_train = oversampled_df.drop(columns = ['pl_bmasse_log'])\n",
    "        y_train = oversampled_df['pl_bmasse_log']     \n",
    "\n",
    "        model.fit(X_train, y_train)\n",
    "\n",
    "        y_train_predict = model.predict(X_train)\n",
    "        train_mae = mean_squared_error(y_train, y_train_predict)\n",
    "        train_mae_list.append(train_mae)\n",
    "\n",
    "        y_dev_predict = model.predict(X_dev)\n",
    "        dev_mae = mean_squared_error(y_dev, y_dev_predict)\n",
    "        dev_mae_list.append(dev_mae)        \n",
    "        \n",
    "    train_mae_mean = np.mean(train_mae_list)\n",
    "    dev_mae_mean = np.mean(dev_mae_list)\n",
    "    mae_mean = (2*dev_mae_mean + train_mae_mean)/2\n",
    "   \n",
    "    #print (train_mae_mean, dev_mae_mean, mae_mean)\n",
    "    return train_mae_mean, dev_mae_mean, mae_mean\n"
   ]
  },
  {
   "cell_type": "code",
   "execution_count": 685,
   "metadata": {},
   "outputs": [],
   "source": [
    "def optuna_SVR_new(X_train_dev, y_train_dev, n_trials,  display=False, mae_type = 'dev_mae'):\n",
    "    \"\"\"\n",
    "    Perform hyperparameter optimization for Random Forest Regression using Optuna.\n",
    "\n",
    "    Parameters:\n",
    "        X_train (array-like): The input features of the training dataset.\n",
    "        y_train (array-like): The target variable of the training dataset.\n",
    "        n_trials (int): The number of optimization trials to perform.\n",
    "        display (bool): Whether to display optimization visualizations (default: False).\n",
    "\n",
    "    Returns:\n",
    "        dict: The best hyperparameters found during optimization.\n",
    "\n",
    "    \"\"\"\n",
    "    # Import necessary libraries and modules\n",
    "    import optuna\n",
    "    from optuna.visualization import plot_contour\n",
    "    from optuna.visualization import plot_param_importances\n",
    "\n",
    "    def objective(trial):\n",
    "        \"\"\"\n",
    "        Objective function for Optuna optimization.\n",
    "        Defines the hyperparameters to optimize and trains Random Forest Regression models with different hyperparameter configurations.\n",
    "\n",
    "        Parameters:\n",
    "            trial: An Optuna trial object.\n",
    "\n",
    "        Returns:\n",
    "            float: The score (negative mean absolute error) of the trained model.\n",
    "        \"\"\"\n",
    "        # Define the hyperparameters to optimize using Optuna's suggest methods\n",
    "        SVR_params = dict(\n",
    "            #C=trial.suggest_float(\"C\", 1e-3, 50, log = True),\n",
    "            #epsilon=trial.suggest_float(\"epsilon\", 0.01, 0.5),\n",
    "            #gamma=trial.suggest_float(\"gamma\", 1e-3, 1, log = True),\n",
    "            #degree =  trial.suggest_int('degree', 2, 7),\n",
    "        )\n",
    "\n",
    "        # Train a Random Forest Regression model with the current hyperparameter configuration\n",
    "        SVR_model = make_pipeline(StandardScaler(), SVR(**SVR_params)).fit(X_train_dev, y_train_dev)\n",
    "        \n",
    "        # Calculate the score (negative mean absolute error) using the score_dataset() function\n",
    "        train_mae_mean, dev_mae_mean, mae_mean = score_dataset(X_train_dev, y_train_dev, SVR_model)\n",
    "        if mae_type == 'mae_mean':\n",
    "            return mae_mean\n",
    "        if mae_type == 'dev_mae':\n",
    "            return dev_mae_mean\n",
    "\n",
    "    # Create an Optuna study and optimize the objective function\n",
    "    study = optuna.create_study(direction=\"minimize\")\n",
    "    study.optimize(objective, n_trials=n_trials)\n",
    "    SVR_best_params = study.best_params\n",
    "\n",
    "    # Display optimization visualizations if display is True\n",
    "    if display == True:\n",
    "        plot_param_importances(study).show()\n",
    "        plot_contour(study).show()\n",
    "\n",
    "    # Print the best hyperparameters found during optimization\n",
    "    print(f'\\nThe best hyperparameters for SVR: {SVR_best_params}')\n",
    "\n",
    "    # Return the best hyperparameters\n",
    "    return SVR_best_params\n"
   ]
  },
  {
   "cell_type": "code",
   "execution_count": 686,
   "metadata": {},
   "outputs": [],
   "source": [
    "def optuna_RF_Reg_new(X_train_dev, y_train_dev, n_trials,  display=False, mae_type = 'dev_mae'):\n",
    "    \"\"\"\n",
    "    Perform hyperparameter optimization for Random Forest Regression using Optuna.\n",
    "\n",
    "    Parameters:\n",
    "        X_train (array-like): The input features of the training dataset.\n",
    "        y_train (array-like): The target variable of the training dataset.\n",
    "        n_trials (int): The number of optimization trials to perform.\n",
    "        display (bool): Whether to display optimization visualizations (default: False).\n",
    "\n",
    "    Returns:\n",
    "        dict: The best hyperparameters found during optimization.\n",
    "\n",
    "    \"\"\"\n",
    "    # Import necessary libraries and modules\n",
    "    import optuna\n",
    "    from optuna.visualization import plot_contour\n",
    "    from optuna.visualization import plot_param_importances\n",
    "\n",
    "    def objective(trial):\n",
    "        \"\"\"\n",
    "        Objective function for Optuna optimization.\n",
    "        Defines the hyperparameters to optimize and trains Random Forest Regression models with different hyperparameter configurations.\n",
    "\n",
    "        Parameters:\n",
    "            trial: An Optuna trial object.\n",
    "\n",
    "        Returns:\n",
    "            float: The score (negative mean absolute error) of the trained model.\n",
    "        \"\"\"\n",
    "        # Define the hyperparameters to optimize using Optuna's suggest methods\n",
    "        RF_reg_params = dict(\n",
    "            n_estimators=trial.suggest_int(\"n_estimators\", 40, 100, step=20),\n",
    "            #max_depth=trial.suggest_int(\"max_depth\", 3, 800),\n",
    "            min_samples_split=trial.suggest_int(\"min_samples_split\", 20, 50),\n",
    "            #min_samples_leaf=trial.suggest_int(\"min_samples_leaf\", 1, 6),\n",
    "            #max_features=trial.suggest_int(\"max_features\", 3, len(X_train_dev.columns)+1),\n",
    "            random_state=0\n",
    "        )\n",
    "\n",
    "        # Train a Random Forest Regression model with the current hyperparameter configuration\n",
    "        RF_reg = RandomForestRegressor(**RF_reg_params).fit(X_train_dev, y_train_dev)\n",
    "        \n",
    "        # Calculate the score (negative mean absolute error) using the score_dataset() function\n",
    "        train_mae_mean, dev_mae_mean, mae_mean = score_dataset(X_train_dev, y_train_dev, RF_reg)\n",
    "        if mae_type == 'mae_mean':\n",
    "            return mae_mean\n",
    "        if mae_type == 'dev_mae':\n",
    "            return dev_mae_mean\n",
    "\n",
    "    # Create an Optuna study and optimize the objective function\n",
    "    study = optuna.create_study(direction=\"minimize\")\n",
    "    study.optimize(objective, n_trials=n_trials)\n",
    "    RFR_best_params = study.best_params\n",
    "\n",
    "    # Display optimization visualizations if display is True\n",
    "    if display == True:\n",
    "        plot_param_importances(study).show()\n",
    "        plot_contour(study).show()\n",
    "\n",
    "    # Print the best hyperparameters found during optimization\n",
    "    print(f'\\nThe best hyperparameters for RF Regressor: {RFR_best_params}')\n",
    "\n",
    "    # Return the best hyperparameters\n",
    "    return RFR_best_params\n"
   ]
  },
  {
   "cell_type": "code",
   "execution_count": 687,
   "metadata": {},
   "outputs": [],
   "source": [
    "def SVR_training_with_display_new(X_train_dev, y_train_dev, n_trials=20, display=False, mae_type = 'dev_mae'):\n",
    "    \"\"\"\n",
    "    Train a SVR model with hyperparameter optimization and display intermediate results.\n",
    "\n",
    "    Parameters:\n",
    "        X (array-like): The input features of the dataset.\n",
    "        y (array-like): The target variable of the dataset.\n",
    "        n_trials (int): The number of optimization trials to perform (default: 20).\n",
    "        display (bool): Whether to display intermediate training results (default: False).\n",
    "\n",
    "    Returns:\n",
    "        tuple: The best model, final trained model on the training data, and final trained model on the full data.\n",
    "\n",
    "    \"\"\"\n",
    "\n",
    "    # Create a base SV Regression model\n",
    "    SVR_base_model = make_pipeline(StandardScaler(), SVR())\n",
    "\n",
    "    # Calculate the base mean absolute error (MAE) score from the training set\n",
    "    train_mae_mean, dev_mae_mean, mae_mean = score_dataset(X_train_dev, y_train_dev, SVR_base_model)\n",
    "\n",
    "    # Print the base MAE scores\n",
    "    print(f'The base MAE test =  {dev_mae_mean:.2f}; MAE train = {train_mae_mean:.2f}; MAE mean = {mae_mean:.2f}')\n",
    "\n",
    "    # Perform hyperparameter optimization using Optuna and obtain the best hyperparameters\n",
    "    SVR_best_params = optuna_SVR_new(X_train_dev, y_train_dev, n_trials, display=display, mae_type = mae_type)\n",
    "\n",
    "    # Create the best model with the obtained hyperparameters\n",
    "    best_model = make_pipeline(StandardScaler(), SVR(**SVR_best_params))\n",
    "\n",
    "    # Train the final model on the training data using the best hyperparameters\n",
    "    final_trained_model_train_data = best_model.fit(X_train_dev, y_train_dev)\n",
    "\n",
    "    # Make predictions on the training and test sets using the final trained model on the training data\n",
    "    y_train_dev_predict = final_trained_model_train_data.predict(X_train_dev)\n",
    "\n",
    "\n",
    "    # Return the best model, final trained model on the training data, and final trained model on the full data\n",
    "    return best_model, final_trained_model_train_data"
   ]
  },
  {
   "cell_type": "code",
   "execution_count": 688,
   "metadata": {},
   "outputs": [],
   "source": [
    "def RF_training_with_display_new(X_train_dev, y_train_dev, n_trials=20, display=False, mae_type = 'dev_mae'):\n",
    "    \"\"\"\n",
    "    Train a Random Forest Regression model with hyperparameter optimization and display intermediate results.\n",
    "\n",
    "    Parameters:\n",
    "        X (array-like): The input features of the dataset.\n",
    "        y (array-like): The target variable of the dataset.\n",
    "        n_trials (int): The number of optimization trials to perform (default: 20).\n",
    "        display (bool): Whether to display intermediate training results (default: False).\n",
    "\n",
    "    Returns:\n",
    "        tuple: The best model, final trained model on the training data, and final trained model on the full data.\n",
    "\n",
    "    \"\"\"\n",
    "\n",
    "    # Create a base Random Forest Regression model\n",
    "    RFR_base_model = RandomForestRegressor(random_state=0)\n",
    "    # Calculate the base mean absolute error (MAE) score from the training set\n",
    "    train_mae_mean, dev_mae_mean, mae_mean = score_dataset(X_train_dev, y_train_dev, RFR_base_model)\n",
    "\n",
    "    # Print the base MAE scores\n",
    "    print(f'The base MAE test =  {dev_mae_mean:.2f}; MAE train = {train_mae_mean:.2f}; MAE mean = {mae_mean:.2f}')\n",
    "\n",
    "    # Perform hyperparameter optimization using Optuna and obtain the best hyperparameters\n",
    "    RFR_best_params = optuna_RF_Reg_new(X_train_dev, y_train_dev, n_trials, display=display, mae_type = mae_type)\n",
    "\n",
    "    # Create the best model with the obtained hyperparameters\n",
    "    best_model = RandomForestRegressor(**RFR_best_params)\n",
    "\n",
    "    # Train the final model on the training data using the best hyperparameters\n",
    "    final_trained_model_train_data = RandomForestRegressor(**RFR_best_params).fit(X_train_dev, y_train_dev)\n",
    "\n",
    "    # Make predictions on the training and test sets using the final trained model on the training data\n",
    "    y_train_dev_predict = final_trained_model_train_data.predict(X_train_dev)\n",
    "\n",
    "\n",
    "    # Return the best model, final trained model on the training data, and final trained model on the full data\n",
    "    return best_model, final_trained_model_train_data"
   ]
  },
  {
   "cell_type": "markdown",
   "metadata": {},
   "source": [
    "# Training on logarithmic Mass\n",
    "\n",
    "The masses of planets range from 0.07 to 6388 Mearth, with a mean and median values of ~340 and 160 MEarth. The skewed and bimodal distribution of the masses seems to lead to overestimation of the prediced masses and some 'strange' patterns (this might be also due to overfitting?). Better to train the model on log Masses."
   ]
  },
  {
   "cell_type": "code",
   "execution_count": 689,
   "metadata": {},
   "outputs": [],
   "source": [
    "logMR_ML_table = MR_ML_train.copy()\n",
    "logMR_ML_table['pl_bmasse_log'] = np.log10(logMR_ML_table['pl_bmasse'])\n",
    "\n",
    "y_log = logMR_ML_table['pl_bmasse_log']\n",
    "X_log = logMR_ML_table.drop(columns=['pl_bmasse', 'pl_bmasse_log'])\n"
   ]
  },
  {
   "cell_type": "code",
   "execution_count": 690,
   "metadata": {},
   "outputs": [
    {
     "name": "stderr",
     "output_type": "stream",
     "text": [
      "\u001b[32m[I 2023-07-28 16:18:37,926]\u001b[0m A new study created in memory with name: no-name-359bf1a5-4933-4124-b40e-c85641f42332\u001b[0m\n"
     ]
    },
    {
     "name": "stdout",
     "output_type": "stream",
     "text": [
      "The base MAE test =  0.12; MAE train = 0.08; MAE mean = 0.16\n"
     ]
    },
    {
     "name": "stderr",
     "output_type": "stream",
     "text": [
      "\u001b[32m[I 2023-07-28 16:18:40,752]\u001b[0m Trial 0 finished with value: 0.11419184733160415 and parameters: {}. Best is trial 0 with value: 0.11419184733160415.\u001b[0m\n",
      "\u001b[32m[I 2023-07-28 16:18:43,465]\u001b[0m Trial 1 finished with value: 0.114934844666682 and parameters: {}. Best is trial 0 with value: 0.11419184733160415.\u001b[0m\n"
     ]
    },
    {
     "data": {
      "application/vnd.plotly.v1+json": {
       "config": {
        "plotlyServerURL": "https://plot.ly"
       },
       "data": [],
       "layout": {
        "showlegend": false,
        "template": {
         "data": {
          "bar": [
           {
            "error_x": {
             "color": "#2a3f5f"
            },
            "error_y": {
             "color": "#2a3f5f"
            },
            "marker": {
             "line": {
              "color": "#E5ECF6",
              "width": 0.5
             },
             "pattern": {
              "fillmode": "overlay",
              "size": 10,
              "solidity": 0.2
             }
            },
            "type": "bar"
           }
          ],
          "barpolar": [
           {
            "marker": {
             "line": {
              "color": "#E5ECF6",
              "width": 0.5
             },
             "pattern": {
              "fillmode": "overlay",
              "size": 10,
              "solidity": 0.2
             }
            },
            "type": "barpolar"
           }
          ],
          "carpet": [
           {
            "aaxis": {
             "endlinecolor": "#2a3f5f",
             "gridcolor": "white",
             "linecolor": "white",
             "minorgridcolor": "white",
             "startlinecolor": "#2a3f5f"
            },
            "baxis": {
             "endlinecolor": "#2a3f5f",
             "gridcolor": "white",
             "linecolor": "white",
             "minorgridcolor": "white",
             "startlinecolor": "#2a3f5f"
            },
            "type": "carpet"
           }
          ],
          "choropleth": [
           {
            "colorbar": {
             "outlinewidth": 0,
             "ticks": ""
            },
            "type": "choropleth"
           }
          ],
          "contour": [
           {
            "colorbar": {
             "outlinewidth": 0,
             "ticks": ""
            },
            "colorscale": [
             [
              0,
              "#0d0887"
             ],
             [
              0.1111111111111111,
              "#46039f"
             ],
             [
              0.2222222222222222,
              "#7201a8"
             ],
             [
              0.3333333333333333,
              "#9c179e"
             ],
             [
              0.4444444444444444,
              "#bd3786"
             ],
             [
              0.5555555555555556,
              "#d8576b"
             ],
             [
              0.6666666666666666,
              "#ed7953"
             ],
             [
              0.7777777777777778,
              "#fb9f3a"
             ],
             [
              0.8888888888888888,
              "#fdca26"
             ],
             [
              1,
              "#f0f921"
             ]
            ],
            "type": "contour"
           }
          ],
          "contourcarpet": [
           {
            "colorbar": {
             "outlinewidth": 0,
             "ticks": ""
            },
            "type": "contourcarpet"
           }
          ],
          "heatmap": [
           {
            "colorbar": {
             "outlinewidth": 0,
             "ticks": ""
            },
            "colorscale": [
             [
              0,
              "#0d0887"
             ],
             [
              0.1111111111111111,
              "#46039f"
             ],
             [
              0.2222222222222222,
              "#7201a8"
             ],
             [
              0.3333333333333333,
              "#9c179e"
             ],
             [
              0.4444444444444444,
              "#bd3786"
             ],
             [
              0.5555555555555556,
              "#d8576b"
             ],
             [
              0.6666666666666666,
              "#ed7953"
             ],
             [
              0.7777777777777778,
              "#fb9f3a"
             ],
             [
              0.8888888888888888,
              "#fdca26"
             ],
             [
              1,
              "#f0f921"
             ]
            ],
            "type": "heatmap"
           }
          ],
          "heatmapgl": [
           {
            "colorbar": {
             "outlinewidth": 0,
             "ticks": ""
            },
            "colorscale": [
             [
              0,
              "#0d0887"
             ],
             [
              0.1111111111111111,
              "#46039f"
             ],
             [
              0.2222222222222222,
              "#7201a8"
             ],
             [
              0.3333333333333333,
              "#9c179e"
             ],
             [
              0.4444444444444444,
              "#bd3786"
             ],
             [
              0.5555555555555556,
              "#d8576b"
             ],
             [
              0.6666666666666666,
              "#ed7953"
             ],
             [
              0.7777777777777778,
              "#fb9f3a"
             ],
             [
              0.8888888888888888,
              "#fdca26"
             ],
             [
              1,
              "#f0f921"
             ]
            ],
            "type": "heatmapgl"
           }
          ],
          "histogram": [
           {
            "marker": {
             "pattern": {
              "fillmode": "overlay",
              "size": 10,
              "solidity": 0.2
             }
            },
            "type": "histogram"
           }
          ],
          "histogram2d": [
           {
            "colorbar": {
             "outlinewidth": 0,
             "ticks": ""
            },
            "colorscale": [
             [
              0,
              "#0d0887"
             ],
             [
              0.1111111111111111,
              "#46039f"
             ],
             [
              0.2222222222222222,
              "#7201a8"
             ],
             [
              0.3333333333333333,
              "#9c179e"
             ],
             [
              0.4444444444444444,
              "#bd3786"
             ],
             [
              0.5555555555555556,
              "#d8576b"
             ],
             [
              0.6666666666666666,
              "#ed7953"
             ],
             [
              0.7777777777777778,
              "#fb9f3a"
             ],
             [
              0.8888888888888888,
              "#fdca26"
             ],
             [
              1,
              "#f0f921"
             ]
            ],
            "type": "histogram2d"
           }
          ],
          "histogram2dcontour": [
           {
            "colorbar": {
             "outlinewidth": 0,
             "ticks": ""
            },
            "colorscale": [
             [
              0,
              "#0d0887"
             ],
             [
              0.1111111111111111,
              "#46039f"
             ],
             [
              0.2222222222222222,
              "#7201a8"
             ],
             [
              0.3333333333333333,
              "#9c179e"
             ],
             [
              0.4444444444444444,
              "#bd3786"
             ],
             [
              0.5555555555555556,
              "#d8576b"
             ],
             [
              0.6666666666666666,
              "#ed7953"
             ],
             [
              0.7777777777777778,
              "#fb9f3a"
             ],
             [
              0.8888888888888888,
              "#fdca26"
             ],
             [
              1,
              "#f0f921"
             ]
            ],
            "type": "histogram2dcontour"
           }
          ],
          "mesh3d": [
           {
            "colorbar": {
             "outlinewidth": 0,
             "ticks": ""
            },
            "type": "mesh3d"
           }
          ],
          "parcoords": [
           {
            "line": {
             "colorbar": {
              "outlinewidth": 0,
              "ticks": ""
             }
            },
            "type": "parcoords"
           }
          ],
          "pie": [
           {
            "automargin": true,
            "type": "pie"
           }
          ],
          "scatter": [
           {
            "fillpattern": {
             "fillmode": "overlay",
             "size": 10,
             "solidity": 0.2
            },
            "type": "scatter"
           }
          ],
          "scatter3d": [
           {
            "line": {
             "colorbar": {
              "outlinewidth": 0,
              "ticks": ""
             }
            },
            "marker": {
             "colorbar": {
              "outlinewidth": 0,
              "ticks": ""
             }
            },
            "type": "scatter3d"
           }
          ],
          "scattercarpet": [
           {
            "marker": {
             "colorbar": {
              "outlinewidth": 0,
              "ticks": ""
             }
            },
            "type": "scattercarpet"
           }
          ],
          "scattergeo": [
           {
            "marker": {
             "colorbar": {
              "outlinewidth": 0,
              "ticks": ""
             }
            },
            "type": "scattergeo"
           }
          ],
          "scattergl": [
           {
            "marker": {
             "colorbar": {
              "outlinewidth": 0,
              "ticks": ""
             }
            },
            "type": "scattergl"
           }
          ],
          "scattermapbox": [
           {
            "marker": {
             "colorbar": {
              "outlinewidth": 0,
              "ticks": ""
             }
            },
            "type": "scattermapbox"
           }
          ],
          "scatterpolar": [
           {
            "marker": {
             "colorbar": {
              "outlinewidth": 0,
              "ticks": ""
             }
            },
            "type": "scatterpolar"
           }
          ],
          "scatterpolargl": [
           {
            "marker": {
             "colorbar": {
              "outlinewidth": 0,
              "ticks": ""
             }
            },
            "type": "scatterpolargl"
           }
          ],
          "scatterternary": [
           {
            "marker": {
             "colorbar": {
              "outlinewidth": 0,
              "ticks": ""
             }
            },
            "type": "scatterternary"
           }
          ],
          "surface": [
           {
            "colorbar": {
             "outlinewidth": 0,
             "ticks": ""
            },
            "colorscale": [
             [
              0,
              "#0d0887"
             ],
             [
              0.1111111111111111,
              "#46039f"
             ],
             [
              0.2222222222222222,
              "#7201a8"
             ],
             [
              0.3333333333333333,
              "#9c179e"
             ],
             [
              0.4444444444444444,
              "#bd3786"
             ],
             [
              0.5555555555555556,
              "#d8576b"
             ],
             [
              0.6666666666666666,
              "#ed7953"
             ],
             [
              0.7777777777777778,
              "#fb9f3a"
             ],
             [
              0.8888888888888888,
              "#fdca26"
             ],
             [
              1,
              "#f0f921"
             ]
            ],
            "type": "surface"
           }
          ],
          "table": [
           {
            "cells": {
             "fill": {
              "color": "#EBF0F8"
             },
             "line": {
              "color": "white"
             }
            },
            "header": {
             "fill": {
              "color": "#C8D4E3"
             },
             "line": {
              "color": "white"
             }
            },
            "type": "table"
           }
          ]
         },
         "layout": {
          "annotationdefaults": {
           "arrowcolor": "#2a3f5f",
           "arrowhead": 0,
           "arrowwidth": 1
          },
          "autotypenumbers": "strict",
          "coloraxis": {
           "colorbar": {
            "outlinewidth": 0,
            "ticks": ""
           }
          },
          "colorscale": {
           "diverging": [
            [
             0,
             "#8e0152"
            ],
            [
             0.1,
             "#c51b7d"
            ],
            [
             0.2,
             "#de77ae"
            ],
            [
             0.3,
             "#f1b6da"
            ],
            [
             0.4,
             "#fde0ef"
            ],
            [
             0.5,
             "#f7f7f7"
            ],
            [
             0.6,
             "#e6f5d0"
            ],
            [
             0.7,
             "#b8e186"
            ],
            [
             0.8,
             "#7fbc41"
            ],
            [
             0.9,
             "#4d9221"
            ],
            [
             1,
             "#276419"
            ]
           ],
           "sequential": [
            [
             0,
             "#0d0887"
            ],
            [
             0.1111111111111111,
             "#46039f"
            ],
            [
             0.2222222222222222,
             "#7201a8"
            ],
            [
             0.3333333333333333,
             "#9c179e"
            ],
            [
             0.4444444444444444,
             "#bd3786"
            ],
            [
             0.5555555555555556,
             "#d8576b"
            ],
            [
             0.6666666666666666,
             "#ed7953"
            ],
            [
             0.7777777777777778,
             "#fb9f3a"
            ],
            [
             0.8888888888888888,
             "#fdca26"
            ],
            [
             1,
             "#f0f921"
            ]
           ],
           "sequentialminus": [
            [
             0,
             "#0d0887"
            ],
            [
             0.1111111111111111,
             "#46039f"
            ],
            [
             0.2222222222222222,
             "#7201a8"
            ],
            [
             0.3333333333333333,
             "#9c179e"
            ],
            [
             0.4444444444444444,
             "#bd3786"
            ],
            [
             0.5555555555555556,
             "#d8576b"
            ],
            [
             0.6666666666666666,
             "#ed7953"
            ],
            [
             0.7777777777777778,
             "#fb9f3a"
            ],
            [
             0.8888888888888888,
             "#fdca26"
            ],
            [
             1,
             "#f0f921"
            ]
           ]
          },
          "colorway": [
           "#636efa",
           "#EF553B",
           "#00cc96",
           "#ab63fa",
           "#FFA15A",
           "#19d3f3",
           "#FF6692",
           "#B6E880",
           "#FF97FF",
           "#FECB52"
          ],
          "font": {
           "color": "#2a3f5f"
          },
          "geo": {
           "bgcolor": "white",
           "lakecolor": "white",
           "landcolor": "#E5ECF6",
           "showlakes": true,
           "showland": true,
           "subunitcolor": "white"
          },
          "hoverlabel": {
           "align": "left"
          },
          "hovermode": "closest",
          "mapbox": {
           "style": "light"
          },
          "paper_bgcolor": "white",
          "plot_bgcolor": "#E5ECF6",
          "polar": {
           "angularaxis": {
            "gridcolor": "white",
            "linecolor": "white",
            "ticks": ""
           },
           "bgcolor": "#E5ECF6",
           "radialaxis": {
            "gridcolor": "white",
            "linecolor": "white",
            "ticks": ""
           }
          },
          "scene": {
           "xaxis": {
            "backgroundcolor": "#E5ECF6",
            "gridcolor": "white",
            "gridwidth": 2,
            "linecolor": "white",
            "showbackground": true,
            "ticks": "",
            "zerolinecolor": "white"
           },
           "yaxis": {
            "backgroundcolor": "#E5ECF6",
            "gridcolor": "white",
            "gridwidth": 2,
            "linecolor": "white",
            "showbackground": true,
            "ticks": "",
            "zerolinecolor": "white"
           },
           "zaxis": {
            "backgroundcolor": "#E5ECF6",
            "gridcolor": "white",
            "gridwidth": 2,
            "linecolor": "white",
            "showbackground": true,
            "ticks": "",
            "zerolinecolor": "white"
           }
          },
          "shapedefaults": {
           "line": {
            "color": "#2a3f5f"
           }
          },
          "ternary": {
           "aaxis": {
            "gridcolor": "white",
            "linecolor": "white",
            "ticks": ""
           },
           "baxis": {
            "gridcolor": "white",
            "linecolor": "white",
            "ticks": ""
           },
           "bgcolor": "#E5ECF6",
           "caxis": {
            "gridcolor": "white",
            "linecolor": "white",
            "ticks": ""
           }
          },
          "title": {
           "x": 0.05
          },
          "xaxis": {
           "automargin": true,
           "gridcolor": "white",
           "linecolor": "white",
           "ticks": "",
           "title": {
            "standoff": 15
           },
           "zerolinecolor": "white",
           "zerolinewidth": 2
          },
          "yaxis": {
           "automargin": true,
           "gridcolor": "white",
           "linecolor": "white",
           "ticks": "",
           "title": {
            "standoff": 15
           },
           "zerolinecolor": "white",
           "zerolinewidth": 2
          }
         }
        },
        "title": {
         "text": "Hyperparameter Importances"
        },
        "xaxis": {
         "title": {
          "text": "Importance for Objective Value"
         }
        },
        "yaxis": {
         "title": {
          "text": "Hyperparameter"
         }
        }
       }
      }
     },
     "metadata": {},
     "output_type": "display_data"
    },
    {
     "data": {
      "application/vnd.plotly.v1+json": {
       "config": {
        "plotlyServerURL": "https://plot.ly"
       },
       "data": [],
       "layout": {
        "template": {
         "data": {
          "bar": [
           {
            "error_x": {
             "color": "#2a3f5f"
            },
            "error_y": {
             "color": "#2a3f5f"
            },
            "marker": {
             "line": {
              "color": "#E5ECF6",
              "width": 0.5
             },
             "pattern": {
              "fillmode": "overlay",
              "size": 10,
              "solidity": 0.2
             }
            },
            "type": "bar"
           }
          ],
          "barpolar": [
           {
            "marker": {
             "line": {
              "color": "#E5ECF6",
              "width": 0.5
             },
             "pattern": {
              "fillmode": "overlay",
              "size": 10,
              "solidity": 0.2
             }
            },
            "type": "barpolar"
           }
          ],
          "carpet": [
           {
            "aaxis": {
             "endlinecolor": "#2a3f5f",
             "gridcolor": "white",
             "linecolor": "white",
             "minorgridcolor": "white",
             "startlinecolor": "#2a3f5f"
            },
            "baxis": {
             "endlinecolor": "#2a3f5f",
             "gridcolor": "white",
             "linecolor": "white",
             "minorgridcolor": "white",
             "startlinecolor": "#2a3f5f"
            },
            "type": "carpet"
           }
          ],
          "choropleth": [
           {
            "colorbar": {
             "outlinewidth": 0,
             "ticks": ""
            },
            "type": "choropleth"
           }
          ],
          "contour": [
           {
            "colorbar": {
             "outlinewidth": 0,
             "ticks": ""
            },
            "colorscale": [
             [
              0,
              "#0d0887"
             ],
             [
              0.1111111111111111,
              "#46039f"
             ],
             [
              0.2222222222222222,
              "#7201a8"
             ],
             [
              0.3333333333333333,
              "#9c179e"
             ],
             [
              0.4444444444444444,
              "#bd3786"
             ],
             [
              0.5555555555555556,
              "#d8576b"
             ],
             [
              0.6666666666666666,
              "#ed7953"
             ],
             [
              0.7777777777777778,
              "#fb9f3a"
             ],
             [
              0.8888888888888888,
              "#fdca26"
             ],
             [
              1,
              "#f0f921"
             ]
            ],
            "type": "contour"
           }
          ],
          "contourcarpet": [
           {
            "colorbar": {
             "outlinewidth": 0,
             "ticks": ""
            },
            "type": "contourcarpet"
           }
          ],
          "heatmap": [
           {
            "colorbar": {
             "outlinewidth": 0,
             "ticks": ""
            },
            "colorscale": [
             [
              0,
              "#0d0887"
             ],
             [
              0.1111111111111111,
              "#46039f"
             ],
             [
              0.2222222222222222,
              "#7201a8"
             ],
             [
              0.3333333333333333,
              "#9c179e"
             ],
             [
              0.4444444444444444,
              "#bd3786"
             ],
             [
              0.5555555555555556,
              "#d8576b"
             ],
             [
              0.6666666666666666,
              "#ed7953"
             ],
             [
              0.7777777777777778,
              "#fb9f3a"
             ],
             [
              0.8888888888888888,
              "#fdca26"
             ],
             [
              1,
              "#f0f921"
             ]
            ],
            "type": "heatmap"
           }
          ],
          "heatmapgl": [
           {
            "colorbar": {
             "outlinewidth": 0,
             "ticks": ""
            },
            "colorscale": [
             [
              0,
              "#0d0887"
             ],
             [
              0.1111111111111111,
              "#46039f"
             ],
             [
              0.2222222222222222,
              "#7201a8"
             ],
             [
              0.3333333333333333,
              "#9c179e"
             ],
             [
              0.4444444444444444,
              "#bd3786"
             ],
             [
              0.5555555555555556,
              "#d8576b"
             ],
             [
              0.6666666666666666,
              "#ed7953"
             ],
             [
              0.7777777777777778,
              "#fb9f3a"
             ],
             [
              0.8888888888888888,
              "#fdca26"
             ],
             [
              1,
              "#f0f921"
             ]
            ],
            "type": "heatmapgl"
           }
          ],
          "histogram": [
           {
            "marker": {
             "pattern": {
              "fillmode": "overlay",
              "size": 10,
              "solidity": 0.2
             }
            },
            "type": "histogram"
           }
          ],
          "histogram2d": [
           {
            "colorbar": {
             "outlinewidth": 0,
             "ticks": ""
            },
            "colorscale": [
             [
              0,
              "#0d0887"
             ],
             [
              0.1111111111111111,
              "#46039f"
             ],
             [
              0.2222222222222222,
              "#7201a8"
             ],
             [
              0.3333333333333333,
              "#9c179e"
             ],
             [
              0.4444444444444444,
              "#bd3786"
             ],
             [
              0.5555555555555556,
              "#d8576b"
             ],
             [
              0.6666666666666666,
              "#ed7953"
             ],
             [
              0.7777777777777778,
              "#fb9f3a"
             ],
             [
              0.8888888888888888,
              "#fdca26"
             ],
             [
              1,
              "#f0f921"
             ]
            ],
            "type": "histogram2d"
           }
          ],
          "histogram2dcontour": [
           {
            "colorbar": {
             "outlinewidth": 0,
             "ticks": ""
            },
            "colorscale": [
             [
              0,
              "#0d0887"
             ],
             [
              0.1111111111111111,
              "#46039f"
             ],
             [
              0.2222222222222222,
              "#7201a8"
             ],
             [
              0.3333333333333333,
              "#9c179e"
             ],
             [
              0.4444444444444444,
              "#bd3786"
             ],
             [
              0.5555555555555556,
              "#d8576b"
             ],
             [
              0.6666666666666666,
              "#ed7953"
             ],
             [
              0.7777777777777778,
              "#fb9f3a"
             ],
             [
              0.8888888888888888,
              "#fdca26"
             ],
             [
              1,
              "#f0f921"
             ]
            ],
            "type": "histogram2dcontour"
           }
          ],
          "mesh3d": [
           {
            "colorbar": {
             "outlinewidth": 0,
             "ticks": ""
            },
            "type": "mesh3d"
           }
          ],
          "parcoords": [
           {
            "line": {
             "colorbar": {
              "outlinewidth": 0,
              "ticks": ""
             }
            },
            "type": "parcoords"
           }
          ],
          "pie": [
           {
            "automargin": true,
            "type": "pie"
           }
          ],
          "scatter": [
           {
            "fillpattern": {
             "fillmode": "overlay",
             "size": 10,
             "solidity": 0.2
            },
            "type": "scatter"
           }
          ],
          "scatter3d": [
           {
            "line": {
             "colorbar": {
              "outlinewidth": 0,
              "ticks": ""
             }
            },
            "marker": {
             "colorbar": {
              "outlinewidth": 0,
              "ticks": ""
             }
            },
            "type": "scatter3d"
           }
          ],
          "scattercarpet": [
           {
            "marker": {
             "colorbar": {
              "outlinewidth": 0,
              "ticks": ""
             }
            },
            "type": "scattercarpet"
           }
          ],
          "scattergeo": [
           {
            "marker": {
             "colorbar": {
              "outlinewidth": 0,
              "ticks": ""
             }
            },
            "type": "scattergeo"
           }
          ],
          "scattergl": [
           {
            "marker": {
             "colorbar": {
              "outlinewidth": 0,
              "ticks": ""
             }
            },
            "type": "scattergl"
           }
          ],
          "scattermapbox": [
           {
            "marker": {
             "colorbar": {
              "outlinewidth": 0,
              "ticks": ""
             }
            },
            "type": "scattermapbox"
           }
          ],
          "scatterpolar": [
           {
            "marker": {
             "colorbar": {
              "outlinewidth": 0,
              "ticks": ""
             }
            },
            "type": "scatterpolar"
           }
          ],
          "scatterpolargl": [
           {
            "marker": {
             "colorbar": {
              "outlinewidth": 0,
              "ticks": ""
             }
            },
            "type": "scatterpolargl"
           }
          ],
          "scatterternary": [
           {
            "marker": {
             "colorbar": {
              "outlinewidth": 0,
              "ticks": ""
             }
            },
            "type": "scatterternary"
           }
          ],
          "surface": [
           {
            "colorbar": {
             "outlinewidth": 0,
             "ticks": ""
            },
            "colorscale": [
             [
              0,
              "#0d0887"
             ],
             [
              0.1111111111111111,
              "#46039f"
             ],
             [
              0.2222222222222222,
              "#7201a8"
             ],
             [
              0.3333333333333333,
              "#9c179e"
             ],
             [
              0.4444444444444444,
              "#bd3786"
             ],
             [
              0.5555555555555556,
              "#d8576b"
             ],
             [
              0.6666666666666666,
              "#ed7953"
             ],
             [
              0.7777777777777778,
              "#fb9f3a"
             ],
             [
              0.8888888888888888,
              "#fdca26"
             ],
             [
              1,
              "#f0f921"
             ]
            ],
            "type": "surface"
           }
          ],
          "table": [
           {
            "cells": {
             "fill": {
              "color": "#EBF0F8"
             },
             "line": {
              "color": "white"
             }
            },
            "header": {
             "fill": {
              "color": "#C8D4E3"
             },
             "line": {
              "color": "white"
             }
            },
            "type": "table"
           }
          ]
         },
         "layout": {
          "annotationdefaults": {
           "arrowcolor": "#2a3f5f",
           "arrowhead": 0,
           "arrowwidth": 1
          },
          "autotypenumbers": "strict",
          "coloraxis": {
           "colorbar": {
            "outlinewidth": 0,
            "ticks": ""
           }
          },
          "colorscale": {
           "diverging": [
            [
             0,
             "#8e0152"
            ],
            [
             0.1,
             "#c51b7d"
            ],
            [
             0.2,
             "#de77ae"
            ],
            [
             0.3,
             "#f1b6da"
            ],
            [
             0.4,
             "#fde0ef"
            ],
            [
             0.5,
             "#f7f7f7"
            ],
            [
             0.6,
             "#e6f5d0"
            ],
            [
             0.7,
             "#b8e186"
            ],
            [
             0.8,
             "#7fbc41"
            ],
            [
             0.9,
             "#4d9221"
            ],
            [
             1,
             "#276419"
            ]
           ],
           "sequential": [
            [
             0,
             "#0d0887"
            ],
            [
             0.1111111111111111,
             "#46039f"
            ],
            [
             0.2222222222222222,
             "#7201a8"
            ],
            [
             0.3333333333333333,
             "#9c179e"
            ],
            [
             0.4444444444444444,
             "#bd3786"
            ],
            [
             0.5555555555555556,
             "#d8576b"
            ],
            [
             0.6666666666666666,
             "#ed7953"
            ],
            [
             0.7777777777777778,
             "#fb9f3a"
            ],
            [
             0.8888888888888888,
             "#fdca26"
            ],
            [
             1,
             "#f0f921"
            ]
           ],
           "sequentialminus": [
            [
             0,
             "#0d0887"
            ],
            [
             0.1111111111111111,
             "#46039f"
            ],
            [
             0.2222222222222222,
             "#7201a8"
            ],
            [
             0.3333333333333333,
             "#9c179e"
            ],
            [
             0.4444444444444444,
             "#bd3786"
            ],
            [
             0.5555555555555556,
             "#d8576b"
            ],
            [
             0.6666666666666666,
             "#ed7953"
            ],
            [
             0.7777777777777778,
             "#fb9f3a"
            ],
            [
             0.8888888888888888,
             "#fdca26"
            ],
            [
             1,
             "#f0f921"
            ]
           ]
          },
          "colorway": [
           "#636efa",
           "#EF553B",
           "#00cc96",
           "#ab63fa",
           "#FFA15A",
           "#19d3f3",
           "#FF6692",
           "#B6E880",
           "#FF97FF",
           "#FECB52"
          ],
          "font": {
           "color": "#2a3f5f"
          },
          "geo": {
           "bgcolor": "white",
           "lakecolor": "white",
           "landcolor": "#E5ECF6",
           "showlakes": true,
           "showland": true,
           "subunitcolor": "white"
          },
          "hoverlabel": {
           "align": "left"
          },
          "hovermode": "closest",
          "mapbox": {
           "style": "light"
          },
          "paper_bgcolor": "white",
          "plot_bgcolor": "#E5ECF6",
          "polar": {
           "angularaxis": {
            "gridcolor": "white",
            "linecolor": "white",
            "ticks": ""
           },
           "bgcolor": "#E5ECF6",
           "radialaxis": {
            "gridcolor": "white",
            "linecolor": "white",
            "ticks": ""
           }
          },
          "scene": {
           "xaxis": {
            "backgroundcolor": "#E5ECF6",
            "gridcolor": "white",
            "gridwidth": 2,
            "linecolor": "white",
            "showbackground": true,
            "ticks": "",
            "zerolinecolor": "white"
           },
           "yaxis": {
            "backgroundcolor": "#E5ECF6",
            "gridcolor": "white",
            "gridwidth": 2,
            "linecolor": "white",
            "showbackground": true,
            "ticks": "",
            "zerolinecolor": "white"
           },
           "zaxis": {
            "backgroundcolor": "#E5ECF6",
            "gridcolor": "white",
            "gridwidth": 2,
            "linecolor": "white",
            "showbackground": true,
            "ticks": "",
            "zerolinecolor": "white"
           }
          },
          "shapedefaults": {
           "line": {
            "color": "#2a3f5f"
           }
          },
          "ternary": {
           "aaxis": {
            "gridcolor": "white",
            "linecolor": "white",
            "ticks": ""
           },
           "baxis": {
            "gridcolor": "white",
            "linecolor": "white",
            "ticks": ""
           },
           "bgcolor": "#E5ECF6",
           "caxis": {
            "gridcolor": "white",
            "linecolor": "white",
            "ticks": ""
           }
          },
          "title": {
           "x": 0.05
          },
          "xaxis": {
           "automargin": true,
           "gridcolor": "white",
           "linecolor": "white",
           "ticks": "",
           "title": {
            "standoff": 15
           },
           "zerolinecolor": "white",
           "zerolinewidth": 2
          },
          "yaxis": {
           "automargin": true,
           "gridcolor": "white",
           "linecolor": "white",
           "ticks": "",
           "title": {
            "standoff": 15
           },
           "zerolinecolor": "white",
           "zerolinewidth": 2
          }
         }
        },
        "title": {
         "text": "Contour Plot"
        }
       }
      }
     },
     "metadata": {},
     "output_type": "display_data"
    },
    {
     "name": "stdout",
     "output_type": "stream",
     "text": [
      "\n",
      "The best hyperparameters for SVR: {}\n"
     ]
    }
   ],
   "source": [
    "\n",
    "best_model_log_CVR, final_trained_model_train_data_log_CVR  = SVR_training_with_display_new(X_log,y_log, n_trials = 2, display = True, mae_type = 'dev_mae')"
   ]
  },
  {
   "cell_type": "markdown",
   "metadata": {},
   "source": [
    "### Displaying predicted masses based on the model that was trained on log(M)"
   ]
  },
  {
   "cell_type": "code",
   "execution_count": 691,
   "metadata": {},
   "outputs": [
    {
     "data": {
      "image/png": "[encoded data removed]",
      "text/plain": [
       "<Figure size 1440x360 with 3 Axes>"
      ]
     },
     "metadata": {
      "needs_background": "light"
     },
     "output_type": "display_data"
    }
   ],
   "source": [
    "X_MR_ML_test = MR_ML_test.drop(columns = ['pl_bmasse', 'pl_bmasse_log'])\n",
    "y_MR_ML_test = MR_ML_test['pl_bmasse']\n",
    "y_MR_ML_test_log = MR_ML_test['pl_bmasse_log']\n",
    "\n",
    "\n",
    "fig, ax = plt.subplots(1, 3, figsize=(20, 5))\n",
    "\n",
    "c = 0\n",
    "model = final_trained_model_train_data_log_CVR\n",
    "results = modified_learning_curve(X_log, y_log, X_MR_ML_test, y_MR_ML_test_log, model, N= 5, CV=5)\n",
    "\n",
    "ax[c].set_xlabel(\"Training Examples\")\n",
    "ax[c].set_ylabel(\"Score\")\n",
    "\n",
    "ax[c].plot(results['train_size'], results['mae_train_mean'], 'o-', color=\"r\", label=\"Training Score\")\n",
    "ax[c].fill_between(results['train_size'], results['mae_train_mean'] + results['mae_train_std'],\n",
    "                results['mae_train_mean'] - results['mae_train_std'],\n",
    "                alpha=0.15, color='r')\n",
    "\n",
    "ax[c].plot(results['train_size'], results['mae_test_mean'], 'o-', color=\"g\", label=\"Cross-Validation Score\")\n",
    "ax[c].fill_between(results['train_size'], results['mae_test_mean'] + results['mae_test_std'],\n",
    "                results['mae_test_mean'] - results['mae_test_std'],\n",
    "                alpha=0.15, color='g')\n",
    "\n",
    "ax[c].legend(loc=\"best\")\n",
    "ax[c].set_ylim(0.0,0.2)\n",
    "\n",
    "\n",
    "y_predicted = np.power(10,model.predict(X_MR_ML_test))\n",
    "ax[c+1].scatter(y_MR_ML_test, X_MR_ML_test['pl_rade'], color = 'grey',  label = 'observed')\n",
    "ax[c+1].scatter(y_predicted, X_MR_ML_test['pl_rade'], color = 'black',  label = 'predicted')\n",
    "ax[c+1].legend(loc = 'best')\n",
    "ax[c+1].set_xscale('log')\n",
    "ax[c+1].set_yscale('log')\n",
    "ax[c+1].set_xlabel('Mass ($M_{\\mathrm{\\oplus}}$)')\n",
    "ax[c+1].set_ylabel('Radius ($R_{\\mathrm{\\oplus}}$)')\n",
    "\n",
    "M_pred = np.power(10,final_trained_model_train_data_log_CVR.predict(R_ML_table))\n",
    "ax[c+2].scatter(MR_ML_table['pl_bmasse'], MR_ML_table['pl_rade'], color = 'grey',  label = 'observed')\n",
    "ax[c+2].scatter( M_pred, R_ML_table['pl_rade'], color = 'black',  label = 'predicted')\n",
    "ax[c+2].legend(loc = 'best')\n",
    "ax[c+2].set_xscale('log')\n",
    "ax[c+2].set_yscale('log')\n",
    "ax[c+2].set_xlabel('Mass ($M_{\\mathrm{\\oplus}}$)')\n",
    "ax[c+2].set_ylabel('Radius ($R_{\\mathrm{\\oplus}}$)')    \n",
    "plt.tight_layout()"
   ]
  },
  {
   "cell_type": "code",
   "execution_count": 692,
   "metadata": {},
   "outputs": [
    {
     "data": {
      "text/plain": [
       "0.26735632804075793"
      ]
     },
     "execution_count": 692,
     "metadata": {},
     "output_type": "execute_result"
    },
    {
     "data": {
      "image/png": "[encoded data removed]",
      "text/plain": [
       "<Figure size 432x288 with 1 Axes>"
      ]
     },
     "metadata": {
      "needs_background": "light"
     },
     "output_type": "display_data"
    }
   ],
   "source": [
    "model = final_trained_model_train_data_log\n",
    "\n",
    "y_predicted = np.power(10,model.predict(X_MR_ML_test))\n",
    "y_test_linear = y_MR_ML_test\n",
    "\n",
    "rel_mass = (y_predicted - y_test_linear)/y_test_linear\n",
    "\n",
    "plt.scatter(y_test_linear, rel_mass)\n",
    "plt.xscale('log')\n",
    "\n",
    "\n",
    "np.mean(rel_mass)"
   ]
  },
  {
   "cell_type": "code",
   "execution_count": 693,
   "metadata": {},
   "outputs": [
    {
     "name": "stderr",
     "output_type": "stream",
     "text": [
      "\u001b[32m[I 2023-07-28 16:18:52,610]\u001b[0m A new study created in memory with name: no-name-d41fd3dd-8e7b-436c-ad79-6c5f4803812a\u001b[0m\n"
     ]
    },
    {
     "name": "stdout",
     "output_type": "stream",
     "text": [
      "The base MAE test =  0.09; MAE train = 0.01; MAE mean = 0.10\n"
     ]
    },
    {
     "name": "stderr",
     "output_type": "stream",
     "text": [
      "\u001b[32m[I 2023-07-28 16:18:55,901]\u001b[0m Trial 0 finished with value: 0.08533394740989993 and parameters: {'n_estimators': 40, 'min_samples_split': 39}. Best is trial 0 with value: 0.08533394740989993.\u001b[0m\n",
      "\u001b[32m[I 2023-07-28 16:18:59,418]\u001b[0m Trial 1 finished with value: 0.0866694336111244 and parameters: {'n_estimators': 60, 'min_samples_split': 50}. Best is trial 0 with value: 0.08533394740989993.\u001b[0m\n",
      "\u001b[32m[I 2023-07-28 16:19:02,437]\u001b[0m Trial 2 finished with value: 0.09597345005708988 and parameters: {'n_estimators': 100, 'min_samples_split': 43}. Best is trial 0 with value: 0.08533394740989993.\u001b[0m\n",
      "\u001b[32m[I 2023-07-28 16:19:05,503]\u001b[0m Trial 3 finished with value: 0.08336505264245175 and parameters: {'n_estimators': 100, 'min_samples_split': 24}. Best is trial 3 with value: 0.08336505264245175.\u001b[0m\n",
      "\u001b[32m[I 2023-07-28 16:19:09,136]\u001b[0m Trial 4 finished with value: 0.08677606309081917 and parameters: {'n_estimators': 100, 'min_samples_split': 44}. Best is trial 3 with value: 0.08336505264245175.\u001b[0m\n"
     ]
    },
    {
     "data": {
      "application/vnd.plotly.v1+json": {
       "config": {
        "plotlyServerURL": "https://plot.ly"
       },
       "data": [
        {
         "cliponaxis": false,
         "hovertemplate": [
          "n_estimators (IntDistribution): 0.24616963111776752<extra></extra>",
          "min_samples_split (IntDistribution): 0.7538303688822324<extra></extra>"
         ],
         "marker": {
          "color": "rgb(66,146,198)"
         },
         "orientation": "h",
         "text": [
          "0.25",
          "0.75"
         ],
         "textposition": "outside",
         "type": "bar",
         "x": [
          0.24616963111776752,
          0.7538303688822324
         ],
         "y": [
          "n_estimators",
          "min_samples_split"
         ]
        }
       ],
       "layout": {
        "showlegend": false,
        "template": {
         "data": {
          "bar": [
           {
            "error_x": {
             "color": "#2a3f5f"
            },
            "error_y": {
             "color": "#2a3f5f"
            },
            "marker": {
             "line": {
              "color": "#E5ECF6",
              "width": 0.5
             },
             "pattern": {
              "fillmode": "overlay",
              "size": 10,
              "solidity": 0.2
             }
            },
            "type": "bar"
           }
          ],
          "barpolar": [
           {
            "marker": {
             "line": {
              "color": "#E5ECF6",
              "width": 0.5
             },
             "pattern": {
              "fillmode": "overlay",
              "size": 10,
              "solidity": 0.2
             }
            },
            "type": "barpolar"
           }
          ],
          "carpet": [
           {
            "aaxis": {
             "endlinecolor": "#2a3f5f",
             "gridcolor": "white",
             "linecolor": "white",
             "minorgridcolor": "white",
             "startlinecolor": "#2a3f5f"
            },
            "baxis": {
             "endlinecolor": "#2a3f5f",
             "gridcolor": "white",
             "linecolor": "white",
             "minorgridcolor": "white",
             "startlinecolor": "#2a3f5f"
            },
            "type": "carpet"
           }
          ],
          "choropleth": [
           {
            "colorbar": {
             "outlinewidth": 0,
             "ticks": ""
            },
            "type": "choropleth"
           }
          ],
          "contour": [
           {
            "colorbar": {
             "outlinewidth": 0,
             "ticks": ""
            },
            "colorscale": [
             [
              0,
              "#0d0887"
             ],
             [
              0.1111111111111111,
              "#46039f"
             ],
             [
              0.2222222222222222,
              "#7201a8"
             ],
             [
              0.3333333333333333,
              "#9c179e"
             ],
             [
              0.4444444444444444,
              "#bd3786"
             ],
             [
              0.5555555555555556,
              "#d8576b"
             ],
             [
              0.6666666666666666,
              "#ed7953"
             ],
             [
              0.7777777777777778,
              "#fb9f3a"
             ],
             [
              0.8888888888888888,
              "#fdca26"
             ],
             [
              1,
              "#f0f921"
             ]
            ],
            "type": "contour"
           }
          ],
          "contourcarpet": [
           {
            "colorbar": {
             "outlinewidth": 0,
             "ticks": ""
            },
            "type": "contourcarpet"
           }
          ],
          "heatmap": [
           {
            "colorbar": {
             "outlinewidth": 0,
             "ticks": ""
            },
            "colorscale": [
             [
              0,
              "#0d0887"
             ],
             [
              0.1111111111111111,
              "#46039f"
             ],
             [
              0.2222222222222222,
              "#7201a8"
             ],
             [
              0.3333333333333333,
              "#9c179e"
             ],
             [
              0.4444444444444444,
              "#bd3786"
             ],
             [
              0.5555555555555556,
              "#d8576b"
             ],
             [
              0.6666666666666666,
              "#ed7953"
             ],
             [
              0.7777777777777778,
              "#fb9f3a"
             ],
             [
              0.8888888888888888,
              "#fdca26"
             ],
             [
              1,
              "#f0f921"
             ]
            ],
            "type": "heatmap"
           }
          ],
          "heatmapgl": [
           {
            "colorbar": {
             "outlinewidth": 0,
             "ticks": ""
            },
            "colorscale": [
             [
              0,
              "#0d0887"
             ],
             [
              0.1111111111111111,
              "#46039f"
             ],
             [
              0.2222222222222222,
              "#7201a8"
             ],
             [
              0.3333333333333333,
              "#9c179e"
             ],
             [
              0.4444444444444444,
              "#bd3786"
             ],
             [
              0.5555555555555556,
              "#d8576b"
             ],
             [
              0.6666666666666666,
              "#ed7953"
             ],
             [
              0.7777777777777778,
              "#fb9f3a"
             ],
             [
              0.8888888888888888,
              "#fdca26"
             ],
             [
              1,
              "#f0f921"
             ]
            ],
            "type": "heatmapgl"
           }
          ],
          "histogram": [
           {
            "marker": {
             "pattern": {
              "fillmode": "overlay",
              "size": 10,
              "solidity": 0.2
             }
            },
            "type": "histogram"
           }
          ],
          "histogram2d": [
           {
            "colorbar": {
             "outlinewidth": 0,
             "ticks": ""
            },
            "colorscale": [
             [
              0,
              "#0d0887"
             ],
             [
              0.1111111111111111,
              "#46039f"
             ],
             [
              0.2222222222222222,
              "#7201a8"
             ],
             [
              0.3333333333333333,
              "#9c179e"
             ],
             [
              0.4444444444444444,
              "#bd3786"
             ],
             [
              0.5555555555555556,
              "#d8576b"
             ],
             [
              0.6666666666666666,
              "#ed7953"
             ],
             [
              0.7777777777777778,
              "#fb9f3a"
             ],
             [
              0.8888888888888888,
              "#fdca26"
             ],
             [
              1,
              "#f0f921"
             ]
            ],
            "type": "histogram2d"
           }
          ],
          "histogram2dcontour": [
           {
            "colorbar": {
             "outlinewidth": 0,
             "ticks": ""
            },
            "colorscale": [
             [
              0,
              "#0d0887"
             ],
             [
              0.1111111111111111,
              "#46039f"
             ],
             [
              0.2222222222222222,
              "#7201a8"
             ],
             [
              0.3333333333333333,
              "#9c179e"
             ],
             [
              0.4444444444444444,
              "#bd3786"
             ],
             [
              0.5555555555555556,
              "#d8576b"
             ],
             [
              0.6666666666666666,
              "#ed7953"
             ],
             [
              0.7777777777777778,
              "#fb9f3a"
             ],
             [
              0.8888888888888888,
              "#fdca26"
             ],
             [
              1,
              "#f0f921"
             ]
            ],
            "type": "histogram2dcontour"
           }
          ],
          "mesh3d": [
           {
            "colorbar": {
             "outlinewidth": 0,
             "ticks": ""
            },
            "type": "mesh3d"
           }
          ],
          "parcoords": [
           {
            "line": {
             "colorbar": {
              "outlinewidth": 0,
              "ticks": ""
             }
            },
            "type": "parcoords"
           }
          ],
          "pie": [
           {
            "automargin": true,
            "type": "pie"
           }
          ],
          "scatter": [
           {
            "fillpattern": {
             "fillmode": "overlay",
             "size": 10,
             "solidity": 0.2
            },
            "type": "scatter"
           }
          ],
          "scatter3d": [
           {
            "line": {
             "colorbar": {
              "outlinewidth": 0,
              "ticks": ""
             }
            },
            "marker": {
             "colorbar": {
              "outlinewidth": 0,
              "ticks": ""
             }
            },
            "type": "scatter3d"
           }
          ],
          "scattercarpet": [
           {
            "marker": {
             "colorbar": {
              "outlinewidth": 0,
              "ticks": ""
             }
            },
            "type": "scattercarpet"
           }
          ],
          "scattergeo": [
           {
            "marker": {
             "colorbar": {
              "outlinewidth": 0,
              "ticks": ""
             }
            },
            "type": "scattergeo"
           }
          ],
          "scattergl": [
           {
            "marker": {
             "colorbar": {
              "outlinewidth": 0,
              "ticks": ""
             }
            },
            "type": "scattergl"
           }
          ],
          "scattermapbox": [
           {
            "marker": {
             "colorbar": {
              "outlinewidth": 0,
              "ticks": ""
             }
            },
            "type": "scattermapbox"
           }
          ],
          "scatterpolar": [
           {
            "marker": {
             "colorbar": {
              "outlinewidth": 0,
              "ticks": ""
             }
            },
            "type": "scatterpolar"
           }
          ],
          "scatterpolargl": [
           {
            "marker": {
             "colorbar": {
              "outlinewidth": 0,
              "ticks": ""
             }
            },
            "type": "scatterpolargl"
           }
          ],
          "scatterternary": [
           {
            "marker": {
             "colorbar": {
              "outlinewidth": 0,
              "ticks": ""
             }
            },
            "type": "scatterternary"
           }
          ],
          "surface": [
           {
            "colorbar": {
             "outlinewidth": 0,
             "ticks": ""
            },
            "colorscale": [
             [
              0,
              "#0d0887"
             ],
             [
              0.1111111111111111,
              "#46039f"
             ],
             [
              0.2222222222222222,
              "#7201a8"
             ],
             [
              0.3333333333333333,
              "#9c179e"
             ],
             [
              0.4444444444444444,
              "#bd3786"
             ],
             [
              0.5555555555555556,
              "#d8576b"
             ],
             [
              0.6666666666666666,
              "#ed7953"
             ],
             [
              0.7777777777777778,
              "#fb9f3a"
             ],
             [
              0.8888888888888888,
              "#fdca26"
             ],
             [
              1,
              "#f0f921"
             ]
            ],
            "type": "surface"
           }
          ],
          "table": [
           {
            "cells": {
             "fill": {
              "color": "#EBF0F8"
             },
             "line": {
              "color": "white"
             }
            },
            "header": {
             "fill": {
              "color": "#C8D4E3"
             },
             "line": {
              "color": "white"
             }
            },
            "type": "table"
           }
          ]
         },
         "layout": {
          "annotationdefaults": {
           "arrowcolor": "#2a3f5f",
           "arrowhead": 0,
           "arrowwidth": 1
          },
          "autotypenumbers": "strict",
          "coloraxis": {
           "colorbar": {
            "outlinewidth": 0,
            "ticks": ""
           }
          },
          "colorscale": {
           "diverging": [
            [
             0,
             "#8e0152"
            ],
            [
             0.1,
             "#c51b7d"
            ],
            [
             0.2,
             "#de77ae"
            ],
            [
             0.3,
             "#f1b6da"
            ],
            [
             0.4,
             "#fde0ef"
            ],
            [
             0.5,
             "#f7f7f7"
            ],
            [
             0.6,
             "#e6f5d0"
            ],
            [
             0.7,
             "#b8e186"
            ],
            [
             0.8,
             "#7fbc41"
            ],
            [
             0.9,
             "#4d9221"
            ],
            [
             1,
             "#276419"
            ]
           ],
           "sequential": [
            [
             0,
             "#0d0887"
            ],
            [
             0.1111111111111111,
             "#46039f"
            ],
            [
             0.2222222222222222,
             "#7201a8"
            ],
            [
             0.3333333333333333,
             "#9c179e"
            ],
            [
             0.4444444444444444,
             "#bd3786"
            ],
            [
             0.5555555555555556,
             "#d8576b"
            ],
            [
             0.6666666666666666,
             "#ed7953"
            ],
            [
             0.7777777777777778,
             "#fb9f3a"
            ],
            [
             0.8888888888888888,
             "#fdca26"
            ],
            [
             1,
             "#f0f921"
            ]
           ],
           "sequentialminus": [
            [
             0,
             "#0d0887"
            ],
            [
             0.1111111111111111,
             "#46039f"
            ],
            [
             0.2222222222222222,
             "#7201a8"
            ],
            [
             0.3333333333333333,
             "#9c179e"
            ],
            [
             0.4444444444444444,
             "#bd3786"
            ],
            [
             0.5555555555555556,
             "#d8576b"
            ],
            [
             0.6666666666666666,
             "#ed7953"
            ],
            [
             0.7777777777777778,
             "#fb9f3a"
            ],
            [
             0.8888888888888888,
             "#fdca26"
            ],
            [
             1,
             "#f0f921"
            ]
           ]
          },
          "colorway": [
           "#636efa",
           "#EF553B",
           "#00cc96",
           "#ab63fa",
           "#FFA15A",
           "#19d3f3",
           "#FF6692",
           "#B6E880",
           "#FF97FF",
           "#FECB52"
          ],
          "font": {
           "color": "#2a3f5f"
          },
          "geo": {
           "bgcolor": "white",
           "lakecolor": "white",
           "landcolor": "#E5ECF6",
           "showlakes": true,
           "showland": true,
           "subunitcolor": "white"
          },
          "hoverlabel": {
           "align": "left"
          },
          "hovermode": "closest",
          "mapbox": {
           "style": "light"
          },
          "paper_bgcolor": "white",
          "plot_bgcolor": "#E5ECF6",
          "polar": {
           "angularaxis": {
            "gridcolor": "white",
            "linecolor": "white",
            "ticks": ""
           },
           "bgcolor": "#E5ECF6",
           "radialaxis": {
            "gridcolor": "white",
            "linecolor": "white",
            "ticks": ""
           }
          },
          "scene": {
           "xaxis": {
            "backgroundcolor": "#E5ECF6",
            "gridcolor": "white",
            "gridwidth": 2,
            "linecolor": "white",
            "showbackground": true,
            "ticks": "",
            "zerolinecolor": "white"
           },
           "yaxis": {
            "backgroundcolor": "#E5ECF6",
            "gridcolor": "white",
            "gridwidth": 2,
            "linecolor": "white",
            "showbackground": true,
            "ticks": "",
            "zerolinecolor": "white"
           },
           "zaxis": {
            "backgroundcolor": "#E5ECF6",
            "gridcolor": "white",
            "gridwidth": 2,
            "linecolor": "white",
            "showbackground": true,
            "ticks": "",
            "zerolinecolor": "white"
           }
          },
          "shapedefaults": {
           "line": {
            "color": "#2a3f5f"
           }
          },
          "ternary": {
           "aaxis": {
            "gridcolor": "white",
            "linecolor": "white",
            "ticks": ""
           },
           "baxis": {
            "gridcolor": "white",
            "linecolor": "white",
            "ticks": ""
           },
           "bgcolor": "#E5ECF6",
           "caxis": {
            "gridcolor": "white",
            "linecolor": "white",
            "ticks": ""
           }
          },
          "title": {
           "x": 0.05
          },
          "xaxis": {
           "automargin": true,
           "gridcolor": "white",
           "linecolor": "white",
           "ticks": "",
           "title": {
            "standoff": 15
           },
           "zerolinecolor": "white",
           "zerolinewidth": 2
          },
          "yaxis": {
           "automargin": true,
           "gridcolor": "white",
           "linecolor": "white",
           "ticks": "",
           "title": {
            "standoff": 15
           },
           "zerolinecolor": "white",
           "zerolinewidth": 2
          }
         }
        },
        "title": {
         "text": "Hyperparameter Importances"
        },
        "xaxis": {
         "title": {
          "text": "Importance for Objective Value"
         }
        },
        "yaxis": {
         "title": {
          "text": "Hyperparameter"
         }
        }
       }
      }
     },
     "metadata": {},
     "output_type": "display_data"
    },
    {
     "data": {
      "application/vnd.plotly.v1+json": {
       "config": {
        "plotlyServerURL": "https://plot.ly"
       },
       "data": [
        {
         "colorbar": {
          "title": {
           "text": "Objective Value"
          }
         },
         "colorscale": [
          [
           0,
           "rgb(247,251,255)"
          ],
          [
           0.125,
           "rgb(222,235,247)"
          ],
          [
           0.25,
           "rgb(198,219,239)"
          ],
          [
           0.375,
           "rgb(158,202,225)"
          ],
          [
           0.5,
           "rgb(107,174,214)"
          ],
          [
           0.625,
           "rgb(66,146,198)"
          ],
          [
           0.75,
           "rgb(33,113,181)"
          ],
          [
           0.875,
           "rgb(8,81,156)"
          ],
          [
           1,
           "rgb(8,48,107)"
          ]
         ],
         "connectgaps": true,
         "contours": {
          "coloring": "heatmap"
         },
         "hoverinfo": "none",
         "line": {
          "smoothing": 1.3
         },
         "reversescale": true,
         "type": "contour",
         "x": [
          22.7,
          24,
          39,
          43,
          44,
          50,
          51.3
         ],
         "y": [
          37,
          40,
          60,
          100,
          103
         ],
         "z": [
          [
           null,
           null,
           null,
           null,
           null,
           null,
           null
          ],
          [
           null,
           null,
           0.08533394740989993,
           null,
           null,
           null,
           null
          ],
          [
           null,
           null,
           null,
           null,
           null,
           0.0866694336111244,
           null
          ],
          [
           null,
           0.08336505264245175,
           null,
           0.09597345005708988,
           0.08677606309081917,
           null,
           null
          ],
          [
           null,
           null,
           null,
           null,
           null,
           null,
           null
          ]
         ]
        },
        {
         "marker": {
          "color": "black",
          "line": {
           "color": "Grey",
           "width": 2
          }
         },
         "mode": "markers",
         "showlegend": false,
         "type": "scatter",
         "x": [
          39,
          50,
          43,
          24,
          44
         ],
         "y": [
          40,
          60,
          100,
          100,
          100
         ]
        }
       ],
       "layout": {
        "template": {
         "data": {
          "bar": [
           {
            "error_x": {
             "color": "#2a3f5f"
            },
            "error_y": {
             "color": "#2a3f5f"
            },
            "marker": {
             "line": {
              "color": "#E5ECF6",
              "width": 0.5
             },
             "pattern": {
              "fillmode": "overlay",
              "size": 10,
              "solidity": 0.2
             }
            },
            "type": "bar"
           }
          ],
          "barpolar": [
           {
            "marker": {
             "line": {
              "color": "#E5ECF6",
              "width": 0.5
             },
             "pattern": {
              "fillmode": "overlay",
              "size": 10,
              "solidity": 0.2
             }
            },
            "type": "barpolar"
           }
          ],
          "carpet": [
           {
            "aaxis": {
             "endlinecolor": "#2a3f5f",
             "gridcolor": "white",
             "linecolor": "white",
             "minorgridcolor": "white",
             "startlinecolor": "#2a3f5f"
            },
            "baxis": {
             "endlinecolor": "#2a3f5f",
             "gridcolor": "white",
             "linecolor": "white",
             "minorgridcolor": "white",
             "startlinecolor": "#2a3f5f"
            },
            "type": "carpet"
           }
          ],
          "choropleth": [
           {
            "colorbar": {
             "outlinewidth": 0,
             "ticks": ""
            },
            "type": "choropleth"
           }
          ],
          "contour": [
           {
            "colorbar": {
             "outlinewidth": 0,
             "ticks": ""
            },
            "colorscale": [
             [
              0,
              "#0d0887"
             ],
             [
              0.1111111111111111,
              "#46039f"
             ],
             [
              0.2222222222222222,
              "#7201a8"
             ],
             [
              0.3333333333333333,
              "#9c179e"
             ],
             [
              0.4444444444444444,
              "#bd3786"
             ],
             [
              0.5555555555555556,
              "#d8576b"
             ],
             [
              0.6666666666666666,
              "#ed7953"
             ],
             [
              0.7777777777777778,
              "#fb9f3a"
             ],
             [
              0.8888888888888888,
              "#fdca26"
             ],
             [
              1,
              "#f0f921"
             ]
            ],
            "type": "contour"
           }
          ],
          "contourcarpet": [
           {
            "colorbar": {
             "outlinewidth": 0,
             "ticks": ""
            },
            "type": "contourcarpet"
           }
          ],
          "heatmap": [
           {
            "colorbar": {
             "outlinewidth": 0,
             "ticks": ""
            },
            "colorscale": [
             [
              0,
              "#0d0887"
             ],
             [
              0.1111111111111111,
              "#46039f"
             ],
             [
              0.2222222222222222,
              "#7201a8"
             ],
             [
              0.3333333333333333,
              "#9c179e"
             ],
             [
              0.4444444444444444,
              "#bd3786"
             ],
             [
              0.5555555555555556,
              "#d8576b"
             ],
             [
              0.6666666666666666,
              "#ed7953"
             ],
             [
              0.7777777777777778,
              "#fb9f3a"
             ],
             [
              0.8888888888888888,
              "#fdca26"
             ],
             [
              1,
              "#f0f921"
             ]
            ],
            "type": "heatmap"
           }
          ],
          "heatmapgl": [
           {
            "colorbar": {
             "outlinewidth": 0,
             "ticks": ""
            },
            "colorscale": [
             [
              0,
              "#0d0887"
             ],
             [
              0.1111111111111111,
              "#46039f"
             ],
             [
              0.2222222222222222,
              "#7201a8"
             ],
             [
              0.3333333333333333,
              "#9c179e"
             ],
             [
              0.4444444444444444,
              "#bd3786"
             ],
             [
              0.5555555555555556,
              "#d8576b"
             ],
             [
              0.6666666666666666,
              "#ed7953"
             ],
             [
              0.7777777777777778,
              "#fb9f3a"
             ],
             [
              0.8888888888888888,
              "#fdca26"
             ],
             [
              1,
              "#f0f921"
             ]
            ],
            "type": "heatmapgl"
           }
          ],
          "histogram": [
           {
            "marker": {
             "pattern": {
              "fillmode": "overlay",
              "size": 10,
              "solidity": 0.2
             }
            },
            "type": "histogram"
           }
          ],
          "histogram2d": [
           {
            "colorbar": {
             "outlinewidth": 0,
             "ticks": ""
            },
            "colorscale": [
             [
              0,
              "#0d0887"
             ],
             [
              0.1111111111111111,
              "#46039f"
             ],
             [
              0.2222222222222222,
              "#7201a8"
             ],
             [
              0.3333333333333333,
              "#9c179e"
             ],
             [
              0.4444444444444444,
              "#bd3786"
             ],
             [
              0.5555555555555556,
              "#d8576b"
             ],
             [
              0.6666666666666666,
              "#ed7953"
             ],
             [
              0.7777777777777778,
              "#fb9f3a"
             ],
             [
              0.8888888888888888,
              "#fdca26"
             ],
             [
              1,
              "#f0f921"
             ]
            ],
            "type": "histogram2d"
           }
          ],
          "histogram2dcontour": [
           {
            "colorbar": {
             "outlinewidth": 0,
             "ticks": ""
            },
            "colorscale": [
             [
              0,
              "#0d0887"
             ],
             [
              0.1111111111111111,
              "#46039f"
             ],
             [
              0.2222222222222222,
              "#7201a8"
             ],
             [
              0.3333333333333333,
              "#9c179e"
             ],
             [
              0.4444444444444444,
              "#bd3786"
             ],
             [
              0.5555555555555556,
              "#d8576b"
             ],
             [
              0.6666666666666666,
              "#ed7953"
             ],
             [
              0.7777777777777778,
              "#fb9f3a"
             ],
             [
              0.8888888888888888,
              "#fdca26"
             ],
             [
              1,
              "#f0f921"
             ]
            ],
            "type": "histogram2dcontour"
           }
          ],
          "mesh3d": [
           {
            "colorbar": {
             "outlinewidth": 0,
             "ticks": ""
            },
            "type": "mesh3d"
           }
          ],
          "parcoords": [
           {
            "line": {
             "colorbar": {
              "outlinewidth": 0,
              "ticks": ""
             }
            },
            "type": "parcoords"
           }
          ],
          "pie": [
           {
            "automargin": true,
            "type": "pie"
           }
          ],
          "scatter": [
           {
            "fillpattern": {
             "fillmode": "overlay",
             "size": 10,
             "solidity": 0.2
            },
            "type": "scatter"
           }
          ],
          "scatter3d": [
           {
            "line": {
             "colorbar": {
              "outlinewidth": 0,
              "ticks": ""
             }
            },
            "marker": {
             "colorbar": {
              "outlinewidth": 0,
              "ticks": ""
             }
            },
            "type": "scatter3d"
           }
          ],
          "scattercarpet": [
           {
            "marker": {
             "colorbar": {
              "outlinewidth": 0,
              "ticks": ""
             }
            },
            "type": "scattercarpet"
           }
          ],
          "scattergeo": [
           {
            "marker": {
             "colorbar": {
              "outlinewidth": 0,
              "ticks": ""
             }
            },
            "type": "scattergeo"
           }
          ],
          "scattergl": [
           {
            "marker": {
             "colorbar": {
              "outlinewidth": 0,
              "ticks": ""
             }
            },
            "type": "scattergl"
           }
          ],
          "scattermapbox": [
           {
            "marker": {
             "colorbar": {
              "outlinewidth": 0,
              "ticks": ""
             }
            },
            "type": "scattermapbox"
           }
          ],
          "scatterpolar": [
           {
            "marker": {
             "colorbar": {
              "outlinewidth": 0,
              "ticks": ""
             }
            },
            "type": "scatterpolar"
           }
          ],
          "scatterpolargl": [
           {
            "marker": {
             "colorbar": {
              "outlinewidth": 0,
              "ticks": ""
             }
            },
            "type": "scatterpolargl"
           }
          ],
          "scatterternary": [
           {
            "marker": {
             "colorbar": {
              "outlinewidth": 0,
              "ticks": ""
             }
            },
            "type": "scatterternary"
           }
          ],
          "surface": [
           {
            "colorbar": {
             "outlinewidth": 0,
             "ticks": ""
            },
            "colorscale": [
             [
              0,
              "#0d0887"
             ],
             [
              0.1111111111111111,
              "#46039f"
             ],
             [
              0.2222222222222222,
              "#7201a8"
             ],
             [
              0.3333333333333333,
              "#9c179e"
             ],
             [
              0.4444444444444444,
              "#bd3786"
             ],
             [
              0.5555555555555556,
              "#d8576b"
             ],
             [
              0.6666666666666666,
              "#ed7953"
             ],
             [
              0.7777777777777778,
              "#fb9f3a"
             ],
             [
              0.8888888888888888,
              "#fdca26"
             ],
             [
              1,
              "#f0f921"
             ]
            ],
            "type": "surface"
           }
          ],
          "table": [
           {
            "cells": {
             "fill": {
              "color": "#EBF0F8"
             },
             "line": {
              "color": "white"
             }
            },
            "header": {
             "fill": {
              "color": "#C8D4E3"
             },
             "line": {
              "color": "white"
             }
            },
            "type": "table"
           }
          ]
         },
         "layout": {
          "annotationdefaults": {
           "arrowcolor": "#2a3f5f",
           "arrowhead": 0,
           "arrowwidth": 1
          },
          "autotypenumbers": "strict",
          "coloraxis": {
           "colorbar": {
            "outlinewidth": 0,
            "ticks": ""
           }
          },
          "colorscale": {
           "diverging": [
            [
             0,
             "#8e0152"
            ],
            [
             0.1,
             "#c51b7d"
            ],
            [
             0.2,
             "#de77ae"
            ],
            [
             0.3,
             "#f1b6da"
            ],
            [
             0.4,
             "#fde0ef"
            ],
            [
             0.5,
             "#f7f7f7"
            ],
            [
             0.6,
             "#e6f5d0"
            ],
            [
             0.7,
             "#b8e186"
            ],
            [
             0.8,
             "#7fbc41"
            ],
            [
             0.9,
             "#4d9221"
            ],
            [
             1,
             "#276419"
            ]
           ],
           "sequential": [
            [
             0,
             "#0d0887"
            ],
            [
             0.1111111111111111,
             "#46039f"
            ],
            [
             0.2222222222222222,
             "#7201a8"
            ],
            [
             0.3333333333333333,
             "#9c179e"
            ],
            [
             0.4444444444444444,
             "#bd3786"
            ],
            [
             0.5555555555555556,
             "#d8576b"
            ],
            [
             0.6666666666666666,
             "#ed7953"
            ],
            [
             0.7777777777777778,
             "#fb9f3a"
            ],
            [
             0.8888888888888888,
             "#fdca26"
            ],
            [
             1,
             "#f0f921"
            ]
           ],
           "sequentialminus": [
            [
             0,
             "#0d0887"
            ],
            [
             0.1111111111111111,
             "#46039f"
            ],
            [
             0.2222222222222222,
             "#7201a8"
            ],
            [
             0.3333333333333333,
             "#9c179e"
            ],
            [
             0.4444444444444444,
             "#bd3786"
            ],
            [
             0.5555555555555556,
             "#d8576b"
            ],
            [
             0.6666666666666666,
             "#ed7953"
            ],
            [
             0.7777777777777778,
             "#fb9f3a"
            ],
            [
             0.8888888888888888,
             "#fdca26"
            ],
            [
             1,
             "#f0f921"
            ]
           ]
          },
          "colorway": [
           "#636efa",
           "#EF553B",
           "#00cc96",
           "#ab63fa",
           "#FFA15A",
           "#19d3f3",
           "#FF6692",
           "#B6E880",
           "#FF97FF",
           "#FECB52"
          ],
          "font": {
           "color": "#2a3f5f"
          },
          "geo": {
           "bgcolor": "white",
           "lakecolor": "white",
           "landcolor": "#E5ECF6",
           "showlakes": true,
           "showland": true,
           "subunitcolor": "white"
          },
          "hoverlabel": {
           "align": "left"
          },
          "hovermode": "closest",
          "mapbox": {
           "style": "light"
          },
          "paper_bgcolor": "white",
          "plot_bgcolor": "#E5ECF6",
          "polar": {
           "angularaxis": {
            "gridcolor": "white",
            "linecolor": "white",
            "ticks": ""
           },
           "bgcolor": "#E5ECF6",
           "radialaxis": {
            "gridcolor": "white",
            "linecolor": "white",
            "ticks": ""
           }
          },
          "scene": {
           "xaxis": {
            "backgroundcolor": "#E5ECF6",
            "gridcolor": "white",
            "gridwidth": 2,
            "linecolor": "white",
            "showbackground": true,
            "ticks": "",
            "zerolinecolor": "white"
           },
           "yaxis": {
            "backgroundcolor": "#E5ECF6",
            "gridcolor": "white",
            "gridwidth": 2,
            "linecolor": "white",
            "showbackground": true,
            "ticks": "",
            "zerolinecolor": "white"
           },
           "zaxis": {
            "backgroundcolor": "#E5ECF6",
            "gridcolor": "white",
            "gridwidth": 2,
            "linecolor": "white",
            "showbackground": true,
            "ticks": "",
            "zerolinecolor": "white"
           }
          },
          "shapedefaults": {
           "line": {
            "color": "#2a3f5f"
           }
          },
          "ternary": {
           "aaxis": {
            "gridcolor": "white",
            "linecolor": "white",
            "ticks": ""
           },
           "baxis": {
            "gridcolor": "white",
            "linecolor": "white",
            "ticks": ""
           },
           "bgcolor": "#E5ECF6",
           "caxis": {
            "gridcolor": "white",
            "linecolor": "white",
            "ticks": ""
           }
          },
          "title": {
           "x": 0.05
          },
          "xaxis": {
           "automargin": true,
           "gridcolor": "white",
           "linecolor": "white",
           "ticks": "",
           "title": {
            "standoff": 15
           },
           "zerolinecolor": "white",
           "zerolinewidth": 2
          },
          "yaxis": {
           "automargin": true,
           "gridcolor": "white",
           "linecolor": "white",
           "ticks": "",
           "title": {
            "standoff": 15
           },
           "zerolinecolor": "white",
           "zerolinewidth": 2
          }
         }
        },
        "title": {
         "text": "Contour Plot"
        },
        "xaxis": {
         "range": [
          22.7,
          51.3
         ],
         "title": {
          "text": "min_samples_split"
         }
        },
        "yaxis": {
         "range": [
          37,
          103
         ],
         "title": {
          "text": "n_estimators"
         }
        }
       }
      }
     },
     "metadata": {},
     "output_type": "display_data"
    },
    {
     "name": "stdout",
     "output_type": "stream",
     "text": [
      "\n",
      "The best hyperparameters for RF Regressor: {'n_estimators': 100, 'min_samples_split': 24}\n"
     ]
    }
   ],
   "source": [
    "best_model_log_RF, final_trained_model_train_data_log_RF  = RF_training_with_display_new(X_log,y_log, n_trials = 5, display = True, mae_type = 'dev_mae')"
   ]
  },
  {
   "cell_type": "code",
   "execution_count": 694,
   "metadata": {},
   "outputs": [
    {
     "data": {
      "image/png": "[encoded data removed]",
      "text/plain": [
       "<Figure size 1440x360 with 3 Axes>"
      ]
     },
     "metadata": {
      "needs_background": "light"
     },
     "output_type": "display_data"
    }
   ],
   "source": [
    "X_MR_ML_test = MR_ML_test.drop(columns = ['pl_bmasse', 'pl_bmasse_log'])\n",
    "y_MR_ML_test = MR_ML_test['pl_bmasse']\n",
    "y_MR_ML_test_log = MR_ML_test['pl_bmasse_log']\n",
    "\n",
    "\n",
    "fig, ax = plt.subplots(1, 3, figsize=(20, 5))\n",
    "\n",
    "c = 0\n",
    "model = final_trained_model_train_data_log_RF\n",
    "results = modified_learning_curve(X_log, y_log, X_MR_ML_test, y_MR_ML_test_log, model, N= 5, CV=5)\n",
    "\n",
    "ax[c].set_xlabel(\"Training Examples\")\n",
    "ax[c].set_ylabel(\"Score\")\n",
    "\n",
    "ax[c].plot(results['train_size'], results['mae_train_mean'], 'o-', color=\"r\", label=\"Training Score\")\n",
    "ax[c].fill_between(results['train_size'], results['mae_train_mean'] + results['mae_train_std'],\n",
    "                results['mae_train_mean'] - results['mae_train_std'],\n",
    "                alpha=0.15, color='r')\n",
    "\n",
    "ax[c].plot(results['train_size'], results['mae_test_mean'], 'o-', color=\"g\", label=\"Cross-Validation Score\")\n",
    "ax[c].fill_between(results['train_size'], results['mae_test_mean'] + results['mae_test_std'],\n",
    "                results['mae_test_mean'] - results['mae_test_std'],\n",
    "                alpha=0.15, color='g')\n",
    "\n",
    "ax[c].legend(loc=\"best\")\n",
    "ax[c].set_ylim(0.0,0.2)\n",
    "\n",
    "\n",
    "y_predicted = np.power(10,model.predict(X_MR_ML_test))\n",
    "ax[c+1].scatter(y_MR_ML_test, X_MR_ML_test['pl_rade'], color = 'grey',  label = 'observed')\n",
    "ax[c+1].scatter(y_predicted, X_MR_ML_test['pl_rade'], color = 'black',  label = 'predicted')\n",
    "ax[c+1].legend(loc = 'best')\n",
    "ax[c+1].set_xscale('log')\n",
    "ax[c+1].set_yscale('log')\n",
    "ax[c+1].set_xlabel('Mass ($M_{\\mathrm{\\oplus}}$)')\n",
    "ax[c+1].set_ylabel('Radius ($R_{\\mathrm{\\oplus}}$)')\n",
    "\n",
    "M_pred = np.power(10,final_trained_model_train_data_log_RF.predict(R_ML_table))\n",
    "ax[c+2].scatter(MR_ML_table['pl_bmasse'], MR_ML_table['pl_rade'], color = 'grey',  label = 'observed')\n",
    "ax[c+2].scatter( M_pred, R_ML_table['pl_rade'], color = 'black',  label = 'predicted')\n",
    "ax[c+2].legend(loc = 'best')\n",
    "ax[c+2].set_xscale('log')\n",
    "ax[c+2].set_yscale('log')\n",
    "ax[c+2].set_xlabel('Mass ($M_{\\mathrm{\\oplus}}$)')\n",
    "ax[c+2].set_ylabel('Radius ($R_{\\mathrm{\\oplus}}$)')    \n",
    "plt.tight_layout()"
   ]
  },
  {
   "cell_type": "code",
   "execution_count": 695,
   "metadata": {},
   "outputs": [
    {
     "data": {
      "text/plain": [
       "0.26735632804075793"
      ]
     },
     "execution_count": 695,
     "metadata": {},
     "output_type": "execute_result"
    },
    {
     "data": {
      "image/png": "[encoded data removed]",
      "text/plain": [
       "<Figure size 432x288 with 1 Axes>"
      ]
     },
     "metadata": {
      "needs_background": "light"
     },
     "output_type": "display_data"
    }
   ],
   "source": [
    "model = final_trained_model_train_data_log\n",
    "\n",
    "y_predicted = np.power(10,model.predict(X_MR_ML_test))\n",
    "y_test_linear = y_MR_ML_test\n",
    "\n",
    "rel_mass = (y_predicted - y_test_linear)/y_test_linear\n",
    "\n",
    "plt.scatter(y_test_linear, rel_mass)\n",
    "plt.xscale('log')\n",
    "\n",
    "\n",
    "np.mean(rel_mass)"
   ]
  }
 ],
 "metadata": {
  "kernelspec": {
   "display_name": "Python 3",
   "language": "python",
   "name": "python3"
  },
  "language_info": {
   "codemirror_mode": {
    "name": "ipython",
    "version": 3
   },
   "file_extension": ".py",
   "mimetype": "text/x-python",
   "name": "python",
   "nbconvert_exporter": "python",
   "pygments_lexer": "ipython3",
   "version": "3.8.10"
  },
  "orig_nbformat": 4
 },
 "nbformat": 4,
 "nbformat_minor": 2
}
