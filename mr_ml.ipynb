{
 "cells": [
  {
   "attachments": {},
   "cell_type": "markdown",
   "metadata": {},
   "source": [
    "## Importing the libraries and seting the paths"
   ]
  },
  {
   "cell_type": "code",
   "execution_count": 1,
   "metadata": {},
   "outputs": [
    {
     "name": "stderr",
     "output_type": "stream",
     "text": [
      "/home/vadibekyan/.local/lib/python3.8/site-packages/pkg_resources/__init__.py:123: PkgResourcesDeprecationWarning: 0.23ubuntu1 is an invalid version and will not be supported in a future release\n",
      "  warnings.warn(\n",
      "/home/vadibekyan/.local/lib/python3.8/site-packages/pkg_resources/__init__.py:123: PkgResourcesDeprecationWarning: 1.13.1-unknown is an invalid version and will not be supported in a future release\n",
      "  warnings.warn(\n",
      "/home/vadibekyan/my_kaggle/utils.py:52: DtypeWarning: Columns (65) have mixed types. Specify dtype option on import or set low_memory=False.\n",
      "  nea_full_table = pd.read_csv(table_directory)\n",
      "/home/vadibekyan/my_kaggle/mr_utils.py:261: SettingWithCopyWarning: \n",
      "A value is trying to be set on a copy of a slice from a DataFrame.\n",
      "Try using .loc[row_indexer,col_indexer] = value instead\n",
      "\n",
      "See the caveats in the documentation: https://pandas.pydata.org/pandas-docs/stable/user_guide/indexing.html#returning-a-view-versus-a-copy\n",
      "  nea_with_M_and_R_cleaned['Teq'] = 0\n",
      "/home/vadibekyan/my_kaggle/mr_utils.py:314: SettingWithCopyWarning: \n",
      "A value is trying to be set on a copy of a slice from a DataFrame.\n",
      "Try using .loc[row_indexer,col_indexer] = value instead\n",
      "\n",
      "See the caveats in the documentation: https://pandas.pydata.org/pandas-docs/stable/user_guide/indexing.html#returning-a-view-versus-a-copy\n",
      "  nea_with_R_cleaned['Teq'] = 0\n"
     ]
    }
   ],
   "source": [
    "from utils import open_nea_table, download_nea_table\n",
    "import pandas as pd\n",
    "import numpy as np\n",
    "import os\n",
    "import sys\n",
    "from datetime import date\n",
    "import math\n",
    "\n",
    "from mr_utils import a_from_P, Teq_from_teff_v_plx_a, Teq_from_teff_v_plx_P, teq_hellper_function, a_from_P, MR_plot, creating_R_ML_table\n",
    "\n",
    "from mr_ml_utils import score_dataset, optuna_RF_Reg, modified_learning_curve, RF_training_with_display\n",
    "from m_from_r import mass_from_radius"
   ]
  },
  {
   "attachments": {},
   "cell_type": "markdown",
   "metadata": {},
   "source": [
    "If needed to update the NEA table then first run  \"download_nea_table\""
   ]
  },
  {
   "cell_type": "code",
   "execution_count": 2,
   "metadata": {},
   "outputs": [],
   "source": [
    "#download_nea_table()"
   ]
  },
  {
   "cell_type": "code",
   "execution_count": 34,
   "metadata": {},
   "outputs": [],
   "source": [
    "nea_full_table = open_nea_table()\n",
    "nea_full_table.head(3)"
   ]
  },
  {
   "attachments": {},
   "cell_type": "markdown",
   "metadata": {},
   "source": [
    "## Selecting columns that are relevant for the ML analysis. \n",
    "\n",
    "Equilibrium temperature is important for the radius of hot planets. This parameter will be estimated from the luminosity of the star and the distance of the planet from the star. Luminosity will also be determined here."
   ]
  },
  {
   "cell_type": "code",
   "execution_count": 4,
   "metadata": {},
   "outputs": [],
   "source": [
    "relevant_columns = ['pl_rade', 'pl_radeerr1', 'pl_radeerr2', 'pl_orbsmax', 'pl_bmasse', 'pl_masseerr1', 'pl_masseerr2', 'pl_orbper',  'sy_vmag', 'sy_plx', 'st_teff', 'st_mass', 'st_met']\n",
    "nea_relevant = nea_full_table[relevant_columns]\n"
   ]
  },
  {
   "attachments": {},
   "cell_type": "markdown",
   "metadata": {},
   "source": [
    "Selecting planets with Mass and Radius measurements for ML"
   ]
  },
  {
   "cell_type": "code",
   "execution_count": 5,
   "metadata": {},
   "outputs": [
    {
     "name": "stdout",
     "output_type": "stream",
     "text": [
      "There are 1121 planets with mass and radius measurements\n"
     ]
    },
    {
     "data": {
      "text/html": [
       "<div>\n",
       "<style scoped>\n",
       "    .dataframe tbody tr th:only-of-type {\n",
       "        vertical-align: middle;\n",
       "    }\n",
       "\n",
       "    .dataframe tbody tr th {\n",
       "        vertical-align: top;\n",
       "    }\n",
       "\n",
       "    .dataframe thead th {\n",
       "        text-align: right;\n",
       "    }\n",
       "</style>\n",
       "<table border=\"1\" class=\"dataframe\">\n",
       "  <thead>\n",
       "    <tr style=\"text-align: right;\">\n",
       "      <th></th>\n",
       "      <th>pl_rade</th>\n",
       "      <th>pl_radeerr1</th>\n",
       "      <th>pl_radeerr2</th>\n",
       "      <th>pl_orbsmax</th>\n",
       "      <th>pl_bmasse</th>\n",
       "      <th>pl_masseerr1</th>\n",
       "      <th>pl_masseerr2</th>\n",
       "      <th>pl_orbper</th>\n",
       "      <th>sy_vmag</th>\n",
       "      <th>sy_plx</th>\n",
       "      <th>st_teff</th>\n",
       "      <th>st_mass</th>\n",
       "      <th>st_met</th>\n",
       "    </tr>\n",
       "  </thead>\n",
       "  <tbody>\n",
       "    <tr>\n",
       "      <th>count</th>\n",
       "      <td>1121.000000</td>\n",
       "      <td>1097.000000</td>\n",
       "      <td>1097.000000</td>\n",
       "      <td>878.000000</td>\n",
       "      <td>1121.000000</td>\n",
       "      <td>997.000000</td>\n",
       "      <td>997.000000</td>\n",
       "      <td>1.106000e+03</td>\n",
       "      <td>1118.000000</td>\n",
       "      <td>1093.000000</td>\n",
       "      <td>1029.000000</td>\n",
       "      <td>1099.000000</td>\n",
       "      <td>946.000000</td>\n",
       "    </tr>\n",
       "    <tr>\n",
       "      <th>mean</th>\n",
       "      <td>8.920726</td>\n",
       "      <td>0.658813</td>\n",
       "      <td>-0.571374</td>\n",
       "      <td>17.160517</td>\n",
       "      <td>420.030847</td>\n",
       "      <td>62.531148</td>\n",
       "      <td>-58.983919</td>\n",
       "      <td>3.763113e+05</td>\n",
       "      <td>12.263198</td>\n",
       "      <td>9.316416</td>\n",
       "      <td>5500.237318</td>\n",
       "      <td>1.007607</td>\n",
       "      <td>0.050680</td>\n",
       "    </tr>\n",
       "    <tr>\n",
       "      <th>std</th>\n",
       "      <td>6.087014</td>\n",
       "      <td>1.020060</td>\n",
       "      <td>0.797187</td>\n",
       "      <td>272.583333</td>\n",
       "      <td>960.867372</td>\n",
       "      <td>243.031013</td>\n",
       "      <td>228.914651</td>\n",
       "      <td>1.209112e+07</td>\n",
       "      <td>2.177996</td>\n",
       "      <td>17.915702</td>\n",
       "      <td>1353.519686</td>\n",
       "      <td>0.342385</td>\n",
       "      <td>0.196025</td>\n",
       "    </tr>\n",
       "    <tr>\n",
       "      <th>min</th>\n",
       "      <td>0.310000</td>\n",
       "      <td>0.006000</td>\n",
       "      <td>-6.730000</td>\n",
       "      <td>0.006000</td>\n",
       "      <td>0.070000</td>\n",
       "      <td>0.012000</td>\n",
       "      <td>-4767.450000</td>\n",
       "      <td>2.401040e-01</td>\n",
       "      <td>5.569110</td>\n",
       "      <td>-0.149186</td>\n",
       "      <td>575.000000</td>\n",
       "      <td>0.010000</td>\n",
       "      <td>-0.580000</td>\n",
       "    </tr>\n",
       "    <tr>\n",
       "      <th>25%</th>\n",
       "      <td>2.607000</td>\n",
       "      <td>0.112000</td>\n",
       "      <td>-0.684000</td>\n",
       "      <td>0.038155</td>\n",
       "      <td>10.100000</td>\n",
       "      <td>2.100000</td>\n",
       "      <td>-41.317900</td>\n",
       "      <td>3.003277e+00</td>\n",
       "      <td>11.000250</td>\n",
       "      <td>1.948610</td>\n",
       "      <td>5052.000000</td>\n",
       "      <td>0.830000</td>\n",
       "      <td>-0.070000</td>\n",
       "    </tr>\n",
       "    <tr>\n",
       "      <th>50%</th>\n",
       "      <td>10.368000</td>\n",
       "      <td>0.336000</td>\n",
       "      <td>-0.325000</td>\n",
       "      <td>0.054010</td>\n",
       "      <td>123.953700</td>\n",
       "      <td>14.937000</td>\n",
       "      <td>-14.302000</td>\n",
       "      <td>4.603155e+00</td>\n",
       "      <td>12.246000</td>\n",
       "      <td>3.535580</td>\n",
       "      <td>5625.000000</td>\n",
       "      <td>1.000000</td>\n",
       "      <td>0.060000</td>\n",
       "    </tr>\n",
       "    <tr>\n",
       "      <th>75%</th>\n",
       "      <td>13.787000</td>\n",
       "      <td>0.785000</td>\n",
       "      <td>-0.110000</td>\n",
       "      <td>0.101175</td>\n",
       "      <td>379.000000</td>\n",
       "      <td>43.223000</td>\n",
       "      <td>-2.000000</td>\n",
       "      <td>1.189179e+01</td>\n",
       "      <td>13.688000</td>\n",
       "      <td>8.107340</td>\n",
       "      <td>6011.000000</td>\n",
       "      <td>1.180000</td>\n",
       "      <td>0.190000</td>\n",
       "    </tr>\n",
       "    <tr>\n",
       "      <th>max</th>\n",
       "      <td>33.600000</td>\n",
       "      <td>10.536000</td>\n",
       "      <td>0.000000</td>\n",
       "      <td>7506.000000</td>\n",
       "      <td>9534.900000</td>\n",
       "      <td>4767.450000</td>\n",
       "      <td>-0.012000</td>\n",
       "      <td>4.020000e+08</td>\n",
       "      <td>20.154400</td>\n",
       "      <td>153.081000</td>\n",
       "      <td>27730.000000</td>\n",
       "      <td>2.780000</td>\n",
       "      <td>0.522000</td>\n",
       "    </tr>\n",
       "  </tbody>\n",
       "</table>\n",
       "</div>"
      ],
      "text/plain": [
       "           pl_rade  pl_radeerr1  pl_radeerr2   pl_orbsmax    pl_bmasse  \\\n",
       "count  1121.000000  1097.000000  1097.000000   878.000000  1121.000000   \n",
       "mean      8.920726     0.658813    -0.571374    17.160517   420.030847   \n",
       "std       6.087014     1.020060     0.797187   272.583333   960.867372   \n",
       "min       0.310000     0.006000    -6.730000     0.006000     0.070000   \n",
       "25%       2.607000     0.112000    -0.684000     0.038155    10.100000   \n",
       "50%      10.368000     0.336000    -0.325000     0.054010   123.953700   \n",
       "75%      13.787000     0.785000    -0.110000     0.101175   379.000000   \n",
       "max      33.600000    10.536000     0.000000  7506.000000  9534.900000   \n",
       "\n",
       "       pl_masseerr1  pl_masseerr2     pl_orbper      sy_vmag       sy_plx  \\\n",
       "count    997.000000    997.000000  1.106000e+03  1118.000000  1093.000000   \n",
       "mean      62.531148    -58.983919  3.763113e+05    12.263198     9.316416   \n",
       "std      243.031013    228.914651  1.209112e+07     2.177996    17.915702   \n",
       "min        0.012000  -4767.450000  2.401040e-01     5.569110    -0.149186   \n",
       "25%        2.100000    -41.317900  3.003277e+00    11.000250     1.948610   \n",
       "50%       14.937000    -14.302000  4.603155e+00    12.246000     3.535580   \n",
       "75%       43.223000     -2.000000  1.189179e+01    13.688000     8.107340   \n",
       "max     4767.450000     -0.012000  4.020000e+08    20.154400   153.081000   \n",
       "\n",
       "            st_teff      st_mass      st_met  \n",
       "count   1029.000000  1099.000000  946.000000  \n",
       "mean    5500.237318     1.007607    0.050680  \n",
       "std     1353.519686     0.342385    0.196025  \n",
       "min      575.000000     0.010000   -0.580000  \n",
       "25%     5052.000000     0.830000   -0.070000  \n",
       "50%     5625.000000     1.000000    0.060000  \n",
       "75%     6011.000000     1.180000    0.190000  \n",
       "max    27730.000000     2.780000    0.522000  "
      ]
     },
     "execution_count": 5,
     "metadata": {},
     "output_type": "execute_result"
    }
   ],
   "source": [
    "nea_with_M_and_R = nea_relevant[(nea_relevant.pl_bmasse > 0) & (nea_relevant.pl_rade > 0) ].reset_index(drop=True) # reset index, drop old ones\n",
    "\n",
    "print (f'There are {len(nea_with_M_and_R)} planets with mass and radius measurements')\n",
    "\n",
    "nea_with_M_and_R.describe()"
   ]
  },
  {
   "attachments": {},
   "cell_type": "markdown",
   "metadata": {},
   "source": [
    "There seem to be star(s) with negative parallaxes. They must be removed fromthe sample"
   ]
  },
  {
   "cell_type": "code",
   "execution_count": 6,
   "metadata": {},
   "outputs": [],
   "source": [
    "nea_with_M_and_R = nea_with_M_and_R[nea_with_M_and_R.sy_plx > 0]"
   ]
  },
  {
   "attachments": {},
   "cell_type": "markdown",
   "metadata": {},
   "source": [
    "To calculate Teq, one needs Luminosity (us such, Teff, Vmag, and Plx) and semimajor axis (or orbital period ond Mstar)"
   ]
  },
  {
   "cell_type": "code",
   "execution_count": 7,
   "metadata": {},
   "outputs": [
    {
     "data": {
      "text/plain": [
       "pl_rade           0\n",
       "pl_radeerr1      22\n",
       "pl_radeerr2      22\n",
       "pl_orbsmax      242\n",
       "pl_bmasse         0\n",
       "pl_masseerr1    122\n",
       "pl_masseerr2    122\n",
       "pl_orbper        13\n",
       "sy_vmag           0\n",
       "sy_plx            0\n",
       "st_teff          89\n",
       "st_mass          20\n",
       "st_met          160\n",
       "dtype: int64"
      ]
     },
     "execution_count": 7,
     "metadata": {},
     "output_type": "execute_result"
    }
   ],
   "source": [
    "#check how many nan values have in each column\n",
    "nea_with_M_and_R.isna().sum()"
   ]
  },
  {
   "attachments": {},
   "cell_type": "markdown",
   "metadata": {},
   "source": [
    "There are 235 missing entries for semimajor axis. This parameter can be estimated from the stellar mass and orbital period.\n",
    "\n",
    "Next, all the rows containing nan values will be removed, except if the nan is in the \"pl_orbsmax\" column"
   ]
  },
  {
   "cell_type": "code",
   "execution_count": 8,
   "metadata": {},
   "outputs": [
    {
     "data": {
      "text/plain": [
       "pl_rade           0\n",
       "pl_radeerr1       0\n",
       "pl_radeerr2       0\n",
       "pl_orbsmax      159\n",
       "pl_bmasse         0\n",
       "pl_masseerr1      0\n",
       "pl_masseerr2      0\n",
       "pl_orbper         0\n",
       "sy_vmag           0\n",
       "sy_plx            0\n",
       "st_teff           0\n",
       "st_mass           0\n",
       "st_met            0\n",
       "dtype: int64"
      ]
     },
     "execution_count": 8,
     "metadata": {},
     "output_type": "execute_result"
    }
   ],
   "source": [
    "nea_with_M_and_R_cleaned = nea_with_M_and_R.dropna(subset=nea_with_M_and_R.columns.drop(['pl_orbsmax']))\n",
    "# Check results\n",
    "nea_with_M_and_R_cleaned.isna().sum()\n"
   ]
  },
  {
   "cell_type": "code",
   "execution_count": 9,
   "metadata": {},
   "outputs": [
    {
     "name": "stdout",
     "output_type": "stream",
     "text": [
      "There are 822 planets for the ML analysis\n"
     ]
    },
    {
     "data": {
      "text/html": [
       "<div>\n",
       "<style scoped>\n",
       "    .dataframe tbody tr th:only-of-type {\n",
       "        vertical-align: middle;\n",
       "    }\n",
       "\n",
       "    .dataframe tbody tr th {\n",
       "        vertical-align: top;\n",
       "    }\n",
       "\n",
       "    .dataframe thead th {\n",
       "        text-align: right;\n",
       "    }\n",
       "</style>\n",
       "<table border=\"1\" class=\"dataframe\">\n",
       "  <thead>\n",
       "    <tr style=\"text-align: right;\">\n",
       "      <th></th>\n",
       "      <th>pl_rade</th>\n",
       "      <th>pl_radeerr1</th>\n",
       "      <th>pl_radeerr2</th>\n",
       "      <th>pl_orbsmax</th>\n",
       "      <th>pl_bmasse</th>\n",
       "      <th>pl_masseerr1</th>\n",
       "      <th>pl_masseerr2</th>\n",
       "      <th>pl_orbper</th>\n",
       "      <th>sy_vmag</th>\n",
       "      <th>sy_plx</th>\n",
       "      <th>st_teff</th>\n",
       "      <th>st_mass</th>\n",
       "      <th>st_met</th>\n",
       "    </tr>\n",
       "  </thead>\n",
       "  <tbody>\n",
       "    <tr>\n",
       "      <th>4</th>\n",
       "      <td>16.870</td>\n",
       "      <td>0.560</td>\n",
       "      <td>-0.504</td>\n",
       "      <td>0.0535</td>\n",
       "      <td>271.74465</td>\n",
       "      <td>22.88376</td>\n",
       "      <td>-21.93027</td>\n",
       "      <td>3.899052</td>\n",
       "      <td>12.006</td>\n",
       "      <td>1.73126</td>\n",
       "      <td>5941.0</td>\n",
       "      <td>1.34</td>\n",
       "      <td>0.164</td>\n",
       "    </tr>\n",
       "    <tr>\n",
       "      <th>5</th>\n",
       "      <td>21.633</td>\n",
       "      <td>5.044</td>\n",
       "      <td>-5.044</td>\n",
       "      <td>NaN</td>\n",
       "      <td>352.79130</td>\n",
       "      <td>171.62820</td>\n",
       "      <td>-171.62820</td>\n",
       "      <td>2.175180</td>\n",
       "      <td>11.965</td>\n",
       "      <td>1.29679</td>\n",
       "      <td>6100.0</td>\n",
       "      <td>1.87</td>\n",
       "      <td>-0.350</td>\n",
       "    </tr>\n",
       "    <tr>\n",
       "      <th>6</th>\n",
       "      <td>12.722</td>\n",
       "      <td>0.538</td>\n",
       "      <td>-0.538</td>\n",
       "      <td>0.0466</td>\n",
       "      <td>180.84527</td>\n",
       "      <td>7.31009</td>\n",
       "      <td>-6.99226</td>\n",
       "      <td>3.652815</td>\n",
       "      <td>13.146</td>\n",
       "      <td>3.30091</td>\n",
       "      <td>5519.0</td>\n",
       "      <td>1.01</td>\n",
       "      <td>0.294</td>\n",
       "    </tr>\n",
       "  </tbody>\n",
       "</table>\n",
       "</div>"
      ],
      "text/plain": [
       "   pl_rade  pl_radeerr1  pl_radeerr2  pl_orbsmax  pl_bmasse  pl_masseerr1  \\\n",
       "4   16.870        0.560       -0.504      0.0535  271.74465      22.88376   \n",
       "5   21.633        5.044       -5.044         NaN  352.79130     171.62820   \n",
       "6   12.722        0.538       -0.538      0.0466  180.84527       7.31009   \n",
       "\n",
       "   pl_masseerr2  pl_orbper  sy_vmag   sy_plx  st_teff  st_mass  st_met  \n",
       "4     -21.93027   3.899052   12.006  1.73126   5941.0     1.34   0.164  \n",
       "5    -171.62820   2.175180   11.965  1.29679   6100.0     1.87  -0.350  \n",
       "6      -6.99226   3.652815   13.146  3.30091   5519.0     1.01   0.294  "
      ]
     },
     "execution_count": 9,
     "metadata": {},
     "output_type": "execute_result"
    }
   ],
   "source": [
    "print (f'There are {len(nea_with_M_and_R_cleaned)} planets for the ML analysis')\n",
    "nea_with_M_and_R_cleaned.head(3)"
   ]
  },
  {
   "attachments": {},
   "cell_type": "markdown",
   "metadata": {},
   "source": [
    "Calculating semimajor axis from Period and stellar mass, for the missing \"a\" entries"
   ]
  },
  {
   "cell_type": "code",
   "execution_count": 10,
   "metadata": {},
   "outputs": [],
   "source": [
    "for i in range(len(nea_with_M_and_R_cleaned)):\n",
    "    if np.isnan(nea_with_M_and_R_cleaned.iloc[i]['pl_orbsmax']):\n",
    "        nea_with_M_and_R_cleaned.iloc[i]['pl_orbsmax'] = a_from_P(nea_with_M_and_R_cleaned.iloc[i]['st_mass'], nea_with_M_and_R_cleaned.iloc[i]['pl_orbper'])\n"
   ]
  },
  {
   "attachments": {},
   "cell_type": "markdown",
   "metadata": {},
   "source": [
    "Calculating Teq from \"a\" or \"P\" "
   ]
  },
  {
   "attachments": {},
   "cell_type": "markdown",
   "metadata": {},
   "source": [
    "Use teq_hellper_function function to determine Teq from \"a\" or \"P\" depending on their availability. Priority is given to \"a\""
   ]
  },
  {
   "cell_type": "code",
   "execution_count": 11,
   "metadata": {},
   "outputs": [
    {
     "name": "stderr",
     "output_type": "stream",
     "text": [
      "/tmp/ipykernel_3071085/293283582.py:2: SettingWithCopyWarning: \n",
      "A value is trying to be set on a copy of a slice from a DataFrame.\n",
      "Try using .loc[row_indexer,col_indexer] = value instead\n",
      "\n",
      "See the caveats in the documentation: https://pandas.pydata.org/pandas-docs/stable/user_guide/indexing.html#returning-a-view-versus-a-copy\n",
      "  nea_with_M_and_R_cleaned['Teq'] = 0\n"
     ]
    }
   ],
   "source": [
    "# Add new columns: Teq\n",
    "nea_with_M_and_R_cleaned['Teq'] = 0\n",
    "\n",
    "nea_with_M_and_R_cleaned = nea_with_M_and_R_cleaned.apply(lambda x: teq_hellper_function(x, 'pl_orbsmax', 'pl_orbper', 'st_teff', 'sy_vmag', 'sy_plx', 'st_mass', 'Teq'), axis = 1)"
   ]
  },
  {
   "cell_type": "code",
   "execution_count": 12,
   "metadata": {},
   "outputs": [
    {
     "data": {
      "text/html": [
       "<div>\n",
       "<style scoped>\n",
       "    .dataframe tbody tr th:only-of-type {\n",
       "        vertical-align: middle;\n",
       "    }\n",
       "\n",
       "    .dataframe tbody tr th {\n",
       "        vertical-align: top;\n",
       "    }\n",
       "\n",
       "    .dataframe thead th {\n",
       "        text-align: right;\n",
       "    }\n",
       "</style>\n",
       "<table border=\"1\" class=\"dataframe\">\n",
       "  <thead>\n",
       "    <tr style=\"text-align: right;\">\n",
       "      <th></th>\n",
       "      <th>pl_rade</th>\n",
       "      <th>pl_radeerr1</th>\n",
       "      <th>pl_radeerr2</th>\n",
       "      <th>pl_orbsmax</th>\n",
       "      <th>pl_bmasse</th>\n",
       "      <th>pl_masseerr1</th>\n",
       "      <th>pl_masseerr2</th>\n",
       "      <th>pl_orbper</th>\n",
       "      <th>sy_vmag</th>\n",
       "      <th>sy_plx</th>\n",
       "      <th>st_teff</th>\n",
       "      <th>st_mass</th>\n",
       "      <th>st_met</th>\n",
       "      <th>Teq</th>\n",
       "    </tr>\n",
       "  </thead>\n",
       "  <tbody>\n",
       "    <tr>\n",
       "      <th>555</th>\n",
       "      <td>21.196</td>\n",
       "      <td>0.684</td>\n",
       "      <td>-0.594</td>\n",
       "      <td>0.03462</td>\n",
       "      <td>915.35040</td>\n",
       "      <td>266.97720</td>\n",
       "      <td>-266.97720</td>\n",
       "      <td>1.481124e+00</td>\n",
       "      <td>7.55000</td>\n",
       "      <td>4.86254</td>\n",
       "      <td>10170.0</td>\n",
       "      <td>2.52</td>\n",
       "      <td>-0.03</td>\n",
       "      <td>0.0</td>\n",
       "    </tr>\n",
       "    <tr>\n",
       "      <th>711</th>\n",
       "      <td>20.288</td>\n",
       "      <td>1.009</td>\n",
       "      <td>-1.009</td>\n",
       "      <td>0.05580</td>\n",
       "      <td>527.59780</td>\n",
       "      <td>38.13960</td>\n",
       "      <td>-38.13960</td>\n",
       "      <td>3.344829e+00</td>\n",
       "      <td>9.94600</td>\n",
       "      <td>2.31187</td>\n",
       "      <td>9360.0</td>\n",
       "      <td>2.07</td>\n",
       "      <td>0.21</td>\n",
       "      <td>0.0</td>\n",
       "    </tr>\n",
       "    <tr>\n",
       "      <th>717</th>\n",
       "      <td>18.147</td>\n",
       "      <td>0.235</td>\n",
       "      <td>-0.235</td>\n",
       "      <td>0.05053</td>\n",
       "      <td>632.47853</td>\n",
       "      <td>50.85255</td>\n",
       "      <td>-44.49598</td>\n",
       "      <td>2.724033e+00</td>\n",
       "      <td>6.59776</td>\n",
       "      <td>9.99903</td>\n",
       "      <td>8000.0</td>\n",
       "      <td>2.03</td>\n",
       "      <td>0.29</td>\n",
       "      <td>0.0</td>\n",
       "    </tr>\n",
       "    <tr>\n",
       "      <th>1069</th>\n",
       "      <td>12.442</td>\n",
       "      <td>0.336</td>\n",
       "      <td>-0.336</td>\n",
       "      <td>7506.00000</td>\n",
       "      <td>2002.31896</td>\n",
       "      <td>476.74261</td>\n",
       "      <td>-603.87397</td>\n",
       "      <td>4.020000e+08</td>\n",
       "      <td>11.29800</td>\n",
       "      <td>91.82910</td>\n",
       "      <td>3406.0</td>\n",
       "      <td>0.37</td>\n",
       "      <td>0.00</td>\n",
       "      <td>1.0</td>\n",
       "    </tr>\n",
       "  </tbody>\n",
       "</table>\n",
       "</div>"
      ],
      "text/plain": [
       "      pl_rade  pl_radeerr1  pl_radeerr2  pl_orbsmax   pl_bmasse  pl_masseerr1  \\\n",
       "555    21.196        0.684       -0.594     0.03462   915.35040     266.97720   \n",
       "711    20.288        1.009       -1.009     0.05580   527.59780      38.13960   \n",
       "717    18.147        0.235       -0.235     0.05053   632.47853      50.85255   \n",
       "1069   12.442        0.336       -0.336  7506.00000  2002.31896     476.74261   \n",
       "\n",
       "      pl_masseerr2     pl_orbper   sy_vmag    sy_plx  st_teff  st_mass  \\\n",
       "555     -266.97720  1.481124e+00   7.55000   4.86254  10170.0     2.52   \n",
       "711      -38.13960  3.344829e+00   9.94600   2.31187   9360.0     2.07   \n",
       "717      -44.49598  2.724033e+00   6.59776   9.99903   8000.0     2.03   \n",
       "1069    -603.87397  4.020000e+08  11.29800  91.82910   3406.0     0.37   \n",
       "\n",
       "      st_met  Teq  \n",
       "555    -0.03  0.0  \n",
       "711     0.21  0.0  \n",
       "717     0.29  0.0  \n",
       "1069    0.00  1.0  "
      ]
     },
     "metadata": {},
     "output_type": "display_data"
    },
    {
     "name": "stdout",
     "output_type": "stream",
     "text": [
      "None\n"
     ]
    }
   ],
   "source": [
    "# very 'cool' planets\n",
    "print (display(nea_with_M_and_R_cleaned[nea_with_M_and_R_cleaned.Teq < 100]))\n",
    "\n",
    "#Some of the parameters used to calculate the Teq must be wrong. These objects should be removed\n",
    "\n",
    "nea_with_M_and_R_cleaned = nea_with_M_and_R_cleaned[nea_with_M_and_R_cleaned.Teq > 10]"
   ]
  },
  {
   "attachments": {},
   "cell_type": "markdown",
   "metadata": {},
   "source": [
    "### Selecting plaents with relatively high precision in Mass and Radius"
   ]
  },
  {
   "cell_type": "code",
   "execution_count": 13,
   "metadata": {},
   "outputs": [],
   "source": [
    "# calculating the mean errors of M and R\n",
    "nea_with_M_and_R_cleaned['pl_rade_err'] = (nea_with_M_and_R_cleaned['pl_radeerr1'] - nea_with_M_and_R_cleaned['pl_radeerr2'])/2\n",
    "nea_with_M_and_R_cleaned['pl_bmasse_err'] = (nea_with_M_and_R_cleaned['pl_masseerr1'] - nea_with_M_and_R_cleaned['pl_masseerr2'])/2"
   ]
  },
  {
   "cell_type": "code",
   "execution_count": 14,
   "metadata": {},
   "outputs": [
    {
     "name": "stdout",
     "output_type": "stream",
     "text": [
      "There are 781 precisely characterized planets in terms of Mass and Radius\n"
     ]
    }
   ],
   "source": [
    "M_threshold = 0.5\n",
    "R_threshold = 0.5\n",
    "precise_criteria = (nea_with_M_and_R_cleaned['pl_rade_err']/nea_with_M_and_R_cleaned['pl_rade'] < R_threshold) & (nea_with_M_and_R_cleaned['pl_bmasse_err']/nea_with_M_and_R_cleaned['pl_bmasse'] < M_threshold)\n",
    "nea_with_M_and_R_cleaned_accurate = nea_with_M_and_R_cleaned[precise_criteria]\n",
    "\n",
    "print (f'There are {len(nea_with_M_and_R_cleaned_accurate)} precisely characterized planets in terms of Mass and Radius')"
   ]
  },
  {
   "cell_type": "code",
   "execution_count": 15,
   "metadata": {},
   "outputs": [
    {
     "data": {
      "text/html": [
       "<div>\n",
       "<style scoped>\n",
       "    .dataframe tbody tr th:only-of-type {\n",
       "        vertical-align: middle;\n",
       "    }\n",
       "\n",
       "    .dataframe tbody tr th {\n",
       "        vertical-align: top;\n",
       "    }\n",
       "\n",
       "    .dataframe thead th {\n",
       "        text-align: right;\n",
       "    }\n",
       "</style>\n",
       "<table border=\"1\" class=\"dataframe\">\n",
       "  <thead>\n",
       "    <tr style=\"text-align: right;\">\n",
       "      <th></th>\n",
       "      <th>pl_rade</th>\n",
       "      <th>pl_bmasse</th>\n",
       "      <th>Teq</th>\n",
       "      <th>st_teff</th>\n",
       "      <th>pl_orbsmax</th>\n",
       "      <th>st_met</th>\n",
       "    </tr>\n",
       "  </thead>\n",
       "  <tbody>\n",
       "    <tr>\n",
       "      <th>4</th>\n",
       "      <td>16.870</td>\n",
       "      <td>271.74465</td>\n",
       "      <td>1744.0</td>\n",
       "      <td>5941.0</td>\n",
       "      <td>0.053500</td>\n",
       "      <td>0.164</td>\n",
       "    </tr>\n",
       "    <tr>\n",
       "      <th>5</th>\n",
       "      <td>21.633</td>\n",
       "      <td>352.79130</td>\n",
       "      <td>5466.0</td>\n",
       "      <td>6100.0</td>\n",
       "      <td>0.007337</td>\n",
       "      <td>-0.350</td>\n",
       "    </tr>\n",
       "  </tbody>\n",
       "</table>\n",
       "</div>"
      ],
      "text/plain": [
       "   pl_rade  pl_bmasse     Teq  st_teff  pl_orbsmax  st_met\n",
       "4   16.870  271.74465  1744.0   5941.0    0.053500   0.164\n",
       "5   21.633  352.79130  5466.0   6100.0    0.007337  -0.350"
      ]
     },
     "execution_count": 15,
     "metadata": {},
     "output_type": "execute_result"
    }
   ],
   "source": [
    "# Final table with Mass, Radius, and Teq\n",
    "nea_MR_final_table = nea_with_M_and_R_cleaned_accurate[['pl_rade', 'pl_bmasse', 'Teq', 'st_teff', 'pl_orbsmax', 'st_met']]\n",
    "nea_MR_final_table.head(2)"
   ]
  },
  {
   "attachments": {},
   "cell_type": "markdown",
   "metadata": {},
   "source": [
    "# Starting the Machine Learning part"
   ]
  },
  {
   "attachments": {},
   "cell_type": "markdown",
   "metadata": {},
   "source": [
    "Since the accuracy of Mass estimation is not critical, I'll make things simple (but still keeping the state-of-the-art): \n",
    "\n",
    "Use Random Forest regressor and tune HyperParameters with \"optuna\" (sometimes better than grid_search see e.g. [this](https://medium.com/mlearning-ai/hyper-parameter-tuning-through-grid-search-and-optuna-2bd89a2ece06)"
   ]
  },
  {
   "cell_type": "code",
   "execution_count": 16,
   "metadata": {},
   "outputs": [],
   "source": [
    "import matplotlib.pyplot as plt\n",
    "import seaborn as sns\n",
    "%matplotlib inline"
   ]
  },
  {
   "attachments": {},
   "cell_type": "markdown",
   "metadata": {},
   "source": [
    "### Displaying the data"
   ]
  },
  {
   "cell_type": "code",
   "execution_count": 17,
   "metadata": {},
   "outputs": [
    {
     "data": {
      "image/png": "[encoded data removed]",
      "text/plain": [
       "<Figure size 576x432 with 1 Axes>"
      ]
     },
     "metadata": {
      "needs_background": "light"
     },
     "output_type": "display_data"
    }
   ],
   "source": [
    "fig = plt.figure(1, figsize = (8,6))\n",
    "ax = plt.subplot(1,1,1)\n",
    "MR_plot(ax, nea_MR_final_table.pl_bmasse, nea_MR_final_table.pl_rade, color = nea_MR_final_table['Teq'], label = 'MR data')"
   ]
  },
  {
   "cell_type": "code",
   "execution_count": 18,
   "metadata": {},
   "outputs": [
    {
     "data": {
      "image/png": "[encoded data removed]",
      "text/plain": [
       "<Figure size 1440x432 with 6 Axes>"
      ]
     },
     "metadata": {
      "needs_background": "light"
     },
     "output_type": "display_data"
    }
   ],
   "source": [
    "fig = plt.figure(2, figsize = (20,6))\n",
    "ax = plt.gca()\n",
    "\n",
    "for i, col  in enumerate(nea_MR_final_table.columns):\n",
    "    ax = plt.subplot(1, 6, i+1)\n",
    "    if nea_MR_final_table[col].max() / nea_MR_final_table[col].min() > 1e3:\n",
    "        ax.hist(np.log10(nea_MR_final_table[col]))\n",
    "        ax.set_xlabel(f'log10({col})', fontsize = 15)\n",
    "    else:\n",
    "        ax.hist((nea_MR_final_table[col]))\n",
    "        ax.set_xlabel(col, fontsize = 15)"
   ]
  },
  {
   "cell_type": "markdown",
   "metadata": {},
   "source": [
    "Some of the parameters, including planetary Masses, have very wide distribution. Several parameters do not show symmetric distribution"
   ]
  },
  {
   "cell_type": "code",
   "execution_count": 19,
   "metadata": {},
   "outputs": [],
   "source": [
    "from sklearn.model_selection import train_test_split, cross_val_score, learning_curve, GridSearchCV\n",
    "from sklearn.metrics import mean_squared_error, mean_absolute_error\n",
    "\n",
    "from sklearn.ensemble import RandomForestRegressor"
   ]
  },
  {
   "cell_type": "markdown",
   "metadata": {},
   "source": [
    "Selecting our target variable ( y = planetary mass) and the input features (X =[Teff, metallicity, radius, orbital semi-major axis, Teq])"
   ]
  },
  {
   "cell_type": "code",
   "execution_count": 20,
   "metadata": {},
   "outputs": [],
   "source": [
    "y = nea_MR_final_table['pl_bmasse']\n",
    "X = nea_MR_final_table.drop(columns = ['pl_bmasse'])"
   ]
  },
  {
   "cell_type": "markdown",
   "metadata": {},
   "source": [
    "### Looking for Multicollinearity among input features"
   ]
  },
  {
   "cell_type": "code",
   "execution_count": 21,
   "metadata": {},
   "outputs": [
    {
     "data": {
      "image/png": "[encoded data removed]",
      "text/plain": [
       "<Figure size 432x288 with 1 Axes>"
      ]
     },
     "metadata": {
      "needs_background": "light"
     },
     "output_type": "display_data"
    }
   ],
   "source": [
    "sns.heatmap(X.corr(),annot=True,fmt=\"0.1f\",cbar=False,mask=np.triu(X.corr()));"
   ]
  },
  {
   "cell_type": "markdown",
   "metadata": {},
   "source": [
    "There is no strong correlation between the features. The strongest one is between Teq and Teff which is expected as Teq is derived from Teff... This might not nessesarly be a problem - [see here](https://corporatefinanceinstitute.com/resources/data-science/variance-inflation-factor-vif/#:~:text=Generally%2C%20a%20VIF%20above%204,that%20needs%20to%20be%20corrected)."
   ]
  },
  {
   "cell_type": "code",
   "execution_count": 22,
   "metadata": {},
   "outputs": [
    {
     "name": "stdout",
     "output_type": "stream",
     "text": [
      "pl_rade: 5.5\n",
      "Teq: 4.8\n",
      "st_teff: 8.0\n",
      "pl_orbsmax: 1.5\n",
      "st_met: 1.2\n"
     ]
    }
   ],
   "source": [
    "from statsmodels.stats.outliers_influence import variance_inflation_factor\n",
    "\n",
    "X_vif  = X.copy()\n",
    "vif =  [variance_inflation_factor(X_vif.values, i) for i in range(X_vif.shape[1])]\n",
    "for i, col in enumerate(X_vif.columns):\n",
    "    print (f'{col}: {vif[i]:.1f}')"
   ]
  },
  {
   "cell_type": "markdown",
   "metadata": {},
   "source": [
    "### Tuning the hyperparameters using Optuna and fitting the data"
   ]
  },
  {
   "cell_type": "code",
   "execution_count": 23,
   "metadata": {},
   "outputs": [
    {
     "name": "stdout",
     "output_type": "stream",
     "text": [
      "The base MAE score from the training set is 233\n"
     ]
    },
    {
     "name": "stderr",
     "output_type": "stream",
     "text": [
      "\u001b[32m[I 2023-07-29 16:34:22,316]\u001b[0m A new study created in memory with name: no-name-2bf57fe0-876d-4da7-b64c-c5c453bb2d1e\u001b[0m\n",
      "\u001b[32m[I 2023-07-29 16:34:23,150]\u001b[0m Trial 0 finished with value: 233.45837719338016 and parameters: {'n_estimators': 60, 'max_depth': 7, 'min_samples_split': 8, 'min_samples_leaf': 4, 'max_features': 3}. Best is trial 0 with value: 233.45837719338016.\u001b[0m\n",
      "\u001b[32m[I 2023-07-29 16:34:25,010]\u001b[0m Trial 1 finished with value: 230.88724866649918 and parameters: {'n_estimators': 120, 'max_depth': 8, 'min_samples_split': 3, 'min_samples_leaf': 4, 'max_features': 6}. Best is trial 1 with value: 230.88724866649918.\u001b[0m\n",
      "\u001b[32m[I 2023-07-29 16:34:26,724]\u001b[0m Trial 2 finished with value: 240.49191661073345 and parameters: {'n_estimators': 160, 'max_depth': 4, 'min_samples_split': 6, 'min_samples_leaf': 2, 'max_features': 4}. Best is trial 1 with value: 230.88724866649918.\u001b[0m\n"
     ]
    },
    {
     "data": {
      "application/vnd.plotly.v1+json": {
       "config": {
        "plotlyServerURL": "https://plot.ly"
       },
       "data": [
        {
         "cliponaxis": false,
         "hovertemplate": [
          "min_samples_split (IntDistribution): 0.07345897663717328<extra></extra>",
          "max_features (IntDistribution): 0.20761541581277154<extra></extra>",
          "min_samples_leaf (IntDistribution): 0.223918609767318<extra></extra>",
          "max_depth (IntDistribution): 0.23980951345024953<extra></extra>",
          "n_estimators (IntDistribution): 0.25519748433248746<extra></extra>"
         ],
         "marker": {
          "color": "rgb(66,146,198)"
         },
         "orientation": "h",
         "text": [
          "0.07",
          "0.21",
          "0.22",
          "0.24",
          "0.26"
         ],
         "textposition": "outside",
         "type": "bar",
         "x": [
          0.07345897663717328,
          0.20761541581277154,
          0.223918609767318,
          0.23980951345024953,
          0.25519748433248746
         ],
         "y": [
          "min_samples_split",
          "max_features",
          "min_samples_leaf",
          "max_depth",
          "n_estimators"
         ]
        }
       ],
       "layout": {
        "showlegend": false,
        "template": {
         "data": {
          "bar": [
           {
            "error_x": {
             "color": "#2a3f5f"
            },
            "error_y": {
             "color": "#2a3f5f"
            },
            "marker": {
             "line": {
              "color": "#E5ECF6",
              "width": 0.5
             },
             "pattern": {
              "fillmode": "overlay",
              "size": 10,
              "solidity": 0.2
             }
            },
            "type": "bar"
           }
          ],
          "barpolar": [
           {
            "marker": {
             "line": {
              "color": "#E5ECF6",
              "width": 0.5
             },
             "pattern": {
              "fillmode": "overlay",
              "size": 10,
              "solidity": 0.2
             }
            },
            "type": "barpolar"
           }
          ],
          "carpet": [
           {
            "aaxis": {
             "endlinecolor": "#2a3f5f",
             "gridcolor": "white",
             "linecolor": "white",
             "minorgridcolor": "white",
             "startlinecolor": "#2a3f5f"
            },
            "baxis": {
             "endlinecolor": "#2a3f5f",
             "gridcolor": "white",
             "linecolor": "white",
             "minorgridcolor": "white",
             "startlinecolor": "#2a3f5f"
            },
            "type": "carpet"
           }
          ],
          "choropleth": [
           {
            "colorbar": {
             "outlinewidth": 0,
             "ticks": ""
            },
            "type": "choropleth"
           }
          ],
          "contour": [
           {
            "colorbar": {
             "outlinewidth": 0,
             "ticks": ""
            },
            "colorscale": [
             [
              0,
              "#0d0887"
             ],
             [
              0.1111111111111111,
              "#46039f"
             ],
             [
              0.2222222222222222,
              "#7201a8"
             ],
             [
              0.3333333333333333,
              "#9c179e"
             ],
             [
              0.4444444444444444,
              "#bd3786"
             ],
             [
              0.5555555555555556,
              "#d8576b"
             ],
             [
              0.6666666666666666,
              "#ed7953"
             ],
             [
              0.7777777777777778,
              "#fb9f3a"
             ],
             [
              0.8888888888888888,
              "#fdca26"
             ],
             [
              1,
              "#f0f921"
             ]
            ],
            "type": "contour"
           }
          ],
          "contourcarpet": [
           {
            "colorbar": {
             "outlinewidth": 0,
             "ticks": ""
            },
            "type": "contourcarpet"
           }
          ],
          "heatmap": [
           {
            "colorbar": {
             "outlinewidth": 0,
             "ticks": ""
            },
            "colorscale": [
             [
              0,
              "#0d0887"
             ],
             [
              0.1111111111111111,
              "#46039f"
             ],
             [
              0.2222222222222222,
              "#7201a8"
             ],
             [
              0.3333333333333333,
              "#9c179e"
             ],
             [
              0.4444444444444444,
              "#bd3786"
             ],
             [
              0.5555555555555556,
              "#d8576b"
             ],
             [
              0.6666666666666666,
              "#ed7953"
             ],
             [
              0.7777777777777778,
              "#fb9f3a"
             ],
             [
              0.8888888888888888,
              "#fdca26"
             ],
             [
              1,
              "#f0f921"
             ]
            ],
            "type": "heatmap"
           }
          ],
          "heatmapgl": [
           {
            "colorbar": {
             "outlinewidth": 0,
             "ticks": ""
            },
            "colorscale": [
             [
              0,
              "#0d0887"
             ],
             [
              0.1111111111111111,
              "#46039f"
             ],
             [
              0.2222222222222222,
              "#7201a8"
             ],
             [
              0.3333333333333333,
              "#9c179e"
             ],
             [
              0.4444444444444444,
              "#bd3786"
             ],
             [
              0.5555555555555556,
              "#d8576b"
             ],
             [
              0.6666666666666666,
              "#ed7953"
             ],
             [
              0.7777777777777778,
              "#fb9f3a"
             ],
             [
              0.8888888888888888,
              "#fdca26"
             ],
             [
              1,
              "#f0f921"
             ]
            ],
            "type": "heatmapgl"
           }
          ],
          "histogram": [
           {
            "marker": {
             "pattern": {
              "fillmode": "overlay",
              "size": 10,
              "solidity": 0.2
             }
            },
            "type": "histogram"
           }
          ],
          "histogram2d": [
           {
            "colorbar": {
             "outlinewidth": 0,
             "ticks": ""
            },
            "colorscale": [
             [
              0,
              "#0d0887"
             ],
             [
              0.1111111111111111,
              "#46039f"
             ],
             [
              0.2222222222222222,
              "#7201a8"
             ],
             [
              0.3333333333333333,
              "#9c179e"
             ],
             [
              0.4444444444444444,
              "#bd3786"
             ],
             [
              0.5555555555555556,
              "#d8576b"
             ],
             [
              0.6666666666666666,
              "#ed7953"
             ],
             [
              0.7777777777777778,
              "#fb9f3a"
             ],
             [
              0.8888888888888888,
              "#fdca26"
             ],
             [
              1,
              "#f0f921"
             ]
            ],
            "type": "histogram2d"
           }
          ],
          "histogram2dcontour": [
           {
            "colorbar": {
             "outlinewidth": 0,
             "ticks": ""
            },
            "colorscale": [
             [
              0,
              "#0d0887"
             ],
             [
              0.1111111111111111,
              "#46039f"
             ],
             [
              0.2222222222222222,
              "#7201a8"
             ],
             [
              0.3333333333333333,
              "#9c179e"
             ],
             [
              0.4444444444444444,
              "#bd3786"
             ],
             [
              0.5555555555555556,
              "#d8576b"
             ],
             [
              0.6666666666666666,
              "#ed7953"
             ],
             [
              0.7777777777777778,
              "#fb9f3a"
             ],
             [
              0.8888888888888888,
              "#fdca26"
             ],
             [
              1,
              "#f0f921"
             ]
            ],
            "type": "histogram2dcontour"
           }
          ],
          "mesh3d": [
           {
            "colorbar": {
             "outlinewidth": 0,
             "ticks": ""
            },
            "type": "mesh3d"
           }
          ],
          "parcoords": [
           {
            "line": {
             "colorbar": {
              "outlinewidth": 0,
              "ticks": ""
             }
            },
            "type": "parcoords"
           }
          ],
          "pie": [
           {
            "automargin": true,
            "type": "pie"
           }
          ],
          "scatter": [
           {
            "fillpattern": {
             "fillmode": "overlay",
             "size": 10,
             "solidity": 0.2
            },
            "type": "scatter"
           }
          ],
          "scatter3d": [
           {
            "line": {
             "colorbar": {
              "outlinewidth": 0,
              "ticks": ""
             }
            },
            "marker": {
             "colorbar": {
              "outlinewidth": 0,
              "ticks": ""
             }
            },
            "type": "scatter3d"
           }
          ],
          "scattercarpet": [
           {
            "marker": {
             "colorbar": {
              "outlinewidth": 0,
              "ticks": ""
             }
            },
            "type": "scattercarpet"
           }
          ],
          "scattergeo": [
           {
            "marker": {
             "colorbar": {
              "outlinewidth": 0,
              "ticks": ""
             }
            },
            "type": "scattergeo"
           }
          ],
          "scattergl": [
           {
            "marker": {
             "colorbar": {
              "outlinewidth": 0,
              "ticks": ""
             }
            },
            "type": "scattergl"
           }
          ],
          "scattermapbox": [
           {
            "marker": {
             "colorbar": {
              "outlinewidth": 0,
              "ticks": ""
             }
            },
            "type": "scattermapbox"
           }
          ],
          "scatterpolar": [
           {
            "marker": {
             "colorbar": {
              "outlinewidth": 0,
              "ticks": ""
             }
            },
            "type": "scatterpolar"
           }
          ],
          "scatterpolargl": [
           {
            "marker": {
             "colorbar": {
              "outlinewidth": 0,
              "ticks": ""
             }
            },
            "type": "scatterpolargl"
           }
          ],
          "scatterternary": [
           {
            "marker": {
             "colorbar": {
              "outlinewidth": 0,
              "ticks": ""
             }
            },
            "type": "scatterternary"
           }
          ],
          "surface": [
           {
            "colorbar": {
             "outlinewidth": 0,
             "ticks": ""
            },
            "colorscale": [
             [
              0,
              "#0d0887"
             ],
             [
              0.1111111111111111,
              "#46039f"
             ],
             [
              0.2222222222222222,
              "#7201a8"
             ],
             [
              0.3333333333333333,
              "#9c179e"
             ],
             [
              0.4444444444444444,
              "#bd3786"
             ],
             [
              0.5555555555555556,
              "#d8576b"
             ],
             [
              0.6666666666666666,
              "#ed7953"
             ],
             [
              0.7777777777777778,
              "#fb9f3a"
             ],
             [
              0.8888888888888888,
              "#fdca26"
             ],
             [
              1,
              "#f0f921"
             ]
            ],
            "type": "surface"
           }
          ],
          "table": [
           {
            "cells": {
             "fill": {
              "color": "#EBF0F8"
             },
             "line": {
              "color": "white"
             }
            },
            "header": {
             "fill": {
              "color": "#C8D4E3"
             },
             "line": {
              "color": "white"
             }
            },
            "type": "table"
           }
          ]
         },
         "layout": {
          "annotationdefaults": {
           "arrowcolor": "#2a3f5f",
           "arrowhead": 0,
           "arrowwidth": 1
          },
          "autotypenumbers": "strict",
          "coloraxis": {
           "colorbar": {
            "outlinewidth": 0,
            "ticks": ""
           }
          },
          "colorscale": {
           "diverging": [
            [
             0,
             "#8e0152"
            ],
            [
             0.1,
             "#c51b7d"
            ],
            [
             0.2,
             "#de77ae"
            ],
            [
             0.3,
             "#f1b6da"
            ],
            [
             0.4,
             "#fde0ef"
            ],
            [
             0.5,
             "#f7f7f7"
            ],
            [
             0.6,
             "#e6f5d0"
            ],
            [
             0.7,
             "#b8e186"
            ],
            [
             0.8,
             "#7fbc41"
            ],
            [
             0.9,
             "#4d9221"
            ],
            [
             1,
             "#276419"
            ]
           ],
           "sequential": [
            [
             0,
             "#0d0887"
            ],
            [
             0.1111111111111111,
             "#46039f"
            ],
            [
             0.2222222222222222,
             "#7201a8"
            ],
            [
             0.3333333333333333,
             "#9c179e"
            ],
            [
             0.4444444444444444,
             "#bd3786"
            ],
            [
             0.5555555555555556,
             "#d8576b"
            ],
            [
             0.6666666666666666,
             "#ed7953"
            ],
            [
             0.7777777777777778,
             "#fb9f3a"
            ],
            [
             0.8888888888888888,
             "#fdca26"
            ],
            [
             1,
             "#f0f921"
            ]
           ],
           "sequentialminus": [
            [
             0,
             "#0d0887"
            ],
            [
             0.1111111111111111,
             "#46039f"
            ],
            [
             0.2222222222222222,
             "#7201a8"
            ],
            [
             0.3333333333333333,
             "#9c179e"
            ],
            [
             0.4444444444444444,
             "#bd3786"
            ],
            [
             0.5555555555555556,
             "#d8576b"
            ],
            [
             0.6666666666666666,
             "#ed7953"
            ],
            [
             0.7777777777777778,
             "#fb9f3a"
            ],
            [
             0.8888888888888888,
             "#fdca26"
            ],
            [
             1,
             "#f0f921"
            ]
           ]
          },
          "colorway": [
           "#636efa",
           "#EF553B",
           "#00cc96",
           "#ab63fa",
           "#FFA15A",
           "#19d3f3",
           "#FF6692",
           "#B6E880",
           "#FF97FF",
           "#FECB52"
          ],
          "font": {
           "color": "#2a3f5f"
          },
          "geo": {
           "bgcolor": "white",
           "lakecolor": "white",
           "landcolor": "#E5ECF6",
           "showlakes": true,
           "showland": true,
           "subunitcolor": "white"
          },
          "hoverlabel": {
           "align": "left"
          },
          "hovermode": "closest",
          "mapbox": {
           "style": "light"
          },
          "paper_bgcolor": "white",
          "plot_bgcolor": "#E5ECF6",
          "polar": {
           "angularaxis": {
            "gridcolor": "white",
            "linecolor": "white",
            "ticks": ""
           },
           "bgcolor": "#E5ECF6",
           "radialaxis": {
            "gridcolor": "white",
            "linecolor": "white",
            "ticks": ""
           }
          },
          "scene": {
           "xaxis": {
            "backgroundcolor": "#E5ECF6",
            "gridcolor": "white",
            "gridwidth": 2,
            "linecolor": "white",
            "showbackground": true,
            "ticks": "",
            "zerolinecolor": "white"
           },
           "yaxis": {
            "backgroundcolor": "#E5ECF6",
            "gridcolor": "white",
            "gridwidth": 2,
            "linecolor": "white",
            "showbackground": true,
            "ticks": "",
            "zerolinecolor": "white"
           },
           "zaxis": {
            "backgroundcolor": "#E5ECF6",
            "gridcolor": "white",
            "gridwidth": 2,
            "linecolor": "white",
            "showbackground": true,
            "ticks": "",
            "zerolinecolor": "white"
           }
          },
          "shapedefaults": {
           "line": {
            "color": "#2a3f5f"
           }
          },
          "ternary": {
           "aaxis": {
            "gridcolor": "white",
            "linecolor": "white",
            "ticks": ""
           },
           "baxis": {
            "gridcolor": "white",
            "linecolor": "white",
            "ticks": ""
           },
           "bgcolor": "#E5ECF6",
           "caxis": {
            "gridcolor": "white",
            "linecolor": "white",
            "ticks": ""
           }
          },
          "title": {
           "x": 0.05
          },
          "xaxis": {
           "automargin": true,
           "gridcolor": "white",
           "linecolor": "white",
           "ticks": "",
           "title": {
            "standoff": 15
           },
           "zerolinecolor": "white",
           "zerolinewidth": 2
          },
          "yaxis": {
           "automargin": true,
           "gridcolor": "white",
           "linecolor": "white",
           "ticks": "",
           "title": {
            "standoff": 15
           },
           "zerolinecolor": "white",
           "zerolinewidth": 2
          }
         }
        },
        "title": {
         "text": "Hyperparameter Importances"
        },
        "xaxis": {
         "title": {
          "text": "Importance for Objective Value"
         }
        },
        "yaxis": {
         "title": {
          "text": "Hyperparameter"
         }
        }
       }
      }
     },
     "metadata": {},
     "output_type": "display_data"
    },
    {
     "data": {
      "application/vnd.plotly.v1+json": {
       "config": {
        "plotlyServerURL": "https://plot.ly"
       },
       "data": [
        {
         "type": "scatter",
         "xaxis": "x",
         "yaxis": "y"
        },
        {
         "colorbar": {
          "title": {
           "text": "Objective Value"
          }
         },
         "colorscale": [
          [
           0,
           "rgb(247,251,255)"
          ],
          [
           0.125,
           "rgb(222,235,247)"
          ],
          [
           0.25,
           "rgb(198,219,239)"
          ],
          [
           0.375,
           "rgb(158,202,225)"
          ],
          [
           0.5,
           "rgb(107,174,214)"
          ],
          [
           0.625,
           "rgb(66,146,198)"
          ],
          [
           0.75,
           "rgb(33,113,181)"
          ],
          [
           0.875,
           "rgb(8,81,156)"
          ],
          [
           1,
           "rgb(8,48,107)"
          ]
         ],
         "connectgaps": true,
         "contours": {
          "coloring": "heatmap"
         },
         "hoverinfo": "none",
         "line": {
          "smoothing": 1.3
         },
         "reversescale": true,
         "showscale": true,
         "type": "contour",
         "x": [
          3.8,
          4,
          7,
          8,
          8.2
         ],
         "xaxis": "x6",
         "y": [
          2.85,
          3,
          4,
          6,
          6.15
         ],
         "yaxis": "y6",
         "z": [
          [
           null,
           null,
           null,
           null,
           null
          ],
          [
           null,
           null,
           233.45837719338016,
           null,
           null
          ],
          [
           null,
           240.49191661073345,
           null,
           null,
           null
          ],
          [
           null,
           null,
           null,
           230.88724866649918,
           null
          ],
          [
           null,
           null,
           null,
           null,
           null
          ]
         ]
        },
        {
         "marker": {
          "color": "black",
          "line": {
           "color": "Grey",
           "width": 2
          }
         },
         "mode": "markers",
         "showlegend": false,
         "type": "scatter",
         "x": [
          7,
          8,
          4
         ],
         "xaxis": "x6",
         "y": [
          3,
          6,
          4
         ],
         "yaxis": "y6"
        },
        {
         "colorbar": {
          "title": {
           "text": "Objective Value"
          }
         },
         "colorscale": [
          [
           0,
           "rgb(247,251,255)"
          ],
          [
           0.125,
           "rgb(222,235,247)"
          ],
          [
           0.25,
           "rgb(198,219,239)"
          ],
          [
           0.375,
           "rgb(158,202,225)"
          ],
          [
           0.5,
           "rgb(107,174,214)"
          ],
          [
           0.625,
           "rgb(66,146,198)"
          ],
          [
           0.75,
           "rgb(33,113,181)"
          ],
          [
           0.875,
           "rgb(8,81,156)"
          ],
          [
           1,
           "rgb(8,48,107)"
          ]
         ],
         "connectgaps": true,
         "contours": {
          "coloring": "heatmap"
         },
         "hoverinfo": "none",
         "line": {
          "smoothing": 1.3
         },
         "reversescale": true,
         "showscale": false,
         "type": "contour",
         "x": [
          3.8,
          4,
          7,
          8,
          8.2
         ],
         "xaxis": "x11",
         "y": [
          1.9,
          2,
          4,
          4.1
         ],
         "yaxis": "y11",
         "z": [
          [
           null,
           null,
           null,
           null,
           null
          ],
          [
           null,
           240.49191661073345,
           null,
           null,
           null
          ],
          [
           null,
           null,
           233.45837719338016,
           230.88724866649918,
           null
          ],
          [
           null,
           null,
           null,
           null,
           null
          ]
         ]
        },
        {
         "marker": {
          "color": "black",
          "line": {
           "color": "Grey",
           "width": 2
          }
         },
         "mode": "markers",
         "showlegend": false,
         "type": "scatter",
         "x": [
          7,
          8,
          4
         ],
         "xaxis": "x11",
         "y": [
          4,
          4,
          2
         ],
         "yaxis": "y11"
        },
        {
         "colorbar": {
          "title": {
           "text": "Objective Value"
          }
         },
         "colorscale": [
          [
           0,
           "rgb(247,251,255)"
          ],
          [
           0.125,
           "rgb(222,235,247)"
          ],
          [
           0.25,
           "rgb(198,219,239)"
          ],
          [
           0.375,
           "rgb(158,202,225)"
          ],
          [
           0.5,
           "rgb(107,174,214)"
          ],
          [
           0.625,
           "rgb(66,146,198)"
          ],
          [
           0.75,
           "rgb(33,113,181)"
          ],
          [
           0.875,
           "rgb(8,81,156)"
          ],
          [
           1,
           "rgb(8,48,107)"
          ]
         ],
         "connectgaps": true,
         "contours": {
          "coloring": "heatmap"
         },
         "hoverinfo": "none",
         "line": {
          "smoothing": 1.3
         },
         "reversescale": true,
         "showscale": false,
         "type": "contour",
         "x": [
          3.8,
          4,
          7,
          8,
          8.2
         ],
         "xaxis": "x16",
         "y": [
          2.75,
          3,
          6,
          8,
          8.25
         ],
         "yaxis": "y16",
         "z": [
          [
           null,
           null,
           null,
           null,
           null
          ],
          [
           null,
           null,
           null,
           230.88724866649918,
           null
          ],
          [
           null,
           240.49191661073345,
           null,
           null,
           null
          ],
          [
           null,
           null,
           233.45837719338016,
           null,
           null
          ],
          [
           null,
           null,
           null,
           null,
           null
          ]
         ]
        },
        {
         "marker": {
          "color": "black",
          "line": {
           "color": "Grey",
           "width": 2
          }
         },
         "mode": "markers",
         "showlegend": false,
         "type": "scatter",
         "x": [
          7,
          8,
          4
         ],
         "xaxis": "x16",
         "y": [
          8,
          3,
          6
         ],
         "yaxis": "y16"
        },
        {
         "colorbar": {
          "title": {
           "text": "Objective Value"
          }
         },
         "colorscale": [
          [
           0,
           "rgb(247,251,255)"
          ],
          [
           0.125,
           "rgb(222,235,247)"
          ],
          [
           0.25,
           "rgb(198,219,239)"
          ],
          [
           0.375,
           "rgb(158,202,225)"
          ],
          [
           0.5,
           "rgb(107,174,214)"
          ],
          [
           0.625,
           "rgb(66,146,198)"
          ],
          [
           0.75,
           "rgb(33,113,181)"
          ],
          [
           0.875,
           "rgb(8,81,156)"
          ],
          [
           1,
           "rgb(8,48,107)"
          ]
         ],
         "connectgaps": true,
         "contours": {
          "coloring": "heatmap"
         },
         "hoverinfo": "none",
         "line": {
          "smoothing": 1.3
         },
         "reversescale": true,
         "showscale": false,
         "type": "contour",
         "x": [
          3.8,
          4,
          7,
          8,
          8.2
         ],
         "xaxis": "x21",
         "y": [
          55,
          60,
          120,
          160,
          165
         ],
         "yaxis": "y21",
         "z": [
          [
           null,
           null,
           null,
           null,
           null
          ],
          [
           null,
           null,
           233.45837719338016,
           null,
           null
          ],
          [
           null,
           null,
           null,
           230.88724866649918,
           null
          ],
          [
           null,
           240.49191661073345,
           null,
           null,
           null
          ],
          [
           null,
           null,
           null,
           null,
           null
          ]
         ]
        },
        {
         "marker": {
          "color": "black",
          "line": {
           "color": "Grey",
           "width": 2
          }
         },
         "mode": "markers",
         "showlegend": false,
         "type": "scatter",
         "x": [
          7,
          8,
          4
         ],
         "xaxis": "x21",
         "y": [
          60,
          120,
          160
         ],
         "yaxis": "y21"
        },
        {
         "colorbar": {
          "title": {
           "text": "Objective Value"
          }
         },
         "colorscale": [
          [
           0,
           "rgb(247,251,255)"
          ],
          [
           0.125,
           "rgb(222,235,247)"
          ],
          [
           0.25,
           "rgb(198,219,239)"
          ],
          [
           0.375,
           "rgb(158,202,225)"
          ],
          [
           0.5,
           "rgb(107,174,214)"
          ],
          [
           0.625,
           "rgb(66,146,198)"
          ],
          [
           0.75,
           "rgb(33,113,181)"
          ],
          [
           0.875,
           "rgb(8,81,156)"
          ],
          [
           1,
           "rgb(8,48,107)"
          ]
         ],
         "connectgaps": true,
         "contours": {
          "coloring": "heatmap"
         },
         "hoverinfo": "none",
         "line": {
          "smoothing": 1.3
         },
         "reversescale": true,
         "showscale": false,
         "type": "contour",
         "x": [
          2.85,
          3,
          4,
          6,
          6.15
         ],
         "xaxis": "x2",
         "y": [
          3.8,
          4,
          7,
          8,
          8.2
         ],
         "yaxis": "y2",
         "z": [
          [
           null,
           null,
           null,
           null,
           null
          ],
          [
           null,
           null,
           240.49191661073345,
           null,
           null
          ],
          [
           null,
           233.45837719338016,
           null,
           null,
           null
          ],
          [
           null,
           null,
           null,
           230.88724866649918,
           null
          ],
          [
           null,
           null,
           null,
           null,
           null
          ]
         ]
        },
        {
         "marker": {
          "color": "black",
          "line": {
           "color": "Grey",
           "width": 2
          }
         },
         "mode": "markers",
         "showlegend": false,
         "type": "scatter",
         "x": [
          3,
          6,
          4
         ],
         "xaxis": "x2",
         "y": [
          7,
          8,
          4
         ],
         "yaxis": "y2"
        },
        {
         "type": "scatter",
         "xaxis": "x7",
         "yaxis": "y7"
        },
        {
         "colorbar": {
          "title": {
           "text": "Objective Value"
          }
         },
         "colorscale": [
          [
           0,
           "rgb(247,251,255)"
          ],
          [
           0.125,
           "rgb(222,235,247)"
          ],
          [
           0.25,
           "rgb(198,219,239)"
          ],
          [
           0.375,
           "rgb(158,202,225)"
          ],
          [
           0.5,
           "rgb(107,174,214)"
          ],
          [
           0.625,
           "rgb(66,146,198)"
          ],
          [
           0.75,
           "rgb(33,113,181)"
          ],
          [
           0.875,
           "rgb(8,81,156)"
          ],
          [
           1,
           "rgb(8,48,107)"
          ]
         ],
         "connectgaps": true,
         "contours": {
          "coloring": "heatmap"
         },
         "hoverinfo": "none",
         "line": {
          "smoothing": 1.3
         },
         "reversescale": true,
         "showscale": false,
         "type": "contour",
         "x": [
          2.85,
          3,
          4,
          6,
          6.15
         ],
         "xaxis": "x12",
         "y": [
          1.9,
          2,
          4,
          4.1
         ],
         "yaxis": "y12",
         "z": [
          [
           null,
           null,
           null,
           null,
           null
          ],
          [
           null,
           null,
           240.49191661073345,
           null,
           null
          ],
          [
           null,
           233.45837719338016,
           null,
           230.88724866649918,
           null
          ],
          [
           null,
           null,
           null,
           null,
           null
          ]
         ]
        },
        {
         "marker": {
          "color": "black",
          "line": {
           "color": "Grey",
           "width": 2
          }
         },
         "mode": "markers",
         "showlegend": false,
         "type": "scatter",
         "x": [
          3,
          6,
          4
         ],
         "xaxis": "x12",
         "y": [
          4,
          4,
          2
         ],
         "yaxis": "y12"
        },
        {
         "colorbar": {
          "title": {
           "text": "Objective Value"
          }
         },
         "colorscale": [
          [
           0,
           "rgb(247,251,255)"
          ],
          [
           0.125,
           "rgb(222,235,247)"
          ],
          [
           0.25,
           "rgb(198,219,239)"
          ],
          [
           0.375,
           "rgb(158,202,225)"
          ],
          [
           0.5,
           "rgb(107,174,214)"
          ],
          [
           0.625,
           "rgb(66,146,198)"
          ],
          [
           0.75,
           "rgb(33,113,181)"
          ],
          [
           0.875,
           "rgb(8,81,156)"
          ],
          [
           1,
           "rgb(8,48,107)"
          ]
         ],
         "connectgaps": true,
         "contours": {
          "coloring": "heatmap"
         },
         "hoverinfo": "none",
         "line": {
          "smoothing": 1.3
         },
         "reversescale": true,
         "showscale": false,
         "type": "contour",
         "x": [
          2.85,
          3,
          4,
          6,
          6.15
         ],
         "xaxis": "x17",
         "y": [
          2.75,
          3,
          6,
          8,
          8.25
         ],
         "yaxis": "y17",
         "z": [
          [
           null,
           null,
           null,
           null,
           null
          ],
          [
           null,
           null,
           null,
           230.88724866649918,
           null
          ],
          [
           null,
           null,
           240.49191661073345,
           null,
           null
          ],
          [
           null,
           233.45837719338016,
           null,
           null,
           null
          ],
          [
           null,
           null,
           null,
           null,
           null
          ]
         ]
        },
        {
         "marker": {
          "color": "black",
          "line": {
           "color": "Grey",
           "width": 2
          }
         },
         "mode": "markers",
         "showlegend": false,
         "type": "scatter",
         "x": [
          3,
          6,
          4
         ],
         "xaxis": "x17",
         "y": [
          8,
          3,
          6
         ],
         "yaxis": "y17"
        },
        {
         "colorbar": {
          "title": {
           "text": "Objective Value"
          }
         },
         "colorscale": [
          [
           0,
           "rgb(247,251,255)"
          ],
          [
           0.125,
           "rgb(222,235,247)"
          ],
          [
           0.25,
           "rgb(198,219,239)"
          ],
          [
           0.375,
           "rgb(158,202,225)"
          ],
          [
           0.5,
           "rgb(107,174,214)"
          ],
          [
           0.625,
           "rgb(66,146,198)"
          ],
          [
           0.75,
           "rgb(33,113,181)"
          ],
          [
           0.875,
           "rgb(8,81,156)"
          ],
          [
           1,
           "rgb(8,48,107)"
          ]
         ],
         "connectgaps": true,
         "contours": {
          "coloring": "heatmap"
         },
         "hoverinfo": "none",
         "line": {
          "smoothing": 1.3
         },
         "reversescale": true,
         "showscale": false,
         "type": "contour",
         "x": [
          2.85,
          3,
          4,
          6,
          6.15
         ],
         "xaxis": "x22",
         "y": [
          55,
          60,
          120,
          160,
          165
         ],
         "yaxis": "y22",
         "z": [
          [
           null,
           null,
           null,
           null,
           null
          ],
          [
           null,
           233.45837719338016,
           null,
           null,
           null
          ],
          [
           null,
           null,
           null,
           230.88724866649918,
           null
          ],
          [
           null,
           null,
           240.49191661073345,
           null,
           null
          ],
          [
           null,
           null,
           null,
           null,
           null
          ]
         ]
        },
        {
         "marker": {
          "color": "black",
          "line": {
           "color": "Grey",
           "width": 2
          }
         },
         "mode": "markers",
         "showlegend": false,
         "type": "scatter",
         "x": [
          3,
          6,
          4
         ],
         "xaxis": "x22",
         "y": [
          60,
          120,
          160
         ],
         "yaxis": "y22"
        },
        {
         "colorbar": {
          "title": {
           "text": "Objective Value"
          }
         },
         "colorscale": [
          [
           0,
           "rgb(247,251,255)"
          ],
          [
           0.125,
           "rgb(222,235,247)"
          ],
          [
           0.25,
           "rgb(198,219,239)"
          ],
          [
           0.375,
           "rgb(158,202,225)"
          ],
          [
           0.5,
           "rgb(107,174,214)"
          ],
          [
           0.625,
           "rgb(66,146,198)"
          ],
          [
           0.75,
           "rgb(33,113,181)"
          ],
          [
           0.875,
           "rgb(8,81,156)"
          ],
          [
           1,
           "rgb(8,48,107)"
          ]
         ],
         "connectgaps": true,
         "contours": {
          "coloring": "heatmap"
         },
         "hoverinfo": "none",
         "line": {
          "smoothing": 1.3
         },
         "reversescale": true,
         "showscale": false,
         "type": "contour",
         "x": [
          1.9,
          2,
          4,
          4.1
         ],
         "xaxis": "x3",
         "y": [
          3.8,
          4,
          7,
          8,
          8.2
         ],
         "yaxis": "y3",
         "z": [
          [
           null,
           null,
           null,
           null
          ],
          [
           null,
           240.49191661073345,
           null,
           null
          ],
          [
           null,
           null,
           233.45837719338016,
           null
          ],
          [
           null,
           null,
           230.88724866649918,
           null
          ],
          [
           null,
           null,
           null,
           null
          ]
         ]
        },
        {
         "marker": {
          "color": "black",
          "line": {
           "color": "Grey",
           "width": 2
          }
         },
         "mode": "markers",
         "showlegend": false,
         "type": "scatter",
         "x": [
          4,
          4,
          2
         ],
         "xaxis": "x3",
         "y": [
          7,
          8,
          4
         ],
         "yaxis": "y3"
        },
        {
         "colorbar": {
          "title": {
           "text": "Objective Value"
          }
         },
         "colorscale": [
          [
           0,
           "rgb(247,251,255)"
          ],
          [
           0.125,
           "rgb(222,235,247)"
          ],
          [
           0.25,
           "rgb(198,219,239)"
          ],
          [
           0.375,
           "rgb(158,202,225)"
          ],
          [
           0.5,
           "rgb(107,174,214)"
          ],
          [
           0.625,
           "rgb(66,146,198)"
          ],
          [
           0.75,
           "rgb(33,113,181)"
          ],
          [
           0.875,
           "rgb(8,81,156)"
          ],
          [
           1,
           "rgb(8,48,107)"
          ]
         ],
         "connectgaps": true,
         "contours": {
          "coloring": "heatmap"
         },
         "hoverinfo": "none",
         "line": {
          "smoothing": 1.3
         },
         "reversescale": true,
         "showscale": false,
         "type": "contour",
         "x": [
          1.9,
          2,
          4,
          4.1
         ],
         "xaxis": "x8",
         "y": [
          2.85,
          3,
          4,
          6,
          6.15
         ],
         "yaxis": "y8",
         "z": [
          [
           null,
           null,
           null,
           null
          ],
          [
           null,
           null,
           233.45837719338016,
           null
          ],
          [
           null,
           240.49191661073345,
           null,
           null
          ],
          [
           null,
           null,
           230.88724866649918,
           null
          ],
          [
           null,
           null,
           null,
           null
          ]
         ]
        },
        {
         "marker": {
          "color": "black",
          "line": {
           "color": "Grey",
           "width": 2
          }
         },
         "mode": "markers",
         "showlegend": false,
         "type": "scatter",
         "x": [
          4,
          4,
          2
         ],
         "xaxis": "x8",
         "y": [
          3,
          6,
          4
         ],
         "yaxis": "y8"
        },
        {
         "type": "scatter",
         "xaxis": "x13",
         "yaxis": "y13"
        },
        {
         "colorbar": {
          "title": {
           "text": "Objective Value"
          }
         },
         "colorscale": [
          [
           0,
           "rgb(247,251,255)"
          ],
          [
           0.125,
           "rgb(222,235,247)"
          ],
          [
           0.25,
           "rgb(198,219,239)"
          ],
          [
           0.375,
           "rgb(158,202,225)"
          ],
          [
           0.5,
           "rgb(107,174,214)"
          ],
          [
           0.625,
           "rgb(66,146,198)"
          ],
          [
           0.75,
           "rgb(33,113,181)"
          ],
          [
           0.875,
           "rgb(8,81,156)"
          ],
          [
           1,
           "rgb(8,48,107)"
          ]
         ],
         "connectgaps": true,
         "contours": {
          "coloring": "heatmap"
         },
         "hoverinfo": "none",
         "line": {
          "smoothing": 1.3
         },
         "reversescale": true,
         "showscale": false,
         "type": "contour",
         "x": [
          1.9,
          2,
          4,
          4.1
         ],
         "xaxis": "x18",
         "y": [
          2.75,
          3,
          6,
          8,
          8.25
         ],
         "yaxis": "y18",
         "z": [
          [
           null,
           null,
           null,
           null
          ],
          [
           null,
           null,
           230.88724866649918,
           null
          ],
          [
           null,
           240.49191661073345,
           null,
           null
          ],
          [
           null,
           null,
           233.45837719338016,
           null
          ],
          [
           null,
           null,
           null,
           null
          ]
         ]
        },
        {
         "marker": {
          "color": "black",
          "line": {
           "color": "Grey",
           "width": 2
          }
         },
         "mode": "markers",
         "showlegend": false,
         "type": "scatter",
         "x": [
          4,
          4,
          2
         ],
         "xaxis": "x18",
         "y": [
          8,
          3,
          6
         ],
         "yaxis": "y18"
        },
        {
         "colorbar": {
          "title": {
           "text": "Objective Value"
          }
         },
         "colorscale": [
          [
           0,
           "rgb(247,251,255)"
          ],
          [
           0.125,
           "rgb(222,235,247)"
          ],
          [
           0.25,
           "rgb(198,219,239)"
          ],
          [
           0.375,
           "rgb(158,202,225)"
          ],
          [
           0.5,
           "rgb(107,174,214)"
          ],
          [
           0.625,
           "rgb(66,146,198)"
          ],
          [
           0.75,
           "rgb(33,113,181)"
          ],
          [
           0.875,
           "rgb(8,81,156)"
          ],
          [
           1,
           "rgb(8,48,107)"
          ]
         ],
         "connectgaps": true,
         "contours": {
          "coloring": "heatmap"
         },
         "hoverinfo": "none",
         "line": {
          "smoothing": 1.3
         },
         "reversescale": true,
         "showscale": false,
         "type": "contour",
         "x": [
          1.9,
          2,
          4,
          4.1
         ],
         "xaxis": "x23",
         "y": [
          55,
          60,
          120,
          160,
          165
         ],
         "yaxis": "y23",
         "z": [
          [
           null,
           null,
           null,
           null
          ],
          [
           null,
           null,
           233.45837719338016,
           null
          ],
          [
           null,
           null,
           230.88724866649918,
           null
          ],
          [
           null,
           240.49191661073345,
           null,
           null
          ],
          [
           null,
           null,
           null,
           null
          ]
         ]
        },
        {
         "marker": {
          "color": "black",
          "line": {
           "color": "Grey",
           "width": 2
          }
         },
         "mode": "markers",
         "showlegend": false,
         "type": "scatter",
         "x": [
          4,
          4,
          2
         ],
         "xaxis": "x23",
         "y": [
          60,
          120,
          160
         ],
         "yaxis": "y23"
        },
        {
         "colorbar": {
          "title": {
           "text": "Objective Value"
          }
         },
         "colorscale": [
          [
           0,
           "rgb(247,251,255)"
          ],
          [
           0.125,
           "rgb(222,235,247)"
          ],
          [
           0.25,
           "rgb(198,219,239)"
          ],
          [
           0.375,
           "rgb(158,202,225)"
          ],
          [
           0.5,
           "rgb(107,174,214)"
          ],
          [
           0.625,
           "rgb(66,146,198)"
          ],
          [
           0.75,
           "rgb(33,113,181)"
          ],
          [
           0.875,
           "rgb(8,81,156)"
          ],
          [
           1,
           "rgb(8,48,107)"
          ]
         ],
         "connectgaps": true,
         "contours": {
          "coloring": "heatmap"
         },
         "hoverinfo": "none",
         "line": {
          "smoothing": 1.3
         },
         "reversescale": true,
         "showscale": false,
         "type": "contour",
         "x": [
          2.75,
          3,
          6,
          8,
          8.25
         ],
         "xaxis": "x4",
         "y": [
          3.8,
          4,
          7,
          8,
          8.2
         ],
         "yaxis": "y4",
         "z": [
          [
           null,
           null,
           null,
           null,
           null
          ],
          [
           null,
           null,
           240.49191661073345,
           null,
           null
          ],
          [
           null,
           null,
           null,
           233.45837719338016,
           null
          ],
          [
           null,
           230.88724866649918,
           null,
           null,
           null
          ],
          [
           null,
           null,
           null,
           null,
           null
          ]
         ]
        },
        {
         "marker": {
          "color": "black",
          "line": {
           "color": "Grey",
           "width": 2
          }
         },
         "mode": "markers",
         "showlegend": false,
         "type": "scatter",
         "x": [
          8,
          3,
          6
         ],
         "xaxis": "x4",
         "y": [
          7,
          8,
          4
         ],
         "yaxis": "y4"
        },
        {
         "colorbar": {
          "title": {
           "text": "Objective Value"
          }
         },
         "colorscale": [
          [
           0,
           "rgb(247,251,255)"
          ],
          [
           0.125,
           "rgb(222,235,247)"
          ],
          [
           0.25,
           "rgb(198,219,239)"
          ],
          [
           0.375,
           "rgb(158,202,225)"
          ],
          [
           0.5,
           "rgb(107,174,214)"
          ],
          [
           0.625,
           "rgb(66,146,198)"
          ],
          [
           0.75,
           "rgb(33,113,181)"
          ],
          [
           0.875,
           "rgb(8,81,156)"
          ],
          [
           1,
           "rgb(8,48,107)"
          ]
         ],
         "connectgaps": true,
         "contours": {
          "coloring": "heatmap"
         },
         "hoverinfo": "none",
         "line": {
          "smoothing": 1.3
         },
         "reversescale": true,
         "showscale": false,
         "type": "contour",
         "x": [
          2.75,
          3,
          6,
          8,
          8.25
         ],
         "xaxis": "x9",
         "y": [
          2.85,
          3,
          4,
          6,
          6.15
         ],
         "yaxis": "y9",
         "z": [
          [
           null,
           null,
           null,
           null,
           null
          ],
          [
           null,
           null,
           null,
           233.45837719338016,
           null
          ],
          [
           null,
           null,
           240.49191661073345,
           null,
           null
          ],
          [
           null,
           230.88724866649918,
           null,
           null,
           null
          ],
          [
           null,
           null,
           null,
           null,
           null
          ]
         ]
        },
        {
         "marker": {
          "color": "black",
          "line": {
           "color": "Grey",
           "width": 2
          }
         },
         "mode": "markers",
         "showlegend": false,
         "type": "scatter",
         "x": [
          8,
          3,
          6
         ],
         "xaxis": "x9",
         "y": [
          3,
          6,
          4
         ],
         "yaxis": "y9"
        },
        {
         "colorbar": {
          "title": {
           "text": "Objective Value"
          }
         },
         "colorscale": [
          [
           0,
           "rgb(247,251,255)"
          ],
          [
           0.125,
           "rgb(222,235,247)"
          ],
          [
           0.25,
           "rgb(198,219,239)"
          ],
          [
           0.375,
           "rgb(158,202,225)"
          ],
          [
           0.5,
           "rgb(107,174,214)"
          ],
          [
           0.625,
           "rgb(66,146,198)"
          ],
          [
           0.75,
           "rgb(33,113,181)"
          ],
          [
           0.875,
           "rgb(8,81,156)"
          ],
          [
           1,
           "rgb(8,48,107)"
          ]
         ],
         "connectgaps": true,
         "contours": {
          "coloring": "heatmap"
         },
         "hoverinfo": "none",
         "line": {
          "smoothing": 1.3
         },
         "reversescale": true,
         "showscale": false,
         "type": "contour",
         "x": [
          2.75,
          3,
          6,
          8,
          8.25
         ],
         "xaxis": "x14",
         "y": [
          1.9,
          2,
          4,
          4.1
         ],
         "yaxis": "y14",
         "z": [
          [
           null,
           null,
           null,
           null,
           null
          ],
          [
           null,
           null,
           240.49191661073345,
           null,
           null
          ],
          [
           null,
           230.88724866649918,
           null,
           233.45837719338016,
           null
          ],
          [
           null,
           null,
           null,
           null,
           null
          ]
         ]
        },
        {
         "marker": {
          "color": "black",
          "line": {
           "color": "Grey",
           "width": 2
          }
         },
         "mode": "markers",
         "showlegend": false,
         "type": "scatter",
         "x": [
          8,
          3,
          6
         ],
         "xaxis": "x14",
         "y": [
          4,
          4,
          2
         ],
         "yaxis": "y14"
        },
        {
         "type": "scatter",
         "xaxis": "x19",
         "yaxis": "y19"
        },
        {
         "colorbar": {
          "title": {
           "text": "Objective Value"
          }
         },
         "colorscale": [
          [
           0,
           "rgb(247,251,255)"
          ],
          [
           0.125,
           "rgb(222,235,247)"
          ],
          [
           0.25,
           "rgb(198,219,239)"
          ],
          [
           0.375,
           "rgb(158,202,225)"
          ],
          [
           0.5,
           "rgb(107,174,214)"
          ],
          [
           0.625,
           "rgb(66,146,198)"
          ],
          [
           0.75,
           "rgb(33,113,181)"
          ],
          [
           0.875,
           "rgb(8,81,156)"
          ],
          [
           1,
           "rgb(8,48,107)"
          ]
         ],
         "connectgaps": true,
         "contours": {
          "coloring": "heatmap"
         },
         "hoverinfo": "none",
         "line": {
          "smoothing": 1.3
         },
         "reversescale": true,
         "showscale": false,
         "type": "contour",
         "x": [
          2.75,
          3,
          6,
          8,
          8.25
         ],
         "xaxis": "x24",
         "y": [
          55,
          60,
          120,
          160,
          165
         ],
         "yaxis": "y24",
         "z": [
          [
           null,
           null,
           null,
           null,
           null
          ],
          [
           null,
           null,
           null,
           233.45837719338016,
           null
          ],
          [
           null,
           230.88724866649918,
           null,
           null,
           null
          ],
          [
           null,
           null,
           240.49191661073345,
           null,
           null
          ],
          [
           null,
           null,
           null,
           null,
           null
          ]
         ]
        },
        {
         "marker": {
          "color": "black",
          "line": {
           "color": "Grey",
           "width": 2
          }
         },
         "mode": "markers",
         "showlegend": false,
         "type": "scatter",
         "x": [
          8,
          3,
          6
         ],
         "xaxis": "x24",
         "y": [
          60,
          120,
          160
         ],
         "yaxis": "y24"
        },
        {
         "colorbar": {
          "title": {
           "text": "Objective Value"
          }
         },
         "colorscale": [
          [
           0,
           "rgb(247,251,255)"
          ],
          [
           0.125,
           "rgb(222,235,247)"
          ],
          [
           0.25,
           "rgb(198,219,239)"
          ],
          [
           0.375,
           "rgb(158,202,225)"
          ],
          [
           0.5,
           "rgb(107,174,214)"
          ],
          [
           0.625,
           "rgb(66,146,198)"
          ],
          [
           0.75,
           "rgb(33,113,181)"
          ],
          [
           0.875,
           "rgb(8,81,156)"
          ],
          [
           1,
           "rgb(8,48,107)"
          ]
         ],
         "connectgaps": true,
         "contours": {
          "coloring": "heatmap"
         },
         "hoverinfo": "none",
         "line": {
          "smoothing": 1.3
         },
         "reversescale": true,
         "showscale": false,
         "type": "contour",
         "x": [
          55,
          60,
          120,
          160,
          165
         ],
         "xaxis": "x5",
         "y": [
          3.8,
          4,
          7,
          8,
          8.2
         ],
         "yaxis": "y5",
         "z": [
          [
           null,
           null,
           null,
           null,
           null
          ],
          [
           null,
           null,
           null,
           240.49191661073345,
           null
          ],
          [
           null,
           233.45837719338016,
           null,
           null,
           null
          ],
          [
           null,
           null,
           230.88724866649918,
           null,
           null
          ],
          [
           null,
           null,
           null,
           null,
           null
          ]
         ]
        },
        {
         "marker": {
          "color": "black",
          "line": {
           "color": "Grey",
           "width": 2
          }
         },
         "mode": "markers",
         "showlegend": false,
         "type": "scatter",
         "x": [
          60,
          120,
          160
         ],
         "xaxis": "x5",
         "y": [
          7,
          8,
          4
         ],
         "yaxis": "y5"
        },
        {
         "colorbar": {
          "title": {
           "text": "Objective Value"
          }
         },
         "colorscale": [
          [
           0,
           "rgb(247,251,255)"
          ],
          [
           0.125,
           "rgb(222,235,247)"
          ],
          [
           0.25,
           "rgb(198,219,239)"
          ],
          [
           0.375,
           "rgb(158,202,225)"
          ],
          [
           0.5,
           "rgb(107,174,214)"
          ],
          [
           0.625,
           "rgb(66,146,198)"
          ],
          [
           0.75,
           "rgb(33,113,181)"
          ],
          [
           0.875,
           "rgb(8,81,156)"
          ],
          [
           1,
           "rgb(8,48,107)"
          ]
         ],
         "connectgaps": true,
         "contours": {
          "coloring": "heatmap"
         },
         "hoverinfo": "none",
         "line": {
          "smoothing": 1.3
         },
         "reversescale": true,
         "showscale": false,
         "type": "contour",
         "x": [
          55,
          60,
          120,
          160,
          165
         ],
         "xaxis": "x10",
         "y": [
          2.85,
          3,
          4,
          6,
          6.15
         ],
         "yaxis": "y10",
         "z": [
          [
           null,
           null,
           null,
           null,
           null
          ],
          [
           null,
           233.45837719338016,
           null,
           null,
           null
          ],
          [
           null,
           null,
           null,
           240.49191661073345,
           null
          ],
          [
           null,
           null,
           230.88724866649918,
           null,
           null
          ],
          [
           null,
           null,
           null,
           null,
           null
          ]
         ]
        },
        {
         "marker": {
          "color": "black",
          "line": {
           "color": "Grey",
           "width": 2
          }
         },
         "mode": "markers",
         "showlegend": false,
         "type": "scatter",
         "x": [
          60,
          120,
          160
         ],
         "xaxis": "x10",
         "y": [
          3,
          6,
          4
         ],
         "yaxis": "y10"
        },
        {
         "colorbar": {
          "title": {
           "text": "Objective Value"
          }
         },
         "colorscale": [
          [
           0,
           "rgb(247,251,255)"
          ],
          [
           0.125,
           "rgb(222,235,247)"
          ],
          [
           0.25,
           "rgb(198,219,239)"
          ],
          [
           0.375,
           "rgb(158,202,225)"
          ],
          [
           0.5,
           "rgb(107,174,214)"
          ],
          [
           0.625,
           "rgb(66,146,198)"
          ],
          [
           0.75,
           "rgb(33,113,181)"
          ],
          [
           0.875,
           "rgb(8,81,156)"
          ],
          [
           1,
           "rgb(8,48,107)"
          ]
         ],
         "connectgaps": true,
         "contours": {
          "coloring": "heatmap"
         },
         "hoverinfo": "none",
         "line": {
          "smoothing": 1.3
         },
         "reversescale": true,
         "showscale": false,
         "type": "contour",
         "x": [
          55,
          60,
          120,
          160,
          165
         ],
         "xaxis": "x15",
         "y": [
          1.9,
          2,
          4,
          4.1
         ],
         "yaxis": "y15",
         "z": [
          [
           null,
           null,
           null,
           null,
           null
          ],
          [
           null,
           null,
           null,
           240.49191661073345,
           null
          ],
          [
           null,
           233.45837719338016,
           230.88724866649918,
           null,
           null
          ],
          [
           null,
           null,
           null,
           null,
           null
          ]
         ]
        },
        {
         "marker": {
          "color": "black",
          "line": {
           "color": "Grey",
           "width": 2
          }
         },
         "mode": "markers",
         "showlegend": false,
         "type": "scatter",
         "x": [
          60,
          120,
          160
         ],
         "xaxis": "x15",
         "y": [
          4,
          4,
          2
         ],
         "yaxis": "y15"
        },
        {
         "colorbar": {
          "title": {
           "text": "Objective Value"
          }
         },
         "colorscale": [
          [
           0,
           "rgb(247,251,255)"
          ],
          [
           0.125,
           "rgb(222,235,247)"
          ],
          [
           0.25,
           "rgb(198,219,239)"
          ],
          [
           0.375,
           "rgb(158,202,225)"
          ],
          [
           0.5,
           "rgb(107,174,214)"
          ],
          [
           0.625,
           "rgb(66,146,198)"
          ],
          [
           0.75,
           "rgb(33,113,181)"
          ],
          [
           0.875,
           "rgb(8,81,156)"
          ],
          [
           1,
           "rgb(8,48,107)"
          ]
         ],
         "connectgaps": true,
         "contours": {
          "coloring": "heatmap"
         },
         "hoverinfo": "none",
         "line": {
          "smoothing": 1.3
         },
         "reversescale": true,
         "showscale": false,
         "type": "contour",
         "x": [
          55,
          60,
          120,
          160,
          165
         ],
         "xaxis": "x20",
         "y": [
          2.75,
          3,
          6,
          8,
          8.25
         ],
         "yaxis": "y20",
         "z": [
          [
           null,
           null,
           null,
           null,
           null
          ],
          [
           null,
           null,
           230.88724866649918,
           null,
           null
          ],
          [
           null,
           null,
           null,
           240.49191661073345,
           null
          ],
          [
           null,
           233.45837719338016,
           null,
           null,
           null
          ],
          [
           null,
           null,
           null,
           null,
           null
          ]
         ]
        },
        {
         "marker": {
          "color": "black",
          "line": {
           "color": "Grey",
           "width": 2
          }
         },
         "mode": "markers",
         "showlegend": false,
         "type": "scatter",
         "x": [
          60,
          120,
          160
         ],
         "xaxis": "x20",
         "y": [
          8,
          3,
          6
         ],
         "yaxis": "y20"
        },
        {
         "type": "scatter",
         "xaxis": "x25",
         "yaxis": "y25"
        }
       ],
       "layout": {
        "template": {
         "data": {
          "bar": [
           {
            "error_x": {
             "color": "#2a3f5f"
            },
            "error_y": {
             "color": "#2a3f5f"
            },
            "marker": {
             "line": {
              "color": "#E5ECF6",
              "width": 0.5
             },
             "pattern": {
              "fillmode": "overlay",
              "size": 10,
              "solidity": 0.2
             }
            },
            "type": "bar"
           }
          ],
          "barpolar": [
           {
            "marker": {
             "line": {
              "color": "#E5ECF6",
              "width": 0.5
             },
             "pattern": {
              "fillmode": "overlay",
              "size": 10,
              "solidity": 0.2
             }
            },
            "type": "barpolar"
           }
          ],
          "carpet": [
           {
            "aaxis": {
             "endlinecolor": "#2a3f5f",
             "gridcolor": "white",
             "linecolor": "white",
             "minorgridcolor": "white",
             "startlinecolor": "#2a3f5f"
            },
            "baxis": {
             "endlinecolor": "#2a3f5f",
             "gridcolor": "white",
             "linecolor": "white",
             "minorgridcolor": "white",
             "startlinecolor": "#2a3f5f"
            },
            "type": "carpet"
           }
          ],
          "choropleth": [
           {
            "colorbar": {
             "outlinewidth": 0,
             "ticks": ""
            },
            "type": "choropleth"
           }
          ],
          "contour": [
           {
            "colorbar": {
             "outlinewidth": 0,
             "ticks": ""
            },
            "colorscale": [
             [
              0,
              "#0d0887"
             ],
             [
              0.1111111111111111,
              "#46039f"
             ],
             [
              0.2222222222222222,
              "#7201a8"
             ],
             [
              0.3333333333333333,
              "#9c179e"
             ],
             [
              0.4444444444444444,
              "#bd3786"
             ],
             [
              0.5555555555555556,
              "#d8576b"
             ],
             [
              0.6666666666666666,
              "#ed7953"
             ],
             [
              0.7777777777777778,
              "#fb9f3a"
             ],
             [
              0.8888888888888888,
              "#fdca26"
             ],
             [
              1,
              "#f0f921"
             ]
            ],
            "type": "contour"
           }
          ],
          "contourcarpet": [
           {
            "colorbar": {
             "outlinewidth": 0,
             "ticks": ""
            },
            "type": "contourcarpet"
           }
          ],
          "heatmap": [
           {
            "colorbar": {
             "outlinewidth": 0,
             "ticks": ""
            },
            "colorscale": [
             [
              0,
              "#0d0887"
             ],
             [
              0.1111111111111111,
              "#46039f"
             ],
             [
              0.2222222222222222,
              "#7201a8"
             ],
             [
              0.3333333333333333,
              "#9c179e"
             ],
             [
              0.4444444444444444,
              "#bd3786"
             ],
             [
              0.5555555555555556,
              "#d8576b"
             ],
             [
              0.6666666666666666,
              "#ed7953"
             ],
             [
              0.7777777777777778,
              "#fb9f3a"
             ],
             [
              0.8888888888888888,
              "#fdca26"
             ],
             [
              1,
              "#f0f921"
             ]
            ],
            "type": "heatmap"
           }
          ],
          "heatmapgl": [
           {
            "colorbar": {
             "outlinewidth": 0,
             "ticks": ""
            },
            "colorscale": [
             [
              0,
              "#0d0887"
             ],
             [
              0.1111111111111111,
              "#46039f"
             ],
             [
              0.2222222222222222,
              "#7201a8"
             ],
             [
              0.3333333333333333,
              "#9c179e"
             ],
             [
              0.4444444444444444,
              "#bd3786"
             ],
             [
              0.5555555555555556,
              "#d8576b"
             ],
             [
              0.6666666666666666,
              "#ed7953"
             ],
             [
              0.7777777777777778,
              "#fb9f3a"
             ],
             [
              0.8888888888888888,
              "#fdca26"
             ],
             [
              1,
              "#f0f921"
             ]
            ],
            "type": "heatmapgl"
           }
          ],
          "histogram": [
           {
            "marker": {
             "pattern": {
              "fillmode": "overlay",
              "size": 10,
              "solidity": 0.2
             }
            },
            "type": "histogram"
           }
          ],
          "histogram2d": [
           {
            "colorbar": {
             "outlinewidth": 0,
             "ticks": ""
            },
            "colorscale": [
             [
              0,
              "#0d0887"
             ],
             [
              0.1111111111111111,
              "#46039f"
             ],
             [
              0.2222222222222222,
              "#7201a8"
             ],
             [
              0.3333333333333333,
              "#9c179e"
             ],
             [
              0.4444444444444444,
              "#bd3786"
             ],
             [
              0.5555555555555556,
              "#d8576b"
             ],
             [
              0.6666666666666666,
              "#ed7953"
             ],
             [
              0.7777777777777778,
              "#fb9f3a"
             ],
             [
              0.8888888888888888,
              "#fdca26"
             ],
             [
              1,
              "#f0f921"
             ]
            ],
            "type": "histogram2d"
           }
          ],
          "histogram2dcontour": [
           {
            "colorbar": {
             "outlinewidth": 0,
             "ticks": ""
            },
            "colorscale": [
             [
              0,
              "#0d0887"
             ],
             [
              0.1111111111111111,
              "#46039f"
             ],
             [
              0.2222222222222222,
              "#7201a8"
             ],
             [
              0.3333333333333333,
              "#9c179e"
             ],
             [
              0.4444444444444444,
              "#bd3786"
             ],
             [
              0.5555555555555556,
              "#d8576b"
             ],
             [
              0.6666666666666666,
              "#ed7953"
             ],
             [
              0.7777777777777778,
              "#fb9f3a"
             ],
             [
              0.8888888888888888,
              "#fdca26"
             ],
             [
              1,
              "#f0f921"
             ]
            ],
            "type": "histogram2dcontour"
           }
          ],
          "mesh3d": [
           {
            "colorbar": {
             "outlinewidth": 0,
             "ticks": ""
            },
            "type": "mesh3d"
           }
          ],
          "parcoords": [
           {
            "line": {
             "colorbar": {
              "outlinewidth": 0,
              "ticks": ""
             }
            },
            "type": "parcoords"
           }
          ],
          "pie": [
           {
            "automargin": true,
            "type": "pie"
           }
          ],
          "scatter": [
           {
            "fillpattern": {
             "fillmode": "overlay",
             "size": 10,
             "solidity": 0.2
            },
            "type": "scatter"
           }
          ],
          "scatter3d": [
           {
            "line": {
             "colorbar": {
              "outlinewidth": 0,
              "ticks": ""
             }
            },
            "marker": {
             "colorbar": {
              "outlinewidth": 0,
              "ticks": ""
             }
            },
            "type": "scatter3d"
           }
          ],
          "scattercarpet": [
           {
            "marker": {
             "colorbar": {
              "outlinewidth": 0,
              "ticks": ""
             }
            },
            "type": "scattercarpet"
           }
          ],
          "scattergeo": [
           {
            "marker": {
             "colorbar": {
              "outlinewidth": 0,
              "ticks": ""
             }
            },
            "type": "scattergeo"
           }
          ],
          "scattergl": [
           {
            "marker": {
             "colorbar": {
              "outlinewidth": 0,
              "ticks": ""
             }
            },
            "type": "scattergl"
           }
          ],
          "scattermapbox": [
           {
            "marker": {
             "colorbar": {
              "outlinewidth": 0,
              "ticks": ""
             }
            },
            "type": "scattermapbox"
           }
          ],
          "scatterpolar": [
           {
            "marker": {
             "colorbar": {
              "outlinewidth": 0,
              "ticks": ""
             }
            },
            "type": "scatterpolar"
           }
          ],
          "scatterpolargl": [
           {
            "marker": {
             "colorbar": {
              "outlinewidth": 0,
              "ticks": ""
             }
            },
            "type": "scatterpolargl"
           }
          ],
          "scatterternary": [
           {
            "marker": {
             "colorbar": {
              "outlinewidth": 0,
              "ticks": ""
             }
            },
            "type": "scatterternary"
           }
          ],
          "surface": [
           {
            "colorbar": {
             "outlinewidth": 0,
             "ticks": ""
            },
            "colorscale": [
             [
              0,
              "#0d0887"
             ],
             [
              0.1111111111111111,
              "#46039f"
             ],
             [
              0.2222222222222222,
              "#7201a8"
             ],
             [
              0.3333333333333333,
              "#9c179e"
             ],
             [
              0.4444444444444444,
              "#bd3786"
             ],
             [
              0.5555555555555556,
              "#d8576b"
             ],
             [
              0.6666666666666666,
              "#ed7953"
             ],
             [
              0.7777777777777778,
              "#fb9f3a"
             ],
             [
              0.8888888888888888,
              "#fdca26"
             ],
             [
              1,
              "#f0f921"
             ]
            ],
            "type": "surface"
           }
          ],
          "table": [
           {
            "cells": {
             "fill": {
              "color": "#EBF0F8"
             },
             "line": {
              "color": "white"
             }
            },
            "header": {
             "fill": {
              "color": "#C8D4E3"
             },
             "line": {
              "color": "white"
             }
            },
            "type": "table"
           }
          ]
         },
         "layout": {
          "annotationdefaults": {
           "arrowcolor": "#2a3f5f",
           "arrowhead": 0,
           "arrowwidth": 1
          },
          "autotypenumbers": "strict",
          "coloraxis": {
           "colorbar": {
            "outlinewidth": 0,
            "ticks": ""
           }
          },
          "colorscale": {
           "diverging": [
            [
             0,
             "#8e0152"
            ],
            [
             0.1,
             "#c51b7d"
            ],
            [
             0.2,
             "#de77ae"
            ],
            [
             0.3,
             "#f1b6da"
            ],
            [
             0.4,
             "#fde0ef"
            ],
            [
             0.5,
             "#f7f7f7"
            ],
            [
             0.6,
             "#e6f5d0"
            ],
            [
             0.7,
             "#b8e186"
            ],
            [
             0.8,
             "#7fbc41"
            ],
            [
             0.9,
             "#4d9221"
            ],
            [
             1,
             "#276419"
            ]
           ],
           "sequential": [
            [
             0,
             "#0d0887"
            ],
            [
             0.1111111111111111,
             "#46039f"
            ],
            [
             0.2222222222222222,
             "#7201a8"
            ],
            [
             0.3333333333333333,
             "#9c179e"
            ],
            [
             0.4444444444444444,
             "#bd3786"
            ],
            [
             0.5555555555555556,
             "#d8576b"
            ],
            [
             0.6666666666666666,
             "#ed7953"
            ],
            [
             0.7777777777777778,
             "#fb9f3a"
            ],
            [
             0.8888888888888888,
             "#fdca26"
            ],
            [
             1,
             "#f0f921"
            ]
           ],
           "sequentialminus": [
            [
             0,
             "#0d0887"
            ],
            [
             0.1111111111111111,
             "#46039f"
            ],
            [
             0.2222222222222222,
             "#7201a8"
            ],
            [
             0.3333333333333333,
             "#9c179e"
            ],
            [
             0.4444444444444444,
             "#bd3786"
            ],
            [
             0.5555555555555556,
             "#d8576b"
            ],
            [
             0.6666666666666666,
             "#ed7953"
            ],
            [
             0.7777777777777778,
             "#fb9f3a"
            ],
            [
             0.8888888888888888,
             "#fdca26"
            ],
            [
             1,
             "#f0f921"
            ]
           ]
          },
          "colorway": [
           "#636efa",
           "#EF553B",
           "#00cc96",
           "#ab63fa",
           "#FFA15A",
           "#19d3f3",
           "#FF6692",
           "#B6E880",
           "#FF97FF",
           "#FECB52"
          ],
          "font": {
           "color": "#2a3f5f"
          },
          "geo": {
           "bgcolor": "white",
           "lakecolor": "white",
           "landcolor": "#E5ECF6",
           "showlakes": true,
           "showland": true,
           "subunitcolor": "white"
          },
          "hoverlabel": {
           "align": "left"
          },
          "hovermode": "closest",
          "mapbox": {
           "style": "light"
          },
          "paper_bgcolor": "white",
          "plot_bgcolor": "#E5ECF6",
          "polar": {
           "angularaxis": {
            "gridcolor": "white",
            "linecolor": "white",
            "ticks": ""
           },
           "bgcolor": "#E5ECF6",
           "radialaxis": {
            "gridcolor": "white",
            "linecolor": "white",
            "ticks": ""
           }
          },
          "scene": {
           "xaxis": {
            "backgroundcolor": "#E5ECF6",
            "gridcolor": "white",
            "gridwidth": 2,
            "linecolor": "white",
            "showbackground": true,
            "ticks": "",
            "zerolinecolor": "white"
           },
           "yaxis": {
            "backgroundcolor": "#E5ECF6",
            "gridcolor": "white",
            "gridwidth": 2,
            "linecolor": "white",
            "showbackground": true,
            "ticks": "",
            "zerolinecolor": "white"
           },
           "zaxis": {
            "backgroundcolor": "#E5ECF6",
            "gridcolor": "white",
            "gridwidth": 2,
            "linecolor": "white",
            "showbackground": true,
            "ticks": "",
            "zerolinecolor": "white"
           }
          },
          "shapedefaults": {
           "line": {
            "color": "#2a3f5f"
           }
          },
          "ternary": {
           "aaxis": {
            "gridcolor": "white",
            "linecolor": "white",
            "ticks": ""
           },
           "baxis": {
            "gridcolor": "white",
            "linecolor": "white",
            "ticks": ""
           },
           "bgcolor": "#E5ECF6",
           "caxis": {
            "gridcolor": "white",
            "linecolor": "white",
            "ticks": ""
           }
          },
          "title": {
           "x": 0.05
          },
          "xaxis": {
           "automargin": true,
           "gridcolor": "white",
           "linecolor": "white",
           "ticks": "",
           "title": {
            "standoff": 15
           },
           "zerolinecolor": "white",
           "zerolinewidth": 2
          },
          "yaxis": {
           "automargin": true,
           "gridcolor": "white",
           "linecolor": "white",
           "ticks": "",
           "title": {
            "standoff": 15
           },
           "zerolinecolor": "white",
           "zerolinewidth": 2
          }
         }
        },
        "title": {
         "text": "Contour Plot"
        },
        "xaxis": {
         "anchor": "y",
         "domain": [
          0,
          0.16799999999999998
         ],
         "matches": "x21",
         "range": [
          3.8,
          8.2
         ],
         "showticklabels": false
        },
        "xaxis10": {
         "anchor": "y10",
         "domain": [
          0.832,
          1
         ],
         "matches": "x25",
         "range": [
          55,
          165
         ],
         "showticklabels": false
        },
        "xaxis11": {
         "anchor": "y11",
         "domain": [
          0,
          0.16799999999999998
         ],
         "matches": "x21",
         "range": [
          3.8,
          8.2
         ],
         "showticklabels": false
        },
        "xaxis12": {
         "anchor": "y12",
         "domain": [
          0.208,
          0.376
         ],
         "matches": "x22",
         "range": [
          2.85,
          6.15
         ],
         "showticklabels": false
        },
        "xaxis13": {
         "anchor": "y13",
         "domain": [
          0.416,
          0.584
         ],
         "matches": "x23",
         "range": [
          1.9,
          4.1
         ],
         "showticklabels": false
        },
        "xaxis14": {
         "anchor": "y14",
         "domain": [
          0.624,
          0.792
         ],
         "matches": "x24",
         "range": [
          2.75,
          8.25
         ],
         "showticklabels": false
        },
        "xaxis15": {
         "anchor": "y15",
         "domain": [
          0.832,
          1
         ],
         "matches": "x25",
         "range": [
          55,
          165
         ],
         "showticklabels": false
        },
        "xaxis16": {
         "anchor": "y16",
         "domain": [
          0,
          0.16799999999999998
         ],
         "matches": "x21",
         "range": [
          3.8,
          8.2
         ],
         "showticklabels": false
        },
        "xaxis17": {
         "anchor": "y17",
         "domain": [
          0.208,
          0.376
         ],
         "matches": "x22",
         "range": [
          2.85,
          6.15
         ],
         "showticklabels": false
        },
        "xaxis18": {
         "anchor": "y18",
         "domain": [
          0.416,
          0.584
         ],
         "matches": "x23",
         "range": [
          1.9,
          4.1
         ],
         "showticklabels": false
        },
        "xaxis19": {
         "anchor": "y19",
         "domain": [
          0.624,
          0.792
         ],
         "matches": "x24",
         "range": [
          2.75,
          8.25
         ],
         "showticklabels": false
        },
        "xaxis2": {
         "anchor": "y2",
         "domain": [
          0.208,
          0.376
         ],
         "matches": "x22",
         "range": [
          2.85,
          6.15
         ],
         "showticklabels": false
        },
        "xaxis20": {
         "anchor": "y20",
         "domain": [
          0.832,
          1
         ],
         "matches": "x25",
         "range": [
          55,
          165
         ],
         "showticklabels": false
        },
        "xaxis21": {
         "anchor": "y21",
         "domain": [
          0,
          0.16799999999999998
         ],
         "range": [
          3.8,
          8.2
         ],
         "title": {
          "text": "max_depth"
         }
        },
        "xaxis22": {
         "anchor": "y22",
         "domain": [
          0.208,
          0.376
         ],
         "range": [
          2.85,
          6.15
         ],
         "title": {
          "text": "max_features"
         }
        },
        "xaxis23": {
         "anchor": "y23",
         "domain": [
          0.416,
          0.584
         ],
         "range": [
          1.9,
          4.1
         ],
         "title": {
          "text": "min_samples_leaf"
         }
        },
        "xaxis24": {
         "anchor": "y24",
         "domain": [
          0.624,
          0.792
         ],
         "range": [
          2.75,
          8.25
         ],
         "title": {
          "text": "min_samples_split"
         }
        },
        "xaxis25": {
         "anchor": "y25",
         "domain": [
          0.832,
          1
         ],
         "range": [
          55,
          165
         ],
         "title": {
          "text": "n_estimators"
         }
        },
        "xaxis3": {
         "anchor": "y3",
         "domain": [
          0.416,
          0.584
         ],
         "matches": "x23",
         "range": [
          1.9,
          4.1
         ],
         "showticklabels": false
        },
        "xaxis4": {
         "anchor": "y4",
         "domain": [
          0.624,
          0.792
         ],
         "matches": "x24",
         "range": [
          2.75,
          8.25
         ],
         "showticklabels": false
        },
        "xaxis5": {
         "anchor": "y5",
         "domain": [
          0.832,
          1
         ],
         "matches": "x25",
         "range": [
          55,
          165
         ],
         "showticklabels": false
        },
        "xaxis6": {
         "anchor": "y6",
         "domain": [
          0,
          0.16799999999999998
         ],
         "matches": "x21",
         "range": [
          3.8,
          8.2
         ],
         "showticklabels": false
        },
        "xaxis7": {
         "anchor": "y7",
         "domain": [
          0.208,
          0.376
         ],
         "matches": "x22",
         "range": [
          2.85,
          6.15
         ],
         "showticklabels": false
        },
        "xaxis8": {
         "anchor": "y8",
         "domain": [
          0.416,
          0.584
         ],
         "matches": "x23",
         "range": [
          1.9,
          4.1
         ],
         "showticklabels": false
        },
        "xaxis9": {
         "anchor": "y9",
         "domain": [
          0.624,
          0.792
         ],
         "matches": "x24",
         "range": [
          2.75,
          8.25
         ],
         "showticklabels": false
        },
        "yaxis": {
         "anchor": "x",
         "domain": [
          0.848,
          1
         ],
         "range": [
          3.8,
          8.2
         ],
         "title": {
          "text": "max_depth"
         }
        },
        "yaxis10": {
         "anchor": "x10",
         "domain": [
          0.6359999999999999,
          0.7879999999999999
         ],
         "matches": "y6",
         "range": [
          2.85,
          6.15
         ],
         "showticklabels": false
        },
        "yaxis11": {
         "anchor": "x11",
         "domain": [
          0.424,
          0.576
         ],
         "range": [
          1.9,
          4.1
         ],
         "title": {
          "text": "min_samples_leaf"
         }
        },
        "yaxis12": {
         "anchor": "x12",
         "domain": [
          0.424,
          0.576
         ],
         "matches": "y11",
         "range": [
          1.9,
          4.1
         ],
         "showticklabels": false
        },
        "yaxis13": {
         "anchor": "x13",
         "domain": [
          0.424,
          0.576
         ],
         "matches": "y11",
         "range": [
          1.9,
          4.1
         ],
         "showticklabels": false
        },
        "yaxis14": {
         "anchor": "x14",
         "domain": [
          0.424,
          0.576
         ],
         "matches": "y11",
         "range": [
          1.9,
          4.1
         ],
         "showticklabels": false
        },
        "yaxis15": {
         "anchor": "x15",
         "domain": [
          0.424,
          0.576
         ],
         "matches": "y11",
         "range": [
          1.9,
          4.1
         ],
         "showticklabels": false
        },
        "yaxis16": {
         "anchor": "x16",
         "domain": [
          0.212,
          0.364
         ],
         "range": [
          2.75,
          8.25
         ],
         "title": {
          "text": "min_samples_split"
         }
        },
        "yaxis17": {
         "anchor": "x17",
         "domain": [
          0.212,
          0.364
         ],
         "matches": "y16",
         "range": [
          2.75,
          8.25
         ],
         "showticklabels": false
        },
        "yaxis18": {
         "anchor": "x18",
         "domain": [
          0.212,
          0.364
         ],
         "matches": "y16",
         "range": [
          2.75,
          8.25
         ],
         "showticklabels": false
        },
        "yaxis19": {
         "anchor": "x19",
         "domain": [
          0.212,
          0.364
         ],
         "matches": "y16",
         "range": [
          2.75,
          8.25
         ],
         "showticklabels": false
        },
        "yaxis2": {
         "anchor": "x2",
         "domain": [
          0.848,
          1
         ],
         "matches": "y",
         "range": [
          3.8,
          8.2
         ],
         "showticklabels": false
        },
        "yaxis20": {
         "anchor": "x20",
         "domain": [
          0.212,
          0.364
         ],
         "matches": "y16",
         "range": [
          2.75,
          8.25
         ],
         "showticklabels": false
        },
        "yaxis21": {
         "anchor": "x21",
         "domain": [
          0,
          0.152
         ],
         "range": [
          55,
          165
         ],
         "title": {
          "text": "n_estimators"
         }
        },
        "yaxis22": {
         "anchor": "x22",
         "domain": [
          0,
          0.152
         ],
         "matches": "y21",
         "range": [
          55,
          165
         ],
         "showticklabels": false
        },
        "yaxis23": {
         "anchor": "x23",
         "domain": [
          0,
          0.152
         ],
         "matches": "y21",
         "range": [
          55,
          165
         ],
         "showticklabels": false
        },
        "yaxis24": {
         "anchor": "x24",
         "domain": [
          0,
          0.152
         ],
         "matches": "y21",
         "range": [
          55,
          165
         ],
         "showticklabels": false
        },
        "yaxis25": {
         "anchor": "x25",
         "domain": [
          0,
          0.152
         ],
         "matches": "y21",
         "range": [
          55,
          165
         ],
         "showticklabels": false
        },
        "yaxis3": {
         "anchor": "x3",
         "domain": [
          0.848,
          1
         ],
         "matches": "y",
         "range": [
          3.8,
          8.2
         ],
         "showticklabels": false
        },
        "yaxis4": {
         "anchor": "x4",
         "domain": [
          0.848,
          1
         ],
         "matches": "y",
         "range": [
          3.8,
          8.2
         ],
         "showticklabels": false
        },
        "yaxis5": {
         "anchor": "x5",
         "domain": [
          0.848,
          1
         ],
         "matches": "y",
         "range": [
          3.8,
          8.2
         ],
         "showticklabels": false
        },
        "yaxis6": {
         "anchor": "x6",
         "domain": [
          0.6359999999999999,
          0.7879999999999999
         ],
         "range": [
          2.85,
          6.15
         ],
         "title": {
          "text": "max_features"
         }
        },
        "yaxis7": {
         "anchor": "x7",
         "domain": [
          0.6359999999999999,
          0.7879999999999999
         ],
         "matches": "y6",
         "range": [
          2.85,
          6.15
         ],
         "showticklabels": false
        },
        "yaxis8": {
         "anchor": "x8",
         "domain": [
          0.6359999999999999,
          0.7879999999999999
         ],
         "matches": "y6",
         "range": [
          2.85,
          6.15
         ],
         "showticklabels": false
        },
        "yaxis9": {
         "anchor": "x9",
         "domain": [
          0.6359999999999999,
          0.7879999999999999
         ],
         "matches": "y6",
         "range": [
          2.85,
          6.15
         ],
         "showticklabels": false
        }
       }
      }
     },
     "metadata": {},
     "output_type": "display_data"
    },
    {
     "name": "stdout",
     "output_type": "stream",
     "text": [
      "\n",
      "The best hyperparameters for RF Regressor: {'n_estimators': 120, 'max_depth': 8, 'min_samples_split': 3, 'min_samples_leaf': 4, 'max_features': 6}\n",
      "\n",
      "MAE of the best Random Forest Regressor: Training data 165.382\n",
      "MAE of the best Random Forest Regressor: Test data 250.493\n"
     ]
    },
    {
     "data": {
      "image/png": "[encoded data removed]",
      "text/plain": [
       "<Figure size 432x288 with 1 Axes>"
      ]
     },
     "metadata": {
      "needs_background": "light"
     },
     "output_type": "display_data"
    }
   ],
   "source": [
    "\"\"\" \n",
    "A smaller value of n_trials can be used to run the code faster\n",
    "\n",
    "best_model: the untrained RF model with best hyperparameters\n",
    "final_trained_model_train_data: the best RF model trained on a \"training\" dataset (85% of the sample)\n",
    "final_trained_model_full_data: the best RF model trained on the full sample!\n",
    "\"\"\"\n",
    "best_model, final_trained_model_train_data, final_trained_model_full_data = RF_training_with_display(X,y, test_size = 0.15, n_trials = 3, display = True)"
   ]
  },
  {
   "cell_type": "markdown",
   "metadata": {},
   "source": [
    "### While the training process involves cross-validation, in the figures below, I show how the process is done on a single example.\n",
    "\n",
    "- Splitting sample into training and testing sets\n",
    "- Training the model using the \"best\" hyperparameters taken from the output of the previous function.\n",
    "- Showing the original M-R and the predicted M-R diagrams"
   ]
  },
  {
   "cell_type": "code",
   "execution_count": 24,
   "metadata": {},
   "outputs": [
    {
     "name": "stdout",
     "output_type": "stream",
     "text": [
      "Sizes of the samples:\n",
      "Train = 663, Test = 118\n"
     ]
    },
    {
     "data": {
      "text/plain": [
       "Text(0.5, 1.0, 'Training and Test data sets')"
      ]
     },
     "execution_count": 24,
     "metadata": {},
     "output_type": "execute_result"
    },
    {
     "data": {
      "image/png": "[encoded data removed]",
      "text/plain": [
       "<Figure size 720x504 with 1 Axes>"
      ]
     },
     "metadata": {
      "needs_background": "light"
     },
     "output_type": "display_data"
    }
   ],
   "source": [
    "X_train, X_test, y_train, y_test = train_test_split(X, y, test_size=0.15)\n",
    "\n",
    "print (f'Sizes of the samples:\\nTrain = {len(X_train)}, Test = {len(X_test)}')\n",
    "\n",
    "fig = plt.figure(figsize = (10,7))\n",
    "ax = plt.subplot(1,1,1)\n",
    "best_model.fit(X_train, y_train)\n",
    "MR_plot(ax, y_train, X_train.pl_rade, color = 'gray', label = 'Train', xscale = 'log', yscale = 'log')\n",
    "MR_plot(ax, y_test, X_test.pl_rade, color = 'black', label = 'Test', xscale = 'log', yscale = 'log')\n",
    "plt.legend(loc = 'best')\n",
    "plt.title('Training and Test data sets', fontsize = 15)"
   ]
  },
  {
   "cell_type": "code",
   "execution_count": 25,
   "metadata": {},
   "outputs": [
    {
     "data": {
      "text/plain": [
       "Text(0.5, 1.0, 'M-R diagram for the original and predicted  TEST data set')"
      ]
     },
     "execution_count": 25,
     "metadata": {},
     "output_type": "execute_result"
    },
    {
     "data": {
      "image/png": "[encoded data removed]",
      "text/plain": [
       "<Figure size 720x504 with 1 Axes>"
      ]
     },
     "metadata": {
      "needs_background": "light"
     },
     "output_type": "display_data"
    }
   ],
   "source": [
    "fig = plt.figure(figsize = (10,7))\n",
    "ax = plt.subplot(1,1,1)\n",
    "best_model.fit(X_train, y_train)\n",
    "M_predict_test = best_model.predict(X_test)\n",
    "MR_plot(ax, y_test, X_test.pl_rade, color = 'gray', label = 'Observed', xscale = 'log', yscale = 'log')\n",
    "MR_plot(ax, M_predict_test, X_test.pl_rade, color = 'black', label = 'predicted', xscale = 'log', yscale = 'log')\n",
    "plt.legend(loc = 'best')\n",
    "\n",
    "plt.title('M-R diagram for the original and predicted  TEST data set', fontsize = 15)\n"
   ]
  },
  {
   "cell_type": "markdown",
   "metadata": {},
   "source": [
    "### After training the model, it is time to predict Masses of planets without mass estimated"
   ]
  },
  {
   "cell_type": "code",
   "execution_count": 26,
   "metadata": {},
   "outputs": [
    {
     "name": "stderr",
     "output_type": "stream",
     "text": [
      "/home/vadibekyan/my_kaggle/mr_utils.py:314: SettingWithCopyWarning:\n",
      "\n",
      "\n",
      "A value is trying to be set on a copy of a slice from a DataFrame.\n",
      "Try using .loc[row_indexer,col_indexer] = value instead\n",
      "\n",
      "See the caveats in the documentation: https://pandas.pydata.org/pandas-docs/stable/user_guide/indexing.html#returning-a-view-versus-a-copy\n",
      "\n"
     ]
    }
   ],
   "source": [
    "# Selects planets without masses, but with relatively high precision (relative precision better than 50%) in R\n",
    "nea_R_final_table = creating_R_ML_table(nea_full_table)"
   ]
  },
  {
   "cell_type": "code",
   "execution_count": 29,
   "metadata": {},
   "outputs": [],
   "source": [
    "nea_R_final_table.to_csv('radius_mass.csv', index = False)"
   ]
  },
  {
   "cell_type": "markdown",
   "metadata": {},
   "source": [
    "### Predicting M from R and other relevant parameters. Displaying the M-R diagram"
   ]
  },
  {
   "cell_type": "code",
   "execution_count": 27,
   "metadata": {},
   "outputs": [
    {
     "data": {
      "text/plain": [
       "<matplotlib.legend.Legend at 0x7fc179fb5850>"
      ]
     },
     "execution_count": 27,
     "metadata": {},
     "output_type": "execute_result"
    },
    {
     "data": {
      "image/png": "[encoded data removed]",
      "text/plain": [
       "<Figure size 720x504 with 1 Axes>"
      ]
     },
     "metadata": {
      "needs_background": "light"
     },
     "output_type": "display_data"
    }
   ],
   "source": [
    "M_pred = final_trained_model_full_data.predict(nea_R_final_table)\n",
    "\n",
    "fig = plt.figure(figsize = (10,7))\n",
    "ax = plt.subplot(1,1, 1)\n",
    "MR_plot(ax, nea_MR_final_table.pl_bmasse, nea_MR_final_table.pl_rade, color = 'gray', label = 'Observed')\n",
    "MR_plot(ax, M_pred, nea_R_final_table.pl_rade, color = 'black', label ='Predicted', xscale = 'log', yscale = 'log')\n",
    "plt.legend(loc = 'best')\n"
   ]
  },
  {
   "cell_type": "code",
   "execution_count": 28,
   "metadata": {},
   "outputs": [
    {
     "data": {
      "text/plain": [
       "162.0933"
      ]
     },
     "execution_count": 28,
     "metadata": {},
     "output_type": "execute_result"
    }
   ],
   "source": [
    "nea_MR_final_table['pl_bmasse'].median()"
   ]
  },
  {
   "cell_type": "markdown",
   "metadata": {},
   "source": [
    "# Training on logarithmic Mass\n",
    "\n",
    "The masses of planets range from 0.07 to 6388 Mearth, with a mean and median values of ~340 and 160 MEarth. The skewed and bimodal distribution of the masses seems to lead to overestimation of the prediced masses and some 'strange' patterns (this might be also due to overfitting?). Better to train the model on log Masses."
   ]
  },
  {
   "cell_type": "code",
   "execution_count": 29,
   "metadata": {},
   "outputs": [],
   "source": [
    "nea_logMR_final_table = nea_MR_final_table.copy()\n",
    "\n",
    "nea_logMR_final_table['pl_bmasse_log'] = np.log10(nea_logMR_final_table['pl_bmasse'])\n",
    "\n",
    "y_log = nea_logMR_final_table['pl_bmasse_log']\n",
    "X_log = nea_logMR_final_table.drop(columns = ['pl_bmasse', 'pl_bmasse_log'])"
   ]
  },
  {
   "cell_type": "code",
   "execution_count": 30,
   "metadata": {},
   "outputs": [
    {
     "name": "stderr",
     "output_type": "stream",
     "text": [
      "\u001b[32m[I 2023-07-29 16:34:40,150]\u001b[0m A new study created in memory with name: no-name-25707d45-6613-4ef9-a097-ec036e67c7bb\u001b[0m\n"
     ]
    },
    {
     "name": "stdout",
     "output_type": "stream",
     "text": [
      "The base MAE score from the training set is 0\n"
     ]
    },
    {
     "name": "stderr",
     "output_type": "stream",
     "text": [
      "\u001b[32m[I 2023-07-29 16:34:41,116]\u001b[0m Trial 0 finished with value: 0.23720423271931274 and parameters: {'n_estimators': 80, 'max_depth': 10, 'min_samples_split': 4, 'min_samples_leaf': 5, 'max_features': 3}. Best is trial 0 with value: 0.23720423271931274.\u001b[0m\n",
      "\u001b[32m[I 2023-07-29 16:34:42,874]\u001b[0m Trial 1 finished with value: 0.2411987814298333 and parameters: {'n_estimators': 140, 'max_depth': 5, 'min_samples_split': 7, 'min_samples_leaf': 3, 'max_features': 6}. Best is trial 0 with value: 0.23720423271931274.\u001b[0m\n",
      "\u001b[32m[I 2023-07-29 16:34:45,188]\u001b[0m Trial 2 finished with value: 0.23481117068573315 and parameters: {'n_estimators': 160, 'max_depth': 11, 'min_samples_split': 8, 'min_samples_leaf': 3, 'max_features': 5}. Best is trial 2 with value: 0.23481117068573315.\u001b[0m\n"
     ]
    },
    {
     "name": "stdout",
     "output_type": "stream",
     "text": [
      "\n",
      "The best hyperparameters for RF Regressor: {'n_estimators': 160, 'max_depth': 11, 'min_samples_split': 8, 'min_samples_leaf': 3, 'max_features': 5}\n",
      "\n",
      "MAE of the best Random Forest Regressor: Training data 0.139\n",
      "MAE of the best Random Forest Regressor: Test data 0.217\n"
     ]
    },
    {
     "data": {
      "image/png": "[encoded data removed]",
      "text/plain": [
       "<Figure size 432x288 with 1 Axes>"
      ]
     },
     "metadata": {
      "needs_background": "light"
     },
     "output_type": "display_data"
    }
   ],
   "source": [
    "# A smaller value of n_trials can be used to run the code faster\n",
    "best_model_log, final_model_train_data_log, final_model_full_data_log = RF_training_with_display(X_log,y_log, test_size = 0.15, n_trials = 3)"
   ]
  },
  {
   "cell_type": "markdown",
   "metadata": {},
   "source": [
    "### Displaying predicted masses based on the model that was trained on log(M)"
   ]
  },
  {
   "cell_type": "code",
   "execution_count": 31,
   "metadata": {},
   "outputs": [
    {
     "data": {
      "text/plain": [
       "<matplotlib.legend.Legend at 0x7fc174016700>"
      ]
     },
     "execution_count": 31,
     "metadata": {},
     "output_type": "execute_result"
    },
    {
     "data": {
      "image/png": "[encoded data removed]",
      "text/plain": [
       "<Figure size 720x504 with 1 Axes>"
      ]
     },
     "metadata": {
      "needs_background": "light"
     },
     "output_type": "display_data"
    }
   ],
   "source": [
    "M_predict = np.power(10,final_model_train_data_log.predict(nea_R_final_table))\n",
    "\n",
    "fig = plt.figure(figsize = (10,7))\n",
    "ax = plt.subplot(1,1, 1)\n",
    "MR_plot(ax, nea_MR_final_table.pl_bmasse, nea_MR_final_table.pl_rade, color = 'gray', label = 'Observed')\n",
    "MR_plot(ax, M_predict, nea_R_final_table.pl_rade, color = 'black', xscale = 'log', yscale = 'log', label = 'Predicted')\n",
    "plt.legend(loc = 'best')\n"
   ]
  },
  {
   "cell_type": "markdown",
   "metadata": {},
   "source": [
    "### Overall, the distributions seem to be comparable"
   ]
  },
  {
   "cell_type": "markdown",
   "metadata": {},
   "source": [
    "# The final code \"mr_pl.py\"\n",
    "\n",
    "This is the code that one can run to predict masses from R"
   ]
  },
  {
   "cell_type": "code",
   "execution_count": 32,
   "metadata": {},
   "outputs": [
    {
     "ename": "FileNotFoundError",
     "evalue": "[Errno 2] No such file or directory: 'RF_model_trained.pkl'",
     "output_type": "error",
     "traceback": [
      "\u001b[0;31m---------------------------------------------------------------------------\u001b[0m",
      "\u001b[0;31mFileNotFoundError\u001b[0m                         Traceback (most recent call last)",
      "\u001b[1;32m/home/vadibekyan/my_kaggle/mr_ml.ipynb Cell 58\u001b[0m in \u001b[0;36m<cell line: 1>\u001b[0;34m()\u001b[0m\n\u001b[0;32m----> <a href='vscode-notebook-cell:/home/vadibekyan/my_kaggle/mr_ml.ipynb#Y111sZmlsZQ%3D%3D?line=0'>1</a>\u001b[0m M_pred \u001b[39m=\u001b[39m mass_from_radius(nea_R_final_table, training \u001b[39m=\u001b[39;49m \u001b[39mFalse\u001b[39;49;00m)\n\u001b[1;32m      <a href='vscode-notebook-cell:/home/vadibekyan/my_kaggle/mr_ml.ipynb#Y111sZmlsZQ%3D%3D?line=1'>2</a>\u001b[0m fig \u001b[39m=\u001b[39m plt\u001b[39m.\u001b[39mfigure(figsize \u001b[39m=\u001b[39m (\u001b[39m10\u001b[39m,\u001b[39m7\u001b[39m))\n\u001b[1;32m      <a href='vscode-notebook-cell:/home/vadibekyan/my_kaggle/mr_ml.ipynb#Y111sZmlsZQ%3D%3D?line=2'>3</a>\u001b[0m ax \u001b[39m=\u001b[39m plt\u001b[39m.\u001b[39msubplot(\u001b[39m1\u001b[39m,\u001b[39m1\u001b[39m, \u001b[39m1\u001b[39m)\n",
      "File \u001b[0;32m~/my_kaggle/m_from_r.py:42\u001b[0m, in \u001b[0;36mmass_from_radius\u001b[0;34m(R_ML_table, training)\u001b[0m\n\u001b[1;32m     40\u001b[0m     final_trained_model_full_data \u001b[39m=\u001b[39m MR_RF_training(MR_ML_table)\n\u001b[1;32m     41\u001b[0m \u001b[39mif\u001b[39;00m \u001b[39mnot\u001b[39;00m training:\n\u001b[0;32m---> 42\u001b[0m     final_trained_model_full_data \u001b[39m=\u001b[39m joblib\u001b[39m.\u001b[39;49mload(\u001b[39m'\u001b[39;49m\u001b[39mRF_model_trained.pkl\u001b[39;49m\u001b[39m'\u001b[39;49m)\n\u001b[1;32m     44\u001b[0m M_pred \u001b[39m=\u001b[39m np\u001b[39m.\u001b[39mpower(\u001b[39m10\u001b[39m, final_trained_model_full_data\u001b[39m.\u001b[39mpredict(R_ML_table))\n\u001b[1;32m     46\u001b[0m \u001b[39mreturn\u001b[39;00m M_pred\n",
      "File \u001b[0;32m/usr/local/lib/python3.8/dist-packages/joblib-1.0.1-py3.8.egg/joblib/numpy_pickle.py:577\u001b[0m, in \u001b[0;36mload\u001b[0;34m(filename, mmap_mode)\u001b[0m\n\u001b[1;32m    575\u001b[0m         obj \u001b[39m=\u001b[39m _unpickle(fobj)\n\u001b[1;32m    576\u001b[0m \u001b[39melse\u001b[39;00m:\n\u001b[0;32m--> 577\u001b[0m     \u001b[39mwith\u001b[39;00m \u001b[39mopen\u001b[39;49m(filename, \u001b[39m'\u001b[39;49m\u001b[39mrb\u001b[39;49m\u001b[39m'\u001b[39;49m) \u001b[39mas\u001b[39;00m f:\n\u001b[1;32m    578\u001b[0m         \u001b[39mwith\u001b[39;00m _read_fileobject(f, filename, mmap_mode) \u001b[39mas\u001b[39;00m fobj:\n\u001b[1;32m    579\u001b[0m             \u001b[39mif\u001b[39;00m \u001b[39misinstance\u001b[39m(fobj, \u001b[39mstr\u001b[39m):\n\u001b[1;32m    580\u001b[0m                 \u001b[39m# if the returned file object is a string, this means we\u001b[39;00m\n\u001b[1;32m    581\u001b[0m                 \u001b[39m# try to load a pickle file generated with an version of\u001b[39;00m\n\u001b[1;32m    582\u001b[0m                 \u001b[39m# Joblib so we load it with joblib compatibility function.\u001b[39;00m\n",
      "\u001b[0;31mFileNotFoundError\u001b[0m: [Errno 2] No such file or directory: 'RF_model_trained.pkl'"
     ]
    }
   ],
   "source": [
    "M_pred = mass_from_radius(nea_R_final_table, training = False)\n",
    "fig = plt.figure(figsize = (10,7))\n",
    "ax = plt.subplot(1,1, 1)\n",
    "MR_plot(ax, nea_MR_final_table.pl_bmasse, nea_MR_final_table.pl_rade, color = 'gray', label = 'Observed')\n",
    "MR_plot(ax, M_pred, nea_R_final_table.pl_rade, color = 'black', xscale = 'log', yscale = 'log', label = 'Predicted')\n",
    "plt.legend(loc = 'best')"
   ]
  }
 ],
 "metadata": {
  "kernelspec": {
   "display_name": "Python 3",
   "language": "python",
   "name": "python3"
  },
  "language_info": {
   "codemirror_mode": {
    "name": "ipython",
    "version": 3
   },
   "file_extension": ".py",
   "mimetype": "text/x-python",
   "name": "python",
   "nbconvert_exporter": "python",
   "pygments_lexer": "ipython3",
   "version": "3.8.10"
  },
  "orig_nbformat": 4
 },
 "nbformat": 4,
 "nbformat_minor": 2
}
